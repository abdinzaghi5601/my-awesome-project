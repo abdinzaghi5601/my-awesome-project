{
 "cells": [
  {
   "cell_type": "code",
   "execution_count": 16,
   "id": "e83bd23c",
   "metadata": {},
   "outputs": [
    {
     "name": "stdout",
     "output_type": "stream",
     "text": [
      "Requirement already satisfied: pandas in c:\\users\\abdul\\desktop\\practise tata\\.venv_tf\\lib\\site-packages (2.3.0)\n",
      "Requirement already satisfied: numpy in c:\\users\\abdul\\desktop\\practise tata\\.venv_tf\\lib\\site-packages (2.0.2)\n",
      "Requirement already satisfied: tensorflow in c:\\users\\abdul\\desktop\\practise tata\\.venv_tf\\lib\\site-packages (2.19.0)\n",
      "Requirement already satisfied: scikit-learn in c:\\users\\abdul\\desktop\\practise tata\\.venv_tf\\lib\\site-packages (1.6.1)\n",
      "Requirement already satisfied: matplotlib in c:\\users\\abdul\\desktop\\practise tata\\.venv_tf\\lib\\site-packages (3.9.4)\n",
      "Requirement already satisfied: seaborn in c:\\users\\abdul\\desktop\\practise tata\\.venv_tf\\lib\\site-packages (0.13.2)\n",
      "Requirement already satisfied: shap in c:\\users\\abdul\\desktop\\practise tata\\.venv_tf\\lib\\site-packages (0.48.0)\n",
      "Requirement already satisfied: python-dateutil>=2.8.2 in c:\\users\\abdul\\desktop\\practise tata\\.venv_tf\\lib\\site-packages (from pandas) (2.9.0.post0)\n",
      "Requirement already satisfied: pytz>=2020.1 in c:\\users\\abdul\\desktop\\practise tata\\.venv_tf\\lib\\site-packages (from pandas) (2025.2)\n",
      "Requirement already satisfied: tzdata>=2022.7 in c:\\users\\abdul\\desktop\\practise tata\\.venv_tf\\lib\\site-packages (from pandas) (2025.2)\n",
      "Requirement already satisfied: absl-py>=1.0.0 in c:\\users\\abdul\\desktop\\practise tata\\.venv_tf\\lib\\site-packages (from tensorflow) (2.3.0)\n",
      "Requirement already satisfied: astunparse>=1.6.0 in c:\\users\\abdul\\desktop\\practise tata\\.venv_tf\\lib\\site-packages (from tensorflow) (1.6.3)\n",
      "Requirement already satisfied: flatbuffers>=24.3.25 in c:\\users\\abdul\\desktop\\practise tata\\.venv_tf\\lib\\site-packages (from tensorflow) (25.2.10)\n",
      "Requirement already satisfied: gast!=0.5.0,!=0.5.1,!=0.5.2,>=0.2.1 in c:\\users\\abdul\\desktop\\practise tata\\.venv_tf\\lib\\site-packages (from tensorflow) (0.6.0)\n",
      "Requirement already satisfied: google-pasta>=0.1.1 in c:\\users\\abdul\\desktop\\practise tata\\.venv_tf\\lib\\site-packages (from tensorflow) (0.2.0)\n",
      "Requirement already satisfied: libclang>=13.0.0 in c:\\users\\abdul\\desktop\\practise tata\\.venv_tf\\lib\\site-packages (from tensorflow) (18.1.1)\n",
      "Requirement already satisfied: opt-einsum>=2.3.2 in c:\\users\\abdul\\desktop\\practise tata\\.venv_tf\\lib\\site-packages (from tensorflow) (3.4.0)\n",
      "Requirement already satisfied: packaging in c:\\users\\abdul\\desktop\\practise tata\\.venv_tf\\lib\\site-packages (from tensorflow) (25.0)\n",
      "Requirement already satisfied: protobuf!=4.21.0,!=4.21.1,!=4.21.2,!=4.21.3,!=4.21.4,!=4.21.5,<6.0.0dev,>=3.20.3 in c:\\users\\abdul\\desktop\\practise tata\\.venv_tf\\lib\\site-packages (from tensorflow) (5.29.5)\n",
      "Requirement already satisfied: requests<3,>=2.21.0 in c:\\users\\abdul\\desktop\\practise tata\\.venv_tf\\lib\\site-packages (from tensorflow) (2.32.4)\n",
      "Requirement already satisfied: setuptools in c:\\users\\abdul\\desktop\\practise tata\\.venv_tf\\lib\\site-packages (from tensorflow) (58.1.0)\n",
      "Requirement already satisfied: six>=1.12.0 in c:\\users\\abdul\\desktop\\practise tata\\.venv_tf\\lib\\site-packages (from tensorflow) (1.17.0)\n",
      "Requirement already satisfied: termcolor>=1.1.0 in c:\\users\\abdul\\desktop\\practise tata\\.venv_tf\\lib\\site-packages (from tensorflow) (3.1.0)\n",
      "Requirement already satisfied: typing-extensions>=3.6.6 in c:\\users\\abdul\\desktop\\practise tata\\.venv_tf\\lib\\site-packages (from tensorflow) (4.14.0)\n",
      "Requirement already satisfied: wrapt>=1.11.0 in c:\\users\\abdul\\desktop\\practise tata\\.venv_tf\\lib\\site-packages (from tensorflow) (1.17.2)\n",
      "Requirement already satisfied: grpcio<2.0,>=1.24.3 in c:\\users\\abdul\\desktop\\practise tata\\.venv_tf\\lib\\site-packages (from tensorflow) (1.73.0)\n",
      "Requirement already satisfied: tensorboard~=2.19.0 in c:\\users\\abdul\\desktop\\practise tata\\.venv_tf\\lib\\site-packages (from tensorflow) (2.19.0)\n",
      "Requirement already satisfied: keras>=3.5.0 in c:\\users\\abdul\\desktop\\practise tata\\.venv_tf\\lib\\site-packages (from tensorflow) (3.10.0)\n",
      "Requirement already satisfied: h5py>=3.11.0 in c:\\users\\abdul\\desktop\\practise tata\\.venv_tf\\lib\\site-packages (from tensorflow) (3.14.0)\n",
      "Requirement already satisfied: ml-dtypes<1.0.0,>=0.5.1 in c:\\users\\abdul\\desktop\\practise tata\\.venv_tf\\lib\\site-packages (from tensorflow) (0.5.1)\n",
      "Requirement already satisfied: tensorflow-io-gcs-filesystem>=0.23.1 in c:\\users\\abdul\\desktop\\practise tata\\.venv_tf\\lib\\site-packages (from tensorflow) (0.31.0)\n",
      "Requirement already satisfied: charset_normalizer<4,>=2 in c:\\users\\abdul\\desktop\\practise tata\\.venv_tf\\lib\\site-packages (from requests<3,>=2.21.0->tensorflow) (3.4.2)\n",
      "Requirement already satisfied: idna<4,>=2.5 in c:\\users\\abdul\\desktop\\practise tata\\.venv_tf\\lib\\site-packages (from requests<3,>=2.21.0->tensorflow) (3.10)\n",
      "Requirement already satisfied: urllib3<3,>=1.21.1 in c:\\users\\abdul\\desktop\\practise tata\\.venv_tf\\lib\\site-packages (from requests<3,>=2.21.0->tensorflow) (2.4.0)\n",
      "Requirement already satisfied: certifi>=2017.4.17 in c:\\users\\abdul\\desktop\\practise tata\\.venv_tf\\lib\\site-packages (from requests<3,>=2.21.0->tensorflow) (2025.6.15)\n",
      "Requirement already satisfied: markdown>=2.6.8 in c:\\users\\abdul\\desktop\\practise tata\\.venv_tf\\lib\\site-packages (from tensorboard~=2.19.0->tensorflow) (3.8)\n",
      "Requirement already satisfied: tensorboard-data-server<0.8.0,>=0.7.0 in c:\\users\\abdul\\desktop\\practise tata\\.venv_tf\\lib\\site-packages (from tensorboard~=2.19.0->tensorflow) (0.7.2)\n",
      "Requirement already satisfied: werkzeug>=1.0.1 in c:\\users\\abdul\\desktop\\practise tata\\.venv_tf\\lib\\site-packages (from tensorboard~=2.19.0->tensorflow) (3.1.3)\n",
      "Requirement already satisfied: scipy>=1.6.0 in c:\\users\\abdul\\desktop\\practise tata\\.venv_tf\\lib\\site-packages (from scikit-learn) (1.13.1)\n",
      "Requirement already satisfied: joblib>=1.2.0 in c:\\users\\abdul\\desktop\\practise tata\\.venv_tf\\lib\\site-packages (from scikit-learn) (1.5.1)\n",
      "Requirement already satisfied: threadpoolctl>=3.1.0 in c:\\users\\abdul\\desktop\\practise tata\\.venv_tf\\lib\\site-packages (from scikit-learn) (3.6.0)\n",
      "Requirement already satisfied: contourpy>=1.0.1 in c:\\users\\abdul\\desktop\\practise tata\\.venv_tf\\lib\\site-packages (from matplotlib) (1.3.0)\n",
      "Requirement already satisfied: cycler>=0.10 in c:\\users\\abdul\\desktop\\practise tata\\.venv_tf\\lib\\site-packages (from matplotlib) (0.12.1)\n",
      "Requirement already satisfied: fonttools>=4.22.0 in c:\\users\\abdul\\desktop\\practise tata\\.venv_tf\\lib\\site-packages (from matplotlib) (4.58.4)\n",
      "Requirement already satisfied: kiwisolver>=1.3.1 in c:\\users\\abdul\\desktop\\practise tata\\.venv_tf\\lib\\site-packages (from matplotlib) (1.4.7)\n",
      "Requirement already satisfied: pillow>=8 in c:\\users\\abdul\\desktop\\practise tata\\.venv_tf\\lib\\site-packages (from matplotlib) (11.2.1)\n",
      "Requirement already satisfied: pyparsing>=2.3.1 in c:\\users\\abdul\\desktop\\practise tata\\.venv_tf\\lib\\site-packages (from matplotlib) (3.2.3)\n",
      "Requirement already satisfied: importlib-resources>=3.2.0 in c:\\users\\abdul\\desktop\\practise tata\\.venv_tf\\lib\\site-packages (from matplotlib) (6.5.2)\n",
      "Requirement already satisfied: tqdm>=4.27.0 in c:\\users\\abdul\\desktop\\practise tata\\.venv_tf\\lib\\site-packages (from shap) (4.67.1)\n",
      "Requirement already satisfied: slicer==0.0.8 in c:\\users\\abdul\\desktop\\practise tata\\.venv_tf\\lib\\site-packages (from shap) (0.0.8)\n",
      "Requirement already satisfied: numba>=0.54 in c:\\users\\abdul\\desktop\\practise tata\\.venv_tf\\lib\\site-packages (from shap) (0.60.0)\n",
      "Requirement already satisfied: cloudpickle in c:\\users\\abdul\\desktop\\practise tata\\.venv_tf\\lib\\site-packages (from shap) (3.1.1)\n",
      "Requirement already satisfied: wheel<1.0,>=0.23.0 in c:\\users\\abdul\\desktop\\practise tata\\.venv_tf\\lib\\site-packages (from astunparse>=1.6.0->tensorflow) (0.45.1)\n",
      "Requirement already satisfied: zipp>=3.1.0 in c:\\users\\abdul\\desktop\\practise tata\\.venv_tf\\lib\\site-packages (from importlib-resources>=3.2.0->matplotlib) (3.23.0)\n",
      "Requirement already satisfied: rich in c:\\users\\abdul\\desktop\\practise tata\\.venv_tf\\lib\\site-packages (from keras>=3.5.0->tensorflow) (14.0.0)\n",
      "Requirement already satisfied: namex in c:\\users\\abdul\\desktop\\practise tata\\.venv_tf\\lib\\site-packages (from keras>=3.5.0->tensorflow) (0.1.0)\n",
      "Requirement already satisfied: optree in c:\\users\\abdul\\desktop\\practise tata\\.venv_tf\\lib\\site-packages (from keras>=3.5.0->tensorflow) (0.16.0)\n",
      "Requirement already satisfied: importlib-metadata>=4.4 in c:\\users\\abdul\\desktop\\practise tata\\.venv_tf\\lib\\site-packages (from markdown>=2.6.8->tensorboard~=2.19.0->tensorflow) (8.7.0)\n",
      "Requirement already satisfied: llvmlite<0.44,>=0.43.0dev0 in c:\\users\\abdul\\desktop\\practise tata\\.venv_tf\\lib\\site-packages (from numba>=0.54->shap) (0.43.0)\n",
      "Requirement already satisfied: colorama in c:\\users\\abdul\\desktop\\practise tata\\.venv_tf\\lib\\site-packages (from tqdm>=4.27.0->shap) (0.4.6)\n",
      "Requirement already satisfied: MarkupSafe>=2.1.1 in c:\\users\\abdul\\desktop\\practise tata\\.venv_tf\\lib\\site-packages (from werkzeug>=1.0.1->tensorboard~=2.19.0->tensorflow) (3.0.2)\n",
      "Requirement already satisfied: markdown-it-py>=2.2.0 in c:\\users\\abdul\\desktop\\practise tata\\.venv_tf\\lib\\site-packages (from rich->keras>=3.5.0->tensorflow) (3.0.0)\n",
      "Requirement already satisfied: pygments<3.0.0,>=2.13.0 in c:\\users\\abdul\\desktop\\practise tata\\.venv_tf\\lib\\site-packages (from rich->keras>=3.5.0->tensorflow) (2.19.1)\n",
      "Requirement already satisfied: mdurl~=0.1 in c:\\users\\abdul\\desktop\\practise tata\\.venv_tf\\lib\\site-packages (from markdown-it-py>=2.2.0->rich->keras>=3.5.0->tensorflow) (0.1.2)\n"
     ]
    }
   ],
   "source": [
    "\n",
    "!pip install pandas numpy tensorflow scikit-learn matplotlib seaborn shap\n",
    "\n",
    "\n"
   ]
  },
  {
   "cell_type": "code",
   "execution_count": 30,
   "id": "099ded16",
   "metadata": {},
   "outputs": [],
   "source": [
    "import pandas as pd\n",
    "import numpy as np\n",
    "import matplotlib.pyplot as plt\n",
    "import seaborn as sns\n",
    "from sklearn.model_selection import train_test_split\n",
    "from sklearn.preprocessing import StandardScaler, LabelEncoder\n",
    "from sklearn.metrics import mean_squared_error, mean_absolute_error, r2_score, accuracy_score, precision_score, recall_score, f1_score, roc_auc_score, confusion_matrix\n",
    "import tensorflow as tf\n",
    "from tensorflow import keras\n",
    "from tensorflow.keras import layers\n",
    "import shap\n",
    "import warnings\n",
    "import os\n",
    "warnings.filterwarnings('ignore')\n",
    "\n",
    "# Set random seeds for reproducibility\n",
    "np.random.seed(42)\n",
    "tf.random.set_seed(42)\n",
    "\n",
    "class DelinquencyPredictor:\n",
    "    \"\"\"\n",
    "    A neural network-based model for predicting delinquency rates or classifying delinquent accounts.\n",
    "    Supports both regression (continuous delinquency rate) and classification (binary delinquent/not delinquent).\n",
    "    \n",
    "    Attributes:\n",
    "        model: Keras neural network model (initialized in build_model).\n",
    "        scaler: StandardScaler for feature scaling (initialized in train_model).\n",
    "        label_encoders: Dictionary of LabelEncoder objects for categorical columns (set in load_and_preprocess_data).\n",
    "        feature_names: List of feature names after preprocessing (set in load_and_preprocess_data).\n",
    "        task_type: String indicating task ('classification' or 'regression').\n",
    "    \"\"\"\n",
    "    \n",
    "    def __init__(self, task_type='classification'):\n",
    "        \"\"\"\n",
    "        Initialize the DelinquencyPredictor.\n",
    "\n",
    "        Args:\n",
    "            task_type (str): Task type ('classification' or 'regression'). Default: 'classification'.\n",
    "        \"\"\"\n",
    "        self.model = None\n",
    "        self.scaler = None\n",
    "        self.label_encoders = {}\n",
    "        self.feature_names = None\n",
    "        self.task_type = task_type\n",
    "        print(f\"Initialized DelinquencyPredictor for {task_type} task\")\n",
    "        print(data[['Location', 'Credit_Card_Type', 'Employment_Status']].nunique())"
   ]
  },
  {
   "cell_type": "code",
   "execution_count": 19,
   "id": "53d4589e",
   "metadata": {},
   "outputs": [
    {
     "name": "stdout",
     "output_type": "stream",
     "text": [
      "Initialized DelinquencyPredictor for classification task\n",
      "Loading dataset...\n",
      "Dataset provided directly. Shape: (500, 20)\n",
      "\n",
      "==================================================\n",
      "DATASET INFORMATION\n",
      "==================================================\n",
      "Shape: (500, 20)\n",
      "Columns: ['Customer_ID', 'Age', 'Income', 'Credit_Score', 'Credit_Utilization', 'Missed_Payments', 'Delinquent_Account', 'Loan_Balance', 'Debt_to_Income_Ratio', 'Employment_Status', 'Account_Tenure', 'Credit_Card_Type', 'Location', 'Month_1', 'Month_2', 'Month_3', 'Month_4', 'Month_5', 'Month_6', 'Unnamed: 19']\n",
      "\n",
      "Data types:\n",
      "Customer_ID              object\n",
      "Age                       int64\n",
      "Income                  float64\n",
      "Credit_Score            float64\n",
      "Credit_Utilization      float64\n",
      "Missed_Payments           int64\n",
      "Delinquent_Account        int64\n",
      "Loan_Balance            float64\n",
      "Debt_to_Income_Ratio    float64\n",
      "Employment_Status        object\n",
      "Account_Tenure            int64\n",
      "Credit_Card_Type         object\n",
      "Location                 object\n",
      "Month_1                  object\n",
      "Month_2                  object\n",
      "Month_3                  object\n",
      "Month_4                  object\n",
      "Month_5                  object\n",
      "Month_6                  object\n",
      "Unnamed: 19             float64\n",
      "dtype: object\n",
      "\n",
      "Missing values:\n",
      "Customer_ID               0\n",
      "Age                       0\n",
      "Income                   39\n",
      "Credit_Score              2\n",
      "Credit_Utilization        0\n",
      "Missed_Payments           0\n",
      "Delinquent_Account        0\n",
      "Loan_Balance             29\n",
      "Debt_to_Income_Ratio      0\n",
      "Employment_Status         0\n",
      "Account_Tenure            0\n",
      "Credit_Card_Type          0\n",
      "Location                  0\n",
      "Month_1                   0\n",
      "Month_2                   0\n",
      "Month_3                   0\n",
      "Month_4                   0\n",
      "Month_5                   0\n",
      "Month_6                   0\n",
      "Unnamed: 19             497\n",
      "dtype: int64\n",
      "\n",
      "Handling missing values...\n",
      "Using 'Delinquent_Account' as target for classification\n",
      "Encoding categorical column: Month_1\n",
      "Encoding categorical column: Month_2\n",
      "Encoding categorical column: Month_3\n",
      "Encoding categorical column: Month_4\n",
      "Encoding categorical column: Month_5\n",
      "Encoding categorical column: Month_6\n",
      "Features: ['Age', 'Income', 'Credit_Score', 'Credit_Utilization', 'Missed_Payments', 'Loan_Balance', 'Debt_to_Income_Ratio', 'Account_Tenure', 'Month_1', 'Month_2', 'Month_3', 'Month_4', 'Month_5', 'Month_6', 'Unnamed: 19', 'Location_Chicago', 'Location_Houston', 'Location_Los Angeles', 'Location_New York', 'Location_Phoenix', 'Card_Business', 'Card_Gold', 'Card_Platinum', 'Card_Standard', 'Card_Student', 'Emp_EMP', 'Emp_Employed', 'Emp_Self-employed', 'Emp_Unemployed', 'Emp_employed', 'Emp_retired']\n",
      "Number of features: 31\n",
      "X_processed shape: (500, 31)\n",
      "Encoded 6 categorical columns\n",
      "Target distribution: [420  80]\n"
     ]
    }
   ],
   "source": [
    "def load_and_preprocess_data(self, file_path=None, data=None):\n",
    "    \"\"\"\n",
    "    Load and preprocess the dataset for training or prediction.\n",
    "\n",
    "    Args:\n",
    "        file_path (str, optional): Path to CSV file containing the dataset.\n",
    "        data (pd.DataFrame, optional): DataFrame containing the dataset.\n",
    "\n",
    "    Returns:\n",
    "        tuple: (X_processed.values, y) where X_processed.values is the preprocessed feature matrix (numpy array)\n",
    "               and y is the target array (numpy array).\n",
    "\n",
    "    Behavior:\n",
    "        - Loads dataset from file_path or data.\n",
    "        - Falls back to creating a sample dataset if no valid input is provided.\n",
    "        - Handles missing values (median for numerical, mode for categorical).\n",
    "        - Sets target as 'Delinquent_Account' for classification or derives 'delinquency_rate' for regression.\n",
    "        - Drops 'Customer_ID' and applies one-hot encoding to 'Location', 'Credit_Card_Type', 'Employment_Status'.\n",
    "        - Label encodes 'Month_1' to 'Month_6'.\n",
    "        - Sets feature_names to match the final preprocessed feature set.\n",
    "    \"\"\"\n",
    "    print(\"Loading dataset...\")\n",
    "    \n",
    "    if data is not None:\n",
    "        df = data\n",
    "        print(f\"Dataset provided directly. Shape: {df.shape}\")\n",
    "    elif file_path and os.path.exists(file_path):\n",
    "        try:\n",
    "            df = pd.read_csv(file_path)\n",
    "            print(f\"Dataset loaded successfully. Shape: {df.shape}\")\n",
    "        except Exception as e:\n",
    "            print(f\"Error loading file: {e}\")\n",
    "            print(\"Creating sample dataset instead...\")\n",
    "            df = self.create_sample_dataset()\n",
    "    else:\n",
    "        print(\"No file path or data provided. Creating sample dataset...\")\n",
    "        df = self.create_sample_dataset()\n",
    "    \n",
    "    print(\"\\n\" + \"=\"*50)\n",
    "    print(\"DATASET INFORMATION\")\n",
    "    print(\"=\"*50)\n",
    "    print(f\"Shape: {df.shape}\")\n",
    "    print(f\"Columns: {list(df.columns)}\")\n",
    "    print(\"\\nData types:\")\n",
    "    print(df.dtypes)\n",
    "    print(f\"\\nMissing values:\\n{df.isnull().sum()}\")\n",
    "    \n",
    "    print(\"\\nHandling missing values...\")\n",
    "    numeric_cols = df.select_dtypes(include=[np.number]).columns\n",
    "    for col in numeric_cols:\n",
    "        if df[col].isnull().sum() > 0:\n",
    "            df[col].fillna(df[col].median(), inplace=True)\n",
    "    \n",
    "    categorical_cols = df.select_dtypes(include=['object']).columns\n",
    "    for col in categorical_cols:\n",
    "        if df[col].isnull().sum() > 0:\n",
    "            df[col].fillna(df[col].mode()[0], inplace=True)\n",
    "    \n",
    "    if 'Delinquent_Account' in df.columns and self.task_type == 'classification':\n",
    "        target_col = 'Delinquent_Account'\n",
    "        print(f\"Using 'Delinquent_Account' as target for classification\")\n",
    "    else:\n",
    "        print(\"Deriving delinquency rate from payment history...\")\n",
    "        payment_cols = ['Month_1', 'Month_2', 'Month_3', 'Month_4', 'Month_5', 'Month_6']\n",
    "        df['delinquency_rate'] = df[payment_cols].apply(\n",
    "            lambda x: (x.isin(['Late', 'Missed'])).mean(), axis=1\n",
    "        )\n",
    "        target_col = 'delinquency_rate'\n",
    "        print(f\"Created 'delinquency_rate' as target for regression\")\n",
    "    \n",
    "    y = df[target_col].values\n",
    "    X = df.drop([target_col, 'Customer_ID'] + (['Delinquent_Account'] if target_col == 'delinquency_rate' else []), axis=1)\n",
    "    \n",
    "    # Apply one-hot encoding\n",
    "    X_processed = pd.get_dummies(X, columns=['Location', 'Credit_Card_Type', 'Employment_Status'], prefix=['Location', 'Card', 'Emp'])\n",
    "    \n",
    "    # Encode categorical payment history columns\n",
    "    categorical_columns = ['Month_1', 'Month_2', 'Month_3', 'Month_4', 'Month_5', 'Month_6']\n",
    "    for column in categorical_columns:\n",
    "        print(f\"Encoding categorical column: {column}\")\n",
    "        le = LabelEncoder()\n",
    "        X_processed[column] = le.fit_transform(X_processed[column])\n",
    "        self.label_encoders[column] = le\n",
    "    \n",
    "    # Set feature_names after all preprocessing\n",
    "    self.feature_names = X_processed.columns.tolist()\n",
    "    print(f\"Features: {self.feature_names}\")\n",
    "    print(f\"Number of features: {len(self.feature_names)}\")\n",
    "    print(f\"X_processed shape: {X_processed.shape}\")\n",
    "    \n",
    "    if len(self.feature_names) != X_processed.shape[1]:\n",
    "        raise ValueError(f\"Feature names length ({len(self.feature_names)}) does not match X_processed columns ({X_processed.shape[1]})\")\n",
    "    \n",
    "    print(f\"Encoded {len(categorical_columns)} categorical columns\")\n",
    "    \n",
    "    if self.task_type == 'classification':\n",
    "        print(f\"Target distribution: {np.bincount(y)}\")\n",
    "    else:\n",
    "        print(f\"Target statistics: mean={y.mean():.3f}, std={y.std():.3f}\")\n",
    "    \n",
    "    return X_processed.values, y\n",
    "\n",
    "# Add method to class\n",
    "DelinquencyPredictor.load_and_preprocess_data = load_and_preprocess_data\n",
    "\n",
    "# Load and preprocess data\n",
    "predictor = DelinquencyPredictor(task_type='classification')\n",
    "data = pd.read_csv('Delinquency_prediction_dataset.csv')  # Update path if needed\n",
    "X, y = predictor.load_and_preprocess_data(data=data)"
   ]
  },
  {
   "cell_type": "code",
   "execution_count": 20,
   "id": "650a2e8f",
   "metadata": {},
   "outputs": [],
   "source": [
    "def create_sample_dataset(self, n_samples=5000):\n",
    "    \"\"\"\n",
    "    Create a synthetic dataset for testing when no real dataset is provided.\n",
    "\n",
    "    Args:\n",
    "        n_samples (int): Number of samples to generate. Default: 5000.\n",
    "\n",
    "    Returns:\n",
    "        pd.DataFrame: Synthetic dataset with financial features and 'delinquency_rate' target.\n",
    "\n",
    "    Behavior:\n",
    "        - Generates realistic financial features (e.g., age, income, credit_score).\n",
    "        - Clips features to reasonable ranges (e.g., credit_score 300–850).\n",
    "        - Computes a synthetic 'delinquency_rate' based on a weighted risk score.\n",
    "    \"\"\"\n",
    "    print(\"Creating sample dataset with realistic financial features...\")\n",
    "    \n",
    "    np.random.seed(42)\n",
    "    \n",
    "    data = {\n",
    "        'age': np.random.randint(18, 80, n_samples),\n",
    "        'income': np.random.lognormal(10.5, 0.8, n_samples),\n",
    "        'employment_years': np.random.exponential(5, n_samples),\n",
    "        'credit_score': np.random.normal(650, 100, n_samples).astype(int),\n",
    "        'credit_history_length': np.random.exponential(8, n_samples),\n",
    "        'number_of_credit_lines': np.random.poisson(4, n_samples),\n",
    "        'loan_amount': np.random.lognormal(9.5, 0.7, n_samples),\n",
    "        'loan_term': np.random.choice([12, 24, 36, 48, 60], n_samples),\n",
    "        'interest_rate': np.random.uniform(5, 25, n_samples),\n",
    "        'debt_to_income_ratio': np.random.beta(2, 5, n_samples),\n",
    "        'monthly_payment_ratio': np.random.beta(2, 8, n_samples),\n",
    "        'education_level': np.random.choice(['high_school', 'bachelor', 'master', 'phd'], n_samples, p=[0.4, 0.35, 0.2, 0.05]),\n",
    "        'employment_type': np.random.choice(['full_time', 'part_time', 'self_employed', 'unemployed'], n_samples, p=[0.7, 0.15, 0.12, 0.03]),\n",
    "        'home_ownership': np.random.choice(['rent', 'own', 'mortgage'], n_samples, p=[0.35, 0.25, 0.4]),\n",
    "        'loan_purpose': np.random.choice(['debt_consolidation', 'home_improvement', 'major_purchase', 'medical', 'other'], n_samples),\n",
    "        'previous_defaults': np.random.poisson(0.3, n_samples),\n",
    "        'number_of_dependents': np.random.poisson(1.2, n_samples),\n",
    "    }\n",
    "    \n",
    "    df = pd.DataFrame(data)\n",
    "    \n",
    "    df['credit_score'] = np.clip(df['credit_score'], 300, 850)\n",
    "    df['employment_years'] = np.clip(df['employment_years'], 0, 40)\n",
    "    df['credit_history_length'] = np.clip(df['credit_history_length'], 0, 30)\n",
    "    df['debt_to_income_ratio'] = np.clip(df['debt_to_income_ratio'], 0, 1)\n",
    "    df['monthly_payment_ratio'] = np.clip(df['monthly_payment_ratio'], 0, 0.5)\n",
    "    \n",
    "    risk_score = (\n",
    "        0.25 * (1 - (df['credit_score'] - 300) / 550) +\n",
    "        0.20 * df['debt_to_income_ratio'] +\n",
    "        0.15 * df['monthly_payment_ratio'] +\n",
    "        0.10 * (df['age'] < 25).astype(int) +\n",
    "        0.08 * (df['employment_type'] == 'unemployed').astype(int) +\n",
    "        0.07 * (df['previous_defaults'] > 0).astype(int) +\n",
    "        0.05 * (df['loan_term'] > 48).astype(int) +\n",
    "        0.05 * (df['interest_rate'] > 15).astype(int) +\n",
    "        0.05 * np.random.random(n_samples)\n",
    "    )\n",
    "    \n",
    "    delinquency_rate = np.clip(risk_score + np.random.normal(0, 0.1, n_samples), 0, 1)\n",
    "    df['delinquency_rate'] = delinquency_rate\n",
    "    \n",
    "    print(f\"Sample dataset created with {n_samples} rows and {len(df.columns)} columns\")\n",
    "    print(f\"Average delinquency rate: {delinquency_rate.mean():.3f}\")\n",
    "    \n",
    "    return df\n",
    "\n",
    "# Add method to class\n",
    "DelinquencyPredictor.create_sample_dataset = create_sample_dataset"
   ]
  },
  {
   "cell_type": "code",
   "execution_count": 21,
   "id": "5985f17c",
   "metadata": {},
   "outputs": [],
   "source": [
    "def build_model(self, input_dim):\n",
    "    \"\"\"\n",
    "    Build and compile a Keras neural network model.\n",
    "\n",
    "    Args:\n",
    "        input_dim (int): Number of input features.\n",
    "\n",
    "    Returns:\n",
    "        keras.Sequential Model: Compiled neural network model.\n",
    "\n",
    "    Behavior:\n",
    "        - Creates a model with 3 hidden layers (64, 32, 16 neurons) with ReLU activation, L2 regularization, batch normalization, and dropout.\n",
    "        - Output layer uses sigmoid activation (1 neuron).\n",
    "        - Compiles with binary_crossentropy loss and Adam optimizer for classification, or MSE loss for regression.\n",
    "    \"\"\"\n",
    "    print(f\"\\nBuilding neural network for {self.task_type}...\")\n",
    "    print(f\"Input dimension: {input_dim}\")\n",
    "    \n",
    "    model = keras.Sequential([\n",
    "        layers.Dense(64, input_shape=(input_dim,), activation='relu', kernel_regularizer=keras.regularizers.l2(0.01)),\n",
    "        layers.BatchNormalization(),\n",
    "        layers.Dropout(0.3),\n",
    "        layers.Dense(32, activation='relu', kernel_regularizer=keras.regularizers.l2(0.01)),\n",
    "        layers.BatchNormalization(),\n",
    "        layers.Dropout(0.2),\n",
    "        layers.Dense(16, activation='relu', kernel_regularizer=keras.regularizers.l2(0.01)),\n",
    "        layers.Dropout(0.1),\n",
    "        layers.Dense(1, activation='sigmoid')\n",
    "    ])\n",
    "    \n",
    "    if self.task_type == 'classification':\n",
    "        model.compile(\n",
    "            optimizer=keras.optimizers.Adam(learning_rate=0.001),\n",
    "            loss='binary_crossentropy',\n",
    "            metrics=['accuracy', keras.metrics.Precision(), keras.metrics.Recall()]\n",
    "        )\n",
    "    else:\n",
    "        model.compile(\n",
    "            optimizer=keras.optimizers.Adam(learning_rate=0.001),\n",
    "            loss='mean_squared_error',\n",
    "            metrics=['mae', 'mse']\n",
    "        )\n",
    "    \n",
    "    print(\"\\nModel Architecture:\")\n",
    "    model.summary()\n",
    "    \n",
    "    return model\n",
    "\n",
    "# Add method to class\n",
    "DelinquencyPredictor.build_model = build_model\n"
   ]
  },
  {
   "cell_type": "code",
   "execution_count": 22,
   "id": "03c691f4",
   "metadata": {},
   "outputs": [
    {
     "name": "stdout",
     "output_type": "stream",
     "text": [
      "Training samples: 400\n",
      "Test samples: 100\n",
      "Features: 31\n",
      "\n",
      "==================================================\n",
      "TRAINING THE MODEL\n",
      "==================================================\n",
      "Scaling features...\n",
      "Feature scaling completed. Mean: 0.000, Std: 0.984\n",
      "\n",
      "Building neural network for classification...\n",
      "Input dimension: 31\n",
      "\n",
      "Model Architecture:\n"
     ]
    },
    {
     "data": {
      "text/html": [
       "<pre style=\"white-space:pre;overflow-x:auto;line-height:normal;font-family:Menlo,'DejaVu Sans Mono',consolas,'Courier New',monospace\"><span style=\"font-weight: bold\">Model: \"sequential_6\"</span>\n",
       "</pre>\n"
      ],
      "text/plain": [
       "\u001b[1mModel: \"sequential_6\"\u001b[0m\n"
      ]
     },
     "metadata": {},
     "output_type": "display_data"
    },
    {
     "data": {
      "text/html": [
       "<pre style=\"white-space:pre;overflow-x:auto;line-height:normal;font-family:Menlo,'DejaVu Sans Mono',consolas,'Courier New',monospace\">┏━━━━━━━━━━━━━━━━━━━━━━━━━━━━━━━━━┳━━━━━━━━━━━━━━━━━━━━━━━━┳━━━━━━━━━━━━━━━┓\n",
       "┃<span style=\"font-weight: bold\"> Layer (type)                    </span>┃<span style=\"font-weight: bold\"> Output Shape           </span>┃<span style=\"font-weight: bold\">       Param # </span>┃\n",
       "┡━━━━━━━━━━━━━━━━━━━━━━━━━━━━━━━━━╇━━━━━━━━━━━━━━━━━━━━━━━━╇━━━━━━━━━━━━━━━┩\n",
       "│ dense_26 (<span style=\"color: #0087ff; text-decoration-color: #0087ff\">Dense</span>)                │ (<span style=\"color: #00d7ff; text-decoration-color: #00d7ff\">None</span>, <span style=\"color: #00af00; text-decoration-color: #00af00\">64</span>)             │         <span style=\"color: #00af00; text-decoration-color: #00af00\">2,048</span> │\n",
       "├─────────────────────────────────┼────────────────────────┼───────────────┤\n",
       "│ batch_normalization_14          │ (<span style=\"color: #00d7ff; text-decoration-color: #00d7ff\">None</span>, <span style=\"color: #00af00; text-decoration-color: #00af00\">64</span>)             │           <span style=\"color: #00af00; text-decoration-color: #00af00\">256</span> │\n",
       "│ (<span style=\"color: #0087ff; text-decoration-color: #0087ff\">BatchNormalization</span>)            │                        │               │\n",
       "├─────────────────────────────────┼────────────────────────┼───────────────┤\n",
       "│ dropout_20 (<span style=\"color: #0087ff; text-decoration-color: #0087ff\">Dropout</span>)            │ (<span style=\"color: #00d7ff; text-decoration-color: #00d7ff\">None</span>, <span style=\"color: #00af00; text-decoration-color: #00af00\">64</span>)             │             <span style=\"color: #00af00; text-decoration-color: #00af00\">0</span> │\n",
       "├─────────────────────────────────┼────────────────────────┼───────────────┤\n",
       "│ dense_27 (<span style=\"color: #0087ff; text-decoration-color: #0087ff\">Dense</span>)                │ (<span style=\"color: #00d7ff; text-decoration-color: #00d7ff\">None</span>, <span style=\"color: #00af00; text-decoration-color: #00af00\">32</span>)             │         <span style=\"color: #00af00; text-decoration-color: #00af00\">2,080</span> │\n",
       "├─────────────────────────────────┼────────────────────────┼───────────────┤\n",
       "│ batch_normalization_15          │ (<span style=\"color: #00d7ff; text-decoration-color: #00d7ff\">None</span>, <span style=\"color: #00af00; text-decoration-color: #00af00\">32</span>)             │           <span style=\"color: #00af00; text-decoration-color: #00af00\">128</span> │\n",
       "│ (<span style=\"color: #0087ff; text-decoration-color: #0087ff\">BatchNormalization</span>)            │                        │               │\n",
       "├─────────────────────────────────┼────────────────────────┼───────────────┤\n",
       "│ dropout_21 (<span style=\"color: #0087ff; text-decoration-color: #0087ff\">Dropout</span>)            │ (<span style=\"color: #00d7ff; text-decoration-color: #00d7ff\">None</span>, <span style=\"color: #00af00; text-decoration-color: #00af00\">32</span>)             │             <span style=\"color: #00af00; text-decoration-color: #00af00\">0</span> │\n",
       "├─────────────────────────────────┼────────────────────────┼───────────────┤\n",
       "│ dense_28 (<span style=\"color: #0087ff; text-decoration-color: #0087ff\">Dense</span>)                │ (<span style=\"color: #00d7ff; text-decoration-color: #00d7ff\">None</span>, <span style=\"color: #00af00; text-decoration-color: #00af00\">16</span>)             │           <span style=\"color: #00af00; text-decoration-color: #00af00\">528</span> │\n",
       "├─────────────────────────────────┼────────────────────────┼───────────────┤\n",
       "│ dropout_22 (<span style=\"color: #0087ff; text-decoration-color: #0087ff\">Dropout</span>)            │ (<span style=\"color: #00d7ff; text-decoration-color: #00d7ff\">None</span>, <span style=\"color: #00af00; text-decoration-color: #00af00\">16</span>)             │             <span style=\"color: #00af00; text-decoration-color: #00af00\">0</span> │\n",
       "├─────────────────────────────────┼────────────────────────┼───────────────┤\n",
       "│ dense_29 (<span style=\"color: #0087ff; text-decoration-color: #0087ff\">Dense</span>)                │ (<span style=\"color: #00d7ff; text-decoration-color: #00d7ff\">None</span>, <span style=\"color: #00af00; text-decoration-color: #00af00\">1</span>)              │            <span style=\"color: #00af00; text-decoration-color: #00af00\">17</span> │\n",
       "└─────────────────────────────────┴────────────────────────┴───────────────┘\n",
       "</pre>\n"
      ],
      "text/plain": [
       "┏━━━━━━━━━━━━━━━━━━━━━━━━━━━━━━━━━┳━━━━━━━━━━━━━━━━━━━━━━━━┳━━━━━━━━━━━━━━━┓\n",
       "┃\u001b[1m \u001b[0m\u001b[1mLayer (type)                   \u001b[0m\u001b[1m \u001b[0m┃\u001b[1m \u001b[0m\u001b[1mOutput Shape          \u001b[0m\u001b[1m \u001b[0m┃\u001b[1m \u001b[0m\u001b[1m      Param #\u001b[0m\u001b[1m \u001b[0m┃\n",
       "┡━━━━━━━━━━━━━━━━━━━━━━━━━━━━━━━━━╇━━━━━━━━━━━━━━━━━━━━━━━━╇━━━━━━━━━━━━━━━┩\n",
       "│ dense_26 (\u001b[38;5;33mDense\u001b[0m)                │ (\u001b[38;5;45mNone\u001b[0m, \u001b[38;5;34m64\u001b[0m)             │         \u001b[38;5;34m2,048\u001b[0m │\n",
       "├─────────────────────────────────┼────────────────────────┼───────────────┤\n",
       "│ batch_normalization_14          │ (\u001b[38;5;45mNone\u001b[0m, \u001b[38;5;34m64\u001b[0m)             │           \u001b[38;5;34m256\u001b[0m │\n",
       "│ (\u001b[38;5;33mBatchNormalization\u001b[0m)            │                        │               │\n",
       "├─────────────────────────────────┼────────────────────────┼───────────────┤\n",
       "│ dropout_20 (\u001b[38;5;33mDropout\u001b[0m)            │ (\u001b[38;5;45mNone\u001b[0m, \u001b[38;5;34m64\u001b[0m)             │             \u001b[38;5;34m0\u001b[0m │\n",
       "├─────────────────────────────────┼────────────────────────┼───────────────┤\n",
       "│ dense_27 (\u001b[38;5;33mDense\u001b[0m)                │ (\u001b[38;5;45mNone\u001b[0m, \u001b[38;5;34m32\u001b[0m)             │         \u001b[38;5;34m2,080\u001b[0m │\n",
       "├─────────────────────────────────┼────────────────────────┼───────────────┤\n",
       "│ batch_normalization_15          │ (\u001b[38;5;45mNone\u001b[0m, \u001b[38;5;34m32\u001b[0m)             │           \u001b[38;5;34m128\u001b[0m │\n",
       "│ (\u001b[38;5;33mBatchNormalization\u001b[0m)            │                        │               │\n",
       "├─────────────────────────────────┼────────────────────────┼───────────────┤\n",
       "│ dropout_21 (\u001b[38;5;33mDropout\u001b[0m)            │ (\u001b[38;5;45mNone\u001b[0m, \u001b[38;5;34m32\u001b[0m)             │             \u001b[38;5;34m0\u001b[0m │\n",
       "├─────────────────────────────────┼────────────────────────┼───────────────┤\n",
       "│ dense_28 (\u001b[38;5;33mDense\u001b[0m)                │ (\u001b[38;5;45mNone\u001b[0m, \u001b[38;5;34m16\u001b[0m)             │           \u001b[38;5;34m528\u001b[0m │\n",
       "├─────────────────────────────────┼────────────────────────┼───────────────┤\n",
       "│ dropout_22 (\u001b[38;5;33mDropout\u001b[0m)            │ (\u001b[38;5;45mNone\u001b[0m, \u001b[38;5;34m16\u001b[0m)             │             \u001b[38;5;34m0\u001b[0m │\n",
       "├─────────────────────────────────┼────────────────────────┼───────────────┤\n",
       "│ dense_29 (\u001b[38;5;33mDense\u001b[0m)                │ (\u001b[38;5;45mNone\u001b[0m, \u001b[38;5;34m1\u001b[0m)              │            \u001b[38;5;34m17\u001b[0m │\n",
       "└─────────────────────────────────┴────────────────────────┴───────────────┘\n"
      ]
     },
     "metadata": {},
     "output_type": "display_data"
    },
    {
     "data": {
      "text/html": [
       "<pre style=\"white-space:pre;overflow-x:auto;line-height:normal;font-family:Menlo,'DejaVu Sans Mono',consolas,'Courier New',monospace\"><span style=\"font-weight: bold\"> Total params: </span><span style=\"color: #00af00; text-decoration-color: #00af00\">5,057</span> (19.75 KB)\n",
       "</pre>\n"
      ],
      "text/plain": [
       "\u001b[1m Total params: \u001b[0m\u001b[38;5;34m5,057\u001b[0m (19.75 KB)\n"
      ]
     },
     "metadata": {},
     "output_type": "display_data"
    },
    {
     "data": {
      "text/html": [
       "<pre style=\"white-space:pre;overflow-x:auto;line-height:normal;font-family:Menlo,'DejaVu Sans Mono',consolas,'Courier New',monospace\"><span style=\"font-weight: bold\"> Trainable params: </span><span style=\"color: #00af00; text-decoration-color: #00af00\">4,865</span> (19.00 KB)\n",
       "</pre>\n"
      ],
      "text/plain": [
       "\u001b[1m Trainable params: \u001b[0m\u001b[38;5;34m4,865\u001b[0m (19.00 KB)\n"
      ]
     },
     "metadata": {},
     "output_type": "display_data"
    },
    {
     "data": {
      "text/html": [
       "<pre style=\"white-space:pre;overflow-x:auto;line-height:normal;font-family:Menlo,'DejaVu Sans Mono',consolas,'Courier New',monospace\"><span style=\"font-weight: bold\"> Non-trainable params: </span><span style=\"color: #00af00; text-decoration-color: #00af00\">192</span> (768.00 B)\n",
       "</pre>\n"
      ],
      "text/plain": [
       "\u001b[1m Non-trainable params: \u001b[0m\u001b[38;5;34m192\u001b[0m (768.00 B)\n"
      ]
     },
     "metadata": {},
     "output_type": "display_data"
    },
    {
     "name": "stdout",
     "output_type": "stream",
     "text": [
      "Starting training with 400 samples...\n",
      "Validation split: 0.2\n",
      "Batch size: 64\n",
      "Max epochs: 100\n",
      "Epoch 1/100\n",
      "\u001b[1m1/5\u001b[0m \u001b[32m━━━━\u001b[0m\u001b[37m━━━━━━━━━━━━━━━━\u001b[0m \u001b[1m6s\u001b[0m 2s/step - accuracy: 0.5625 - loss: 2.0604 - precision_6: 0.1852 - recall_6: 0.4545\n",
      "Epoch 1: val_loss improved from inf to 1.72596, saving model to best_model.h5\n"
     ]
    },
    {
     "name": "stderr",
     "output_type": "stream",
     "text": [
      "WARNING:absl:You are saving your model as an HDF5 file via `model.save()` or `keras.saving.save_model(model)`. This file format is considered legacy. We recommend using instead the native Keras format, e.g. `model.save('my_model.keras')` or `keras.saving.save_model(model, 'my_model.keras')`. \n"
     ]
    },
    {
     "name": "stdout",
     "output_type": "stream",
     "text": [
      "\u001b[1m5/5\u001b[0m \u001b[32m━━━━━━━━━━━━━━━━━━━━\u001b[0m\u001b[37m\u001b[0m \u001b[1m2s\u001b[0m 97ms/step - accuracy: 0.5065 - loss: 1.9362 - precision_6: 0.1625 - recall_6: 0.5124 - val_accuracy: 0.5500 - val_loss: 1.7260 - val_precision_6: 0.1429 - val_recall_6: 0.2500 - learning_rate: 0.0010\n",
      "Epoch 2/100\n",
      "\u001b[1m1/5\u001b[0m \u001b[32m━━━━\u001b[0m\u001b[37m━━━━━━━━━━━━━━━━\u001b[0m \u001b[1m0s\u001b[0m 25ms/step - accuracy: 0.5938 - loss: 1.8470 - precision_6: 0.2222 - recall_6: 0.5455\n",
      "Epoch 2: val_loss improved from 1.72596 to 1.71412, saving model to best_model.h5\n"
     ]
    },
    {
     "name": "stderr",
     "output_type": "stream",
     "text": [
      "WARNING:absl:You are saving your model as an HDF5 file via `model.save()` or `keras.saving.save_model(model)`. This file format is considered legacy. We recommend using instead the native Keras format, e.g. `model.save('my_model.keras')` or `keras.saving.save_model(model, 'my_model.keras')`. \n"
     ]
    },
    {
     "name": "stdout",
     "output_type": "stream",
     "text": [
      "\u001b[1m5/5\u001b[0m \u001b[32m━━━━━━━━━━━━━━━━━━━━\u001b[0m\u001b[37m\u001b[0m \u001b[1m0s\u001b[0m 24ms/step - accuracy: 0.5178 - loss: 1.8396 - precision_6: 0.1752 - recall_6: 0.5516 - val_accuracy: 0.5750 - val_loss: 1.7141 - val_precision_6: 0.1250 - val_recall_6: 0.1875 - learning_rate: 0.0010\n",
      "Epoch 3/100\n",
      "\u001b[1m1/5\u001b[0m \u001b[32m━━━━\u001b[0m\u001b[37m━━━━━━━━━━━━━━━━\u001b[0m \u001b[1m0s\u001b[0m 25ms/step - accuracy: 0.5625 - loss: 1.8066 - precision_6: 0.2069 - recall_6: 0.5455\n",
      "Epoch 3: val_loss improved from 1.71412 to 1.70094, saving model to best_model.h5\n"
     ]
    },
    {
     "name": "stderr",
     "output_type": "stream",
     "text": [
      "WARNING:absl:You are saving your model as an HDF5 file via `model.save()` or `keras.saving.save_model(model)`. This file format is considered legacy. We recommend using instead the native Keras format, e.g. `model.save('my_model.keras')` or `keras.saving.save_model(model, 'my_model.keras')`. \n"
     ]
    },
    {
     "name": "stdout",
     "output_type": "stream",
     "text": [
      "\u001b[1m5/5\u001b[0m \u001b[32m━━━━━━━━━━━━━━━━━━━━\u001b[0m\u001b[37m\u001b[0m \u001b[1m0s\u001b[0m 24ms/step - accuracy: 0.5296 - loss: 1.7669 - precision_6: 0.1976 - recall_6: 0.6536 - val_accuracy: 0.6000 - val_loss: 1.7009 - val_precision_6: 0.1923 - val_recall_6: 0.3125 - learning_rate: 0.0010\n",
      "Epoch 4/100\n",
      "\u001b[1m1/5\u001b[0m \u001b[32m━━━━\u001b[0m\u001b[37m━━━━━━━━━━━━━━━━\u001b[0m \u001b[1m0s\u001b[0m 25ms/step - accuracy: 0.3906 - loss: 1.7990 - precision_6: 0.1316 - recall_6: 0.4545\n",
      "Epoch 4: val_loss improved from 1.70094 to 1.68592, saving model to best_model.h5\n"
     ]
    },
    {
     "name": "stderr",
     "output_type": "stream",
     "text": [
      "WARNING:absl:You are saving your model as an HDF5 file via `model.save()` or `keras.saving.save_model(model)`. This file format is considered legacy. We recommend using instead the native Keras format, e.g. `model.save('my_model.keras')` or `keras.saving.save_model(model, 'my_model.keras')`. \n"
     ]
    },
    {
     "name": "stdout",
     "output_type": "stream",
     "text": [
      "\u001b[1m5/5\u001b[0m \u001b[32m━━━━━━━━━━━━━━━━━━━━\u001b[0m\u001b[37m\u001b[0m \u001b[1m0s\u001b[0m 23ms/step - accuracy: 0.4635 - loss: 1.7549 - precision_6: 0.1509 - recall_6: 0.5229 - val_accuracy: 0.6000 - val_loss: 1.6859 - val_precision_6: 0.1923 - val_recall_6: 0.3125 - learning_rate: 0.0010\n",
      "Epoch 5/100\n",
      "\u001b[1m1/5\u001b[0m \u001b[32m━━━━\u001b[0m\u001b[37m━━━━━━━━━━━━━━━━\u001b[0m \u001b[1m0s\u001b[0m 23ms/step - accuracy: 0.5312 - loss: 1.6758 - precision_6: 0.2121 - recall_6: 0.6364\n",
      "Epoch 5: val_loss improved from 1.68592 to 1.67110, saving model to best_model.h5\n"
     ]
    },
    {
     "name": "stderr",
     "output_type": "stream",
     "text": [
      "WARNING:absl:You are saving your model as an HDF5 file via `model.save()` or `keras.saving.save_model(model)`. This file format is considered legacy. We recommend using instead the native Keras format, e.g. `model.save('my_model.keras')` or `keras.saving.save_model(model, 'my_model.keras')`. \n"
     ]
    },
    {
     "name": "stdout",
     "output_type": "stream",
     "text": [
      "\u001b[1m5/5\u001b[0m \u001b[32m━━━━━━━━━━━━━━━━━━━━\u001b[0m\u001b[37m\u001b[0m \u001b[1m0s\u001b[0m 24ms/step - accuracy: 0.5302 - loss: 1.6630 - precision_6: 0.1957 - recall_6: 0.6427 - val_accuracy: 0.6000 - val_loss: 1.6711 - val_precision_6: 0.1923 - val_recall_6: 0.3125 - learning_rate: 0.0010\n",
      "Epoch 6/100\n",
      "\u001b[1m1/5\u001b[0m \u001b[32m━━━━\u001b[0m\u001b[37m━━━━━━━━━━━━━━━━\u001b[0m \u001b[1m0s\u001b[0m 25ms/step - accuracy: 0.5156 - loss: 1.6487 - precision_6: 0.2222 - recall_6: 0.7273\n",
      "Epoch 6: val_loss improved from 1.67110 to 1.65875, saving model to best_model.h5\n"
     ]
    },
    {
     "name": "stderr",
     "output_type": "stream",
     "text": [
      "WARNING:absl:You are saving your model as an HDF5 file via `model.save()` or `keras.saving.save_model(model)`. This file format is considered legacy. We recommend using instead the native Keras format, e.g. `model.save('my_model.keras')` or `keras.saving.save_model(model, 'my_model.keras')`. \n"
     ]
    },
    {
     "name": "stdout",
     "output_type": "stream",
     "text": [
      "\u001b[1m5/5\u001b[0m \u001b[32m━━━━━━━━━━━━━━━━━━━━\u001b[0m\u001b[37m\u001b[0m \u001b[1m0s\u001b[0m 26ms/step - accuracy: 0.5148 - loss: 1.6757 - precision_6: 0.2018 - recall_6: 0.7087 - val_accuracy: 0.6000 - val_loss: 1.6587 - val_precision_6: 0.1923 - val_recall_6: 0.3125 - learning_rate: 0.0010\n",
      "Epoch 7/100\n",
      "\u001b[1m1/5\u001b[0m \u001b[32m━━━━\u001b[0m\u001b[37m━━━━━━━━━━━━━━━━\u001b[0m \u001b[1m0s\u001b[0m 24ms/step - accuracy: 0.6406 - loss: 1.7357 - precision_6: 0.2500 - recall_6: 0.5455\n",
      "Epoch 7: val_loss improved from 1.65875 to 1.65038, saving model to best_model.h5\n"
     ]
    },
    {
     "name": "stderr",
     "output_type": "stream",
     "text": [
      "WARNING:absl:You are saving your model as an HDF5 file via `model.save()` or `keras.saving.save_model(model)`. This file format is considered legacy. We recommend using instead the native Keras format, e.g. `model.save('my_model.keras')` or `keras.saving.save_model(model, 'my_model.keras')`. \n"
     ]
    },
    {
     "name": "stdout",
     "output_type": "stream",
     "text": [
      "\u001b[1m5/5\u001b[0m \u001b[32m━━━━━━━━━━━━━━━━━━━━\u001b[0m\u001b[37m\u001b[0m \u001b[1m0s\u001b[0m 23ms/step - accuracy: 0.5708 - loss: 1.7121 - precision_6: 0.2029 - recall_6: 0.5854 - val_accuracy: 0.6000 - val_loss: 1.6504 - val_precision_6: 0.2143 - val_recall_6: 0.3750 - learning_rate: 0.0010\n",
      "Epoch 8/100\n",
      "\u001b[1m1/5\u001b[0m \u001b[32m━━━━\u001b[0m\u001b[37m━━━━━━━━━━━━━━━━\u001b[0m \u001b[1m0s\u001b[0m 24ms/step - accuracy: 0.6094 - loss: 1.5342 - precision_6: 0.2941 - recall_6: 0.9091\n",
      "Epoch 8: val_loss improved from 1.65038 to 1.64091, saving model to best_model.h5\n"
     ]
    },
    {
     "name": "stderr",
     "output_type": "stream",
     "text": [
      "WARNING:absl:You are saving your model as an HDF5 file via `model.save()` or `keras.saving.save_model(model)`. This file format is considered legacy. We recommend using instead the native Keras format, e.g. `model.save('my_model.keras')` or `keras.saving.save_model(model, 'my_model.keras')`. \n"
     ]
    },
    {
     "name": "stdout",
     "output_type": "stream",
     "text": [
      "\u001b[1m5/5\u001b[0m \u001b[32m━━━━━━━━━━━━━━━━━━━━\u001b[0m\u001b[37m\u001b[0m \u001b[1m0s\u001b[0m 26ms/step - accuracy: 0.5884 - loss: 1.5863 - precision_6: 0.2401 - recall_6: 0.7525 - val_accuracy: 0.6000 - val_loss: 1.6409 - val_precision_6: 0.2333 - val_recall_6: 0.4375 - learning_rate: 0.0010\n",
      "Epoch 9/100\n",
      "\u001b[1m1/5\u001b[0m \u001b[32m━━━━\u001b[0m\u001b[37m━━━━━━━━━━━━━━━━\u001b[0m \u001b[1m0s\u001b[0m 24ms/step - accuracy: 0.5625 - loss: 1.6604 - precision_6: 0.2069 - recall_6: 0.5455\n",
      "Epoch 9: val_loss improved from 1.64091 to 1.62925, saving model to best_model.h5\n"
     ]
    },
    {
     "name": "stderr",
     "output_type": "stream",
     "text": [
      "WARNING:absl:You are saving your model as an HDF5 file via `model.save()` or `keras.saving.save_model(model)`. This file format is considered legacy. We recommend using instead the native Keras format, e.g. `model.save('my_model.keras')` or `keras.saving.save_model(model, 'my_model.keras')`. \n"
     ]
    },
    {
     "name": "stdout",
     "output_type": "stream",
     "text": [
      "\u001b[1m5/5\u001b[0m \u001b[32m━━━━━━━━━━━━━━━━━━━━\u001b[0m\u001b[37m\u001b[0m \u001b[1m0s\u001b[0m 30ms/step - accuracy: 0.5578 - loss: 1.6625 - precision_6: 0.1898 - recall_6: 0.5563 - val_accuracy: 0.5875 - val_loss: 1.6292 - val_precision_6: 0.2258 - val_recall_6: 0.4375 - learning_rate: 0.0010\n",
      "Epoch 10/100\n",
      "\u001b[1m1/5\u001b[0m \u001b[32m━━━━\u001b[0m\u001b[37m━━━━━━━━━━━━━━━━\u001b[0m \u001b[1m0s\u001b[0m 24ms/step - accuracy: 0.4688 - loss: 1.7054 - precision_6: 0.1515 - recall_6: 0.4545\n",
      "Epoch 10: val_loss improved from 1.62925 to 1.61754, saving model to best_model.h5\n"
     ]
    },
    {
     "name": "stderr",
     "output_type": "stream",
     "text": [
      "WARNING:absl:You are saving your model as an HDF5 file via `model.save()` or `keras.saving.save_model(model)`. This file format is considered legacy. We recommend using instead the native Keras format, e.g. `model.save('my_model.keras')` or `keras.saving.save_model(model, 'my_model.keras')`. \n"
     ]
    },
    {
     "name": "stdout",
     "output_type": "stream",
     "text": [
      "\u001b[1m5/5\u001b[0m \u001b[32m━━━━━━━━━━━━━━━━━━━━\u001b[0m\u001b[37m\u001b[0m \u001b[1m0s\u001b[0m 23ms/step - accuracy: 0.5689 - loss: 1.6211 - precision_6: 0.2114 - recall_6: 0.6379 - val_accuracy: 0.5875 - val_loss: 1.6175 - val_precision_6: 0.2424 - val_recall_6: 0.5000 - learning_rate: 0.0010\n",
      "Epoch 11/100\n",
      "\u001b[1m1/5\u001b[0m \u001b[32m━━━━\u001b[0m\u001b[37m━━━━━━━━━━━━━━━━\u001b[0m \u001b[1m0s\u001b[0m 24ms/step - accuracy: 0.5938 - loss: 1.5601 - precision_6: 0.2581 - recall_6: 0.7273\n",
      "Epoch 11: val_loss improved from 1.61754 to 1.60329, saving model to best_model.h5\n"
     ]
    },
    {
     "name": "stderr",
     "output_type": "stream",
     "text": [
      "WARNING:absl:You are saving your model as an HDF5 file via `model.save()` or `keras.saving.save_model(model)`. This file format is considered legacy. We recommend using instead the native Keras format, e.g. `model.save('my_model.keras')` or `keras.saving.save_model(model, 'my_model.keras')`. \n"
     ]
    },
    {
     "name": "stdout",
     "output_type": "stream",
     "text": [
      "\u001b[1m5/5\u001b[0m \u001b[32m━━━━━━━━━━━━━━━━━━━━\u001b[0m\u001b[37m\u001b[0m \u001b[1m0s\u001b[0m 23ms/step - accuracy: 0.5978 - loss: 1.5772 - precision_6: 0.2240 - recall_6: 0.6341 - val_accuracy: 0.5875 - val_loss: 1.6033 - val_precision_6: 0.2424 - val_recall_6: 0.5000 - learning_rate: 0.0010\n",
      "Epoch 12/100\n",
      "\u001b[1m1/5\u001b[0m \u001b[32m━━━━\u001b[0m\u001b[37m━━━━━━━━━━━━━━━━\u001b[0m \u001b[1m0s\u001b[0m 25ms/step - accuracy: 0.5938 - loss: 1.5734 - precision_6: 0.2414 - recall_6: 0.6364\n",
      "Epoch 12: val_loss improved from 1.60329 to 1.58994, saving model to best_model.h5\n"
     ]
    },
    {
     "name": "stderr",
     "output_type": "stream",
     "text": [
      "WARNING:absl:You are saving your model as an HDF5 file via `model.save()` or `keras.saving.save_model(model)`. This file format is considered legacy. We recommend using instead the native Keras format, e.g. `model.save('my_model.keras')` or `keras.saving.save_model(model, 'my_model.keras')`. \n"
     ]
    },
    {
     "name": "stdout",
     "output_type": "stream",
     "text": [
      "\u001b[1m5/5\u001b[0m \u001b[32m━━━━━━━━━━━━━━━━━━━━\u001b[0m\u001b[37m\u001b[0m \u001b[1m0s\u001b[0m 23ms/step - accuracy: 0.5891 - loss: 1.5686 - precision_6: 0.2266 - recall_6: 0.6704 - val_accuracy: 0.6000 - val_loss: 1.5899 - val_precision_6: 0.2647 - val_recall_6: 0.5625 - learning_rate: 0.0010\n",
      "Epoch 13/100\n",
      "\u001b[1m1/5\u001b[0m \u001b[32m━━━━\u001b[0m\u001b[37m━━━━━━━━━━━━━━━━\u001b[0m \u001b[1m0s\u001b[0m 26ms/step - accuracy: 0.6094 - loss: 1.5765 - precision_6: 0.2308 - recall_6: 0.5455\n",
      "Epoch 13: val_loss improved from 1.58994 to 1.57734, saving model to best_model.h5\n"
     ]
    },
    {
     "name": "stderr",
     "output_type": "stream",
     "text": [
      "WARNING:absl:You are saving your model as an HDF5 file via `model.save()` or `keras.saving.save_model(model)`. This file format is considered legacy. We recommend using instead the native Keras format, e.g. `model.save('my_model.keras')` or `keras.saving.save_model(model, 'my_model.keras')`. \n"
     ]
    },
    {
     "name": "stdout",
     "output_type": "stream",
     "text": [
      "\u001b[1m5/5\u001b[0m \u001b[32m━━━━━━━━━━━━━━━━━━━━\u001b[0m\u001b[37m\u001b[0m \u001b[1m0s\u001b[0m 23ms/step - accuracy: 0.5884 - loss: 1.5459 - precision_6: 0.2164 - recall_6: 0.6183 - val_accuracy: 0.6125 - val_loss: 1.5773 - val_precision_6: 0.2727 - val_recall_6: 0.5625 - learning_rate: 0.0010\n",
      "Epoch 14/100\n",
      "\u001b[1m1/5\u001b[0m \u001b[32m━━━━\u001b[0m\u001b[37m━━━━━━━━━━━━━━━━\u001b[0m \u001b[1m0s\u001b[0m 27ms/step - accuracy: 0.6562 - loss: 1.6329 - precision_6: 0.2800 - recall_6: 0.6364\n",
      "Epoch 14: val_loss improved from 1.57734 to 1.56621, saving model to best_model.h5\n"
     ]
    },
    {
     "name": "stderr",
     "output_type": "stream",
     "text": [
      "WARNING:absl:You are saving your model as an HDF5 file via `model.save()` or `keras.saving.save_model(model)`. This file format is considered legacy. We recommend using instead the native Keras format, e.g. `model.save('my_model.keras')` or `keras.saving.save_model(model, 'my_model.keras')`. \n"
     ]
    },
    {
     "name": "stdout",
     "output_type": "stream",
     "text": [
      "\u001b[1m5/5\u001b[0m \u001b[32m━━━━━━━━━━━━━━━━━━━━\u001b[0m\u001b[37m\u001b[0m \u001b[1m0s\u001b[0m 24ms/step - accuracy: 0.6224 - loss: 1.5654 - precision_6: 0.2403 - recall_6: 0.6466 - val_accuracy: 0.6125 - val_loss: 1.5662 - val_precision_6: 0.2857 - val_recall_6: 0.6250 - learning_rate: 0.0010\n",
      "Epoch 15/100\n",
      "\u001b[1m1/5\u001b[0m \u001b[32m━━━━\u001b[0m\u001b[37m━━━━━━━━━━━━━━━━\u001b[0m \u001b[1m0s\u001b[0m 29ms/step - accuracy: 0.6250 - loss: 1.5146 - precision_6: 0.2593 - recall_6: 0.6364\n",
      "Epoch 15: val_loss improved from 1.56621 to 1.55496, saving model to best_model.h5\n"
     ]
    },
    {
     "name": "stderr",
     "output_type": "stream",
     "text": [
      "WARNING:absl:You are saving your model as an HDF5 file via `model.save()` or `keras.saving.save_model(model)`. This file format is considered legacy. We recommend using instead the native Keras format, e.g. `model.save('my_model.keras')` or `keras.saving.save_model(model, 'my_model.keras')`. \n"
     ]
    },
    {
     "name": "stdout",
     "output_type": "stream",
     "text": [
      "\u001b[1m5/5\u001b[0m \u001b[32m━━━━━━━━━━━━━━━━━━━━\u001b[0m\u001b[37m\u001b[0m \u001b[1m0s\u001b[0m 27ms/step - accuracy: 0.6502 - loss: 1.4813 - precision_6: 0.2667 - recall_6: 0.7021 - val_accuracy: 0.6125 - val_loss: 1.5550 - val_precision_6: 0.2857 - val_recall_6: 0.6250 - learning_rate: 0.0010\n",
      "Epoch 16/100\n",
      "\u001b[1m1/5\u001b[0m \u001b[32m━━━━\u001b[0m\u001b[37m━━━━━━━━━━━━━━━━\u001b[0m \u001b[1m0s\u001b[0m 23ms/step - accuracy: 0.6250 - loss: 1.4544 - precision_6: 0.3030 - recall_6: 0.9091\n",
      "Epoch 16: val_loss improved from 1.55496 to 1.54448, saving model to best_model.h5\n"
     ]
    },
    {
     "name": "stderr",
     "output_type": "stream",
     "text": [
      "WARNING:absl:You are saving your model as an HDF5 file via `model.save()` or `keras.saving.save_model(model)`. This file format is considered legacy. We recommend using instead the native Keras format, e.g. `model.save('my_model.keras')` or `keras.saving.save_model(model, 'my_model.keras')`. \n"
     ]
    },
    {
     "name": "stdout",
     "output_type": "stream",
     "text": [
      "\u001b[1m5/5\u001b[0m \u001b[32m━━━━━━━━━━━━━━━━━━━━\u001b[0m\u001b[37m\u001b[0m \u001b[1m0s\u001b[0m 24ms/step - accuracy: 0.6340 - loss: 1.4777 - precision_6: 0.2698 - recall_6: 0.7842 - val_accuracy: 0.6125 - val_loss: 1.5445 - val_precision_6: 0.2857 - val_recall_6: 0.6250 - learning_rate: 0.0010\n",
      "Epoch 17/100\n",
      "\u001b[1m1/5\u001b[0m \u001b[32m━━━━\u001b[0m\u001b[37m━━━━━━━━━━━━━━━━\u001b[0m \u001b[1m0s\u001b[0m 25ms/step - accuracy: 0.5938 - loss: 1.5361 - precision_6: 0.2222 - recall_6: 0.5455\n",
      "Epoch 17: val_loss improved from 1.54448 to 1.53660, saving model to best_model.h5\n"
     ]
    },
    {
     "name": "stderr",
     "output_type": "stream",
     "text": [
      "WARNING:absl:You are saving your model as an HDF5 file via `model.save()` or `keras.saving.save_model(model)`. This file format is considered legacy. We recommend using instead the native Keras format, e.g. `model.save('my_model.keras')` or `keras.saving.save_model(model, 'my_model.keras')`. \n"
     ]
    },
    {
     "name": "stdout",
     "output_type": "stream",
     "text": [
      "\u001b[1m5/5\u001b[0m \u001b[32m━━━━━━━━━━━━━━━━━━━━\u001b[0m\u001b[37m\u001b[0m \u001b[1m0s\u001b[0m 23ms/step - accuracy: 0.6280 - loss: 1.4940 - precision_6: 0.2427 - recall_6: 0.6487 - val_accuracy: 0.6125 - val_loss: 1.5366 - val_precision_6: 0.2857 - val_recall_6: 0.6250 - learning_rate: 0.0010\n",
      "Epoch 18/100\n",
      "\u001b[1m1/5\u001b[0m \u001b[32m━━━━\u001b[0m\u001b[37m━━━━━━━━━━━━━━━━\u001b[0m \u001b[1m0s\u001b[0m 24ms/step - accuracy: 0.7812 - loss: 1.4060 - precision_6: 0.4286 - recall_6: 0.8182\n",
      "Epoch 18: val_loss improved from 1.53660 to 1.52876, saving model to best_model.h5\n"
     ]
    },
    {
     "name": "stderr",
     "output_type": "stream",
     "text": [
      "WARNING:absl:You are saving your model as an HDF5 file via `model.save()` or `keras.saving.save_model(model)`. This file format is considered legacy. We recommend using instead the native Keras format, e.g. `model.save('my_model.keras')` or `keras.saving.save_model(model, 'my_model.keras')`. \n"
     ]
    },
    {
     "name": "stdout",
     "output_type": "stream",
     "text": [
      "\u001b[1m5/5\u001b[0m \u001b[32m━━━━━━━━━━━━━━━━━━━━\u001b[0m\u001b[37m\u001b[0m \u001b[1m0s\u001b[0m 24ms/step - accuracy: 0.7336 - loss: 1.4102 - precision_6: 0.3543 - recall_6: 0.8354 - val_accuracy: 0.5875 - val_loss: 1.5288 - val_precision_6: 0.2703 - val_recall_6: 0.6250 - learning_rate: 0.0010\n",
      "Epoch 19/100\n",
      "\u001b[1m1/5\u001b[0m \u001b[32m━━━━\u001b[0m\u001b[37m━━━━━━━━━━━━━━━━\u001b[0m \u001b[1m0s\u001b[0m 24ms/step - accuracy: 0.6875 - loss: 1.4436 - precision_6: 0.3200 - recall_6: 0.7273\n",
      "Epoch 19: val_loss improved from 1.52876 to 1.52012, saving model to best_model.h5\n"
     ]
    },
    {
     "name": "stderr",
     "output_type": "stream",
     "text": [
      "WARNING:absl:You are saving your model as an HDF5 file via `model.save()` or `keras.saving.save_model(model)`. This file format is considered legacy. We recommend using instead the native Keras format, e.g. `model.save('my_model.keras')` or `keras.saving.save_model(model, 'my_model.keras')`. \n"
     ]
    },
    {
     "name": "stdout",
     "output_type": "stream",
     "text": [
      "\u001b[1m5/5\u001b[0m \u001b[32m━━━━━━━━━━━━━━━━━━━━\u001b[0m\u001b[37m\u001b[0m \u001b[1m0s\u001b[0m 23ms/step - accuracy: 0.6786 - loss: 1.4167 - precision_6: 0.2890 - recall_6: 0.7183 - val_accuracy: 0.5875 - val_loss: 1.5201 - val_precision_6: 0.2703 - val_recall_6: 0.6250 - learning_rate: 0.0010\n",
      "Epoch 20/100\n",
      "\u001b[1m1/5\u001b[0m \u001b[32m━━━━\u001b[0m\u001b[37m━━━━━━━━━━━━━━━━\u001b[0m \u001b[1m0s\u001b[0m 26ms/step - accuracy: 0.7188 - loss: 1.4397 - precision_6: 0.3333 - recall_6: 0.6364\n",
      "Epoch 20: val_loss improved from 1.52012 to 1.51248, saving model to best_model.h5\n"
     ]
    },
    {
     "name": "stderr",
     "output_type": "stream",
     "text": [
      "WARNING:absl:You are saving your model as an HDF5 file via `model.save()` or `keras.saving.save_model(model)`. This file format is considered legacy. We recommend using instead the native Keras format, e.g. `model.save('my_model.keras')` or `keras.saving.save_model(model, 'my_model.keras')`. \n"
     ]
    },
    {
     "name": "stdout",
     "output_type": "stream",
     "text": [
      "\u001b[1m5/5\u001b[0m \u001b[32m━━━━━━━━━━━━━━━━━━━━\u001b[0m\u001b[37m\u001b[0m \u001b[1m0s\u001b[0m 24ms/step - accuracy: 0.6743 - loss: 1.4218 - precision_6: 0.2845 - recall_6: 0.7018 - val_accuracy: 0.5750 - val_loss: 1.5125 - val_precision_6: 0.2632 - val_recall_6: 0.6250 - learning_rate: 0.0010\n",
      "Epoch 21/100\n",
      "\u001b[1m1/5\u001b[0m \u001b[32m━━━━\u001b[0m\u001b[37m━━━━━━━━━━━━━━━━\u001b[0m \u001b[1m0s\u001b[0m 23ms/step - accuracy: 0.7500 - loss: 1.3882 - precision_6: 0.4000 - recall_6: 0.9091\n",
      "Epoch 21: val_loss improved from 1.51248 to 1.50409, saving model to best_model.h5\n"
     ]
    },
    {
     "name": "stderr",
     "output_type": "stream",
     "text": [
      "WARNING:absl:You are saving your model as an HDF5 file via `model.save()` or `keras.saving.save_model(model)`. This file format is considered legacy. We recommend using instead the native Keras format, e.g. `model.save('my_model.keras')` or `keras.saving.save_model(model, 'my_model.keras')`. \n"
     ]
    },
    {
     "name": "stdout",
     "output_type": "stream",
     "text": [
      "\u001b[1m5/5\u001b[0m \u001b[32m━━━━━━━━━━━━━━━━━━━━\u001b[0m\u001b[37m\u001b[0m \u001b[1m0s\u001b[0m 23ms/step - accuracy: 0.7014 - loss: 1.3928 - precision_6: 0.3307 - recall_6: 0.8693 - val_accuracy: 0.5750 - val_loss: 1.5041 - val_precision_6: 0.2632 - val_recall_6: 0.6250 - learning_rate: 0.0010\n",
      "Epoch 22/100\n",
      "\u001b[1m1/5\u001b[0m \u001b[32m━━━━\u001b[0m\u001b[37m━━━━━━━━━━━━━━━━\u001b[0m \u001b[1m0s\u001b[0m 25ms/step - accuracy: 0.7656 - loss: 1.2961 - precision_6: 0.4167 - recall_6: 0.9091\n",
      "Epoch 22: val_loss improved from 1.50409 to 1.49450, saving model to best_model.h5\n"
     ]
    },
    {
     "name": "stderr",
     "output_type": "stream",
     "text": [
      "WARNING:absl:You are saving your model as an HDF5 file via `model.save()` or `keras.saving.save_model(model)`. This file format is considered legacy. We recommend using instead the native Keras format, e.g. `model.save('my_model.keras')` or `keras.saving.save_model(model, 'my_model.keras')`. \n"
     ]
    },
    {
     "name": "stdout",
     "output_type": "stream",
     "text": [
      "\u001b[1m5/5\u001b[0m \u001b[32m━━━━━━━━━━━━━━━━━━━━\u001b[0m\u001b[37m\u001b[0m \u001b[1m0s\u001b[0m 30ms/step - accuracy: 0.7046 - loss: 1.3490 - precision_6: 0.3243 - recall_6: 0.8073 - val_accuracy: 0.5625 - val_loss: 1.4945 - val_precision_6: 0.2432 - val_recall_6: 0.5625 - learning_rate: 0.0010\n",
      "Epoch 23/100\n",
      "\u001b[1m1/5\u001b[0m \u001b[32m━━━━\u001b[0m\u001b[37m━━━━━━━━━━━━━━━━\u001b[0m \u001b[1m0s\u001b[0m 25ms/step - accuracy: 0.6406 - loss: 1.4467 - precision_6: 0.2500 - recall_6: 0.5455\n",
      "Epoch 23: val_loss improved from 1.49450 to 1.48495, saving model to best_model.h5\n"
     ]
    },
    {
     "name": "stderr",
     "output_type": "stream",
     "text": [
      "WARNING:absl:You are saving your model as an HDF5 file via `model.save()` or `keras.saving.save_model(model)`. This file format is considered legacy. We recommend using instead the native Keras format, e.g. `model.save('my_model.keras')` or `keras.saving.save_model(model, 'my_model.keras')`. \n"
     ]
    },
    {
     "name": "stdout",
     "output_type": "stream",
     "text": [
      "\u001b[1m5/5\u001b[0m \u001b[32m━━━━━━━━━━━━━━━━━━━━\u001b[0m\u001b[37m\u001b[0m \u001b[1m0s\u001b[0m 24ms/step - accuracy: 0.7007 - loss: 1.3869 - precision_6: 0.3040 - recall_6: 0.7051 - val_accuracy: 0.5625 - val_loss: 1.4849 - val_precision_6: 0.2432 - val_recall_6: 0.5625 - learning_rate: 0.0010\n",
      "Epoch 24/100\n",
      "\u001b[1m1/5\u001b[0m \u001b[32m━━━━\u001b[0m\u001b[37m━━━━━━━━━━━━━━━━\u001b[0m \u001b[1m0s\u001b[0m 24ms/step - accuracy: 0.7344 - loss: 1.3217 - precision_6: 0.3750 - recall_6: 0.8182\n",
      "Epoch 24: val_loss improved from 1.48495 to 1.47473, saving model to best_model.h5\n"
     ]
    },
    {
     "name": "stderr",
     "output_type": "stream",
     "text": [
      "WARNING:absl:You are saving your model as an HDF5 file via `model.save()` or `keras.saving.save_model(model)`. This file format is considered legacy. We recommend using instead the native Keras format, e.g. `model.save('my_model.keras')` or `keras.saving.save_model(model, 'my_model.keras')`. \n"
     ]
    },
    {
     "name": "stdout",
     "output_type": "stream",
     "text": [
      "\u001b[1m5/5\u001b[0m \u001b[32m━━━━━━━━━━━━━━━━━━━━\u001b[0m\u001b[37m\u001b[0m \u001b[1m0s\u001b[0m 24ms/step - accuracy: 0.7367 - loss: 1.3222 - precision_6: 0.3598 - recall_6: 0.8704 - val_accuracy: 0.5750 - val_loss: 1.4747 - val_precision_6: 0.2632 - val_recall_6: 0.6250 - learning_rate: 0.0010\n",
      "Epoch 25/100\n",
      "\u001b[1m1/5\u001b[0m \u001b[32m━━━━\u001b[0m\u001b[37m━━━━━━━━━━━━━━━━\u001b[0m \u001b[1m0s\u001b[0m 24ms/step - accuracy: 0.7500 - loss: 1.3634 - precision_6: 0.3810 - recall_6: 0.7273\n",
      "Epoch 25: val_loss improved from 1.47473 to 1.46452, saving model to best_model.h5\n"
     ]
    },
    {
     "name": "stderr",
     "output_type": "stream",
     "text": [
      "WARNING:absl:You are saving your model as an HDF5 file via `model.save()` or `keras.saving.save_model(model)`. This file format is considered legacy. We recommend using instead the native Keras format, e.g. `model.save('my_model.keras')` or `keras.saving.save_model(model, 'my_model.keras')`. \n"
     ]
    },
    {
     "name": "stdout",
     "output_type": "stream",
     "text": [
      "\u001b[1m5/5\u001b[0m \u001b[32m━━━━━━━━━━━━━━━━━━━━\u001b[0m\u001b[37m\u001b[0m \u001b[1m0s\u001b[0m 24ms/step - accuracy: 0.7030 - loss: 1.3462 - precision_6: 0.3172 - recall_6: 0.7628 - val_accuracy: 0.5625 - val_loss: 1.4645 - val_precision_6: 0.2564 - val_recall_6: 0.6250 - learning_rate: 0.0010\n",
      "Epoch 26/100\n",
      "\u001b[1m1/5\u001b[0m \u001b[32m━━━━\u001b[0m\u001b[37m━━━━━━━━━━━━━━━━\u001b[0m \u001b[1m0s\u001b[0m 23ms/step - accuracy: 0.8125 - loss: 1.2239 - precision_6: 0.4783 - recall_6: 1.0000\n",
      "Epoch 26: val_loss improved from 1.46452 to 1.45349, saving model to best_model.h5\n"
     ]
    },
    {
     "name": "stderr",
     "output_type": "stream",
     "text": [
      "WARNING:absl:You are saving your model as an HDF5 file via `model.save()` or `keras.saving.save_model(model)`. This file format is considered legacy. We recommend using instead the native Keras format, e.g. `model.save('my_model.keras')` or `keras.saving.save_model(model, 'my_model.keras')`. \n"
     ]
    },
    {
     "name": "stdout",
     "output_type": "stream",
     "text": [
      "\u001b[1m5/5\u001b[0m \u001b[32m━━━━━━━━━━━━━━━━━━━━\u001b[0m\u001b[37m\u001b[0m \u001b[1m0s\u001b[0m 24ms/step - accuracy: 0.7351 - loss: 1.2891 - precision_6: 0.3642 - recall_6: 0.8970 - val_accuracy: 0.5750 - val_loss: 1.4535 - val_precision_6: 0.2632 - val_recall_6: 0.6250 - learning_rate: 0.0010\n",
      "Epoch 27/100\n",
      "\u001b[1m1/5\u001b[0m \u001b[32m━━━━\u001b[0m\u001b[37m━━━━━━━━━━━━━━━━\u001b[0m \u001b[1m0s\u001b[0m 24ms/step - accuracy: 0.7812 - loss: 1.2741 - precision_6: 0.4348 - recall_6: 0.9091\n",
      "Epoch 27: val_loss improved from 1.45349 to 1.44291, saving model to best_model.h5\n"
     ]
    },
    {
     "name": "stderr",
     "output_type": "stream",
     "text": [
      "WARNING:absl:You are saving your model as an HDF5 file via `model.save()` or `keras.saving.save_model(model)`. This file format is considered legacy. We recommend using instead the native Keras format, e.g. `model.save('my_model.keras')` or `keras.saving.save_model(model, 'my_model.keras')`. \n"
     ]
    },
    {
     "name": "stdout",
     "output_type": "stream",
     "text": [
      "\u001b[1m5/5\u001b[0m \u001b[32m━━━━━━━━━━━━━━━━━━━━\u001b[0m\u001b[37m\u001b[0m \u001b[1m0s\u001b[0m 24ms/step - accuracy: 0.7358 - loss: 1.2864 - precision_6: 0.3562 - recall_6: 0.8410 - val_accuracy: 0.5625 - val_loss: 1.4429 - val_precision_6: 0.2432 - val_recall_6: 0.5625 - learning_rate: 0.0010\n",
      "Epoch 28/100\n",
      "\u001b[1m1/5\u001b[0m \u001b[32m━━━━\u001b[0m\u001b[37m━━━━━━━━━━━━━━━━\u001b[0m \u001b[1m0s\u001b[0m 24ms/step - accuracy: 0.7656 - loss: 1.3179 - precision_6: 0.4091 - recall_6: 0.8182\n",
      "Epoch 28: val_loss improved from 1.44291 to 1.43240, saving model to best_model.h5\n"
     ]
    },
    {
     "name": "stderr",
     "output_type": "stream",
     "text": [
      "WARNING:absl:You are saving your model as an HDF5 file via `model.save()` or `keras.saving.save_model(model)`. This file format is considered legacy. We recommend using instead the native Keras format, e.g. `model.save('my_model.keras')` or `keras.saving.save_model(model, 'my_model.keras')`. \n"
     ]
    },
    {
     "name": "stdout",
     "output_type": "stream",
     "text": [
      "\u001b[1m5/5\u001b[0m \u001b[32m━━━━━━━━━━━━━━━━━━━━\u001b[0m\u001b[37m\u001b[0m \u001b[1m0s\u001b[0m 23ms/step - accuracy: 0.7622 - loss: 1.2883 - precision_6: 0.3833 - recall_6: 0.8393 - val_accuracy: 0.5625 - val_loss: 1.4324 - val_precision_6: 0.2432 - val_recall_6: 0.5625 - learning_rate: 0.0010\n",
      "Epoch 29/100\n",
      "\u001b[1m1/5\u001b[0m \u001b[32m━━━━\u001b[0m\u001b[37m━━━━━━━━━━━━━━━━\u001b[0m \u001b[1m0s\u001b[0m 24ms/step - accuracy: 0.7656 - loss: 1.2856 - precision_6: 0.4091 - recall_6: 0.8182\n",
      "Epoch 29: val_loss improved from 1.43240 to 1.42370, saving model to best_model.h5\n"
     ]
    },
    {
     "name": "stderr",
     "output_type": "stream",
     "text": [
      "WARNING:absl:You are saving your model as an HDF5 file via `model.save()` or `keras.saving.save_model(model)`. This file format is considered legacy. We recommend using instead the native Keras format, e.g. `model.save('my_model.keras')` or `keras.saving.save_model(model, 'my_model.keras')`. \n"
     ]
    },
    {
     "name": "stdout",
     "output_type": "stream",
     "text": [
      "\u001b[1m5/5\u001b[0m \u001b[32m━━━━━━━━━━━━━━━━━━━━\u001b[0m\u001b[37m\u001b[0m \u001b[1m0s\u001b[0m 27ms/step - accuracy: 0.7431 - loss: 1.2724 - precision_6: 0.3640 - recall_6: 0.8423 - val_accuracy: 0.5625 - val_loss: 1.4237 - val_precision_6: 0.2432 - val_recall_6: 0.5625 - learning_rate: 0.0010\n",
      "Epoch 30/100\n",
      "\u001b[1m1/5\u001b[0m \u001b[32m━━━━\u001b[0m\u001b[37m━━━━━━━━━━━━━━━━\u001b[0m \u001b[1m0s\u001b[0m 25ms/step - accuracy: 0.6719 - loss: 1.3841 - precision_6: 0.2917 - recall_6: 0.6364\n",
      "Epoch 30: val_loss improved from 1.42370 to 1.41500, saving model to best_model.h5\n"
     ]
    },
    {
     "name": "stderr",
     "output_type": "stream",
     "text": [
      "WARNING:absl:You are saving your model as an HDF5 file via `model.save()` or `keras.saving.save_model(model)`. This file format is considered legacy. We recommend using instead the native Keras format, e.g. `model.save('my_model.keras')` or `keras.saving.save_model(model, 'my_model.keras')`. \n"
     ]
    },
    {
     "name": "stdout",
     "output_type": "stream",
     "text": [
      "\u001b[1m5/5\u001b[0m \u001b[32m━━━━━━━━━━━━━━━━━━━━\u001b[0m\u001b[37m\u001b[0m \u001b[1m0s\u001b[0m 24ms/step - accuracy: 0.7032 - loss: 1.3162 - precision_6: 0.3083 - recall_6: 0.7169 - val_accuracy: 0.5750 - val_loss: 1.4150 - val_precision_6: 0.2500 - val_recall_6: 0.5625 - learning_rate: 0.0010\n",
      "Epoch 31/100\n",
      "\u001b[1m1/5\u001b[0m \u001b[32m━━━━\u001b[0m\u001b[37m━━━━━━━━━━━━━━━━\u001b[0m \u001b[1m0s\u001b[0m 24ms/step - accuracy: 0.7812 - loss: 1.2422 - precision_6: 0.4286 - recall_6: 0.8182\n",
      "Epoch 31: val_loss improved from 1.41500 to 1.40677, saving model to best_model.h5\n"
     ]
    },
    {
     "name": "stderr",
     "output_type": "stream",
     "text": [
      "WARNING:absl:You are saving your model as an HDF5 file via `model.save()` or `keras.saving.save_model(model)`. This file format is considered legacy. We recommend using instead the native Keras format, e.g. `model.save('my_model.keras')` or `keras.saving.save_model(model, 'my_model.keras')`. \n"
     ]
    },
    {
     "name": "stdout",
     "output_type": "stream",
     "text": [
      "\u001b[1m5/5\u001b[0m \u001b[32m━━━━━━━━━━━━━━━━━━━━\u001b[0m\u001b[37m\u001b[0m \u001b[1m0s\u001b[0m 24ms/step - accuracy: 0.7410 - loss: 1.2480 - precision_6: 0.3601 - recall_6: 0.8265 - val_accuracy: 0.5750 - val_loss: 1.4068 - val_precision_6: 0.2500 - val_recall_6: 0.5625 - learning_rate: 0.0010\n",
      "Epoch 32/100\n",
      "\u001b[1m1/5\u001b[0m \u001b[32m━━━━\u001b[0m\u001b[37m━━━━━━━━━━━━━━━━\u001b[0m \u001b[1m0s\u001b[0m 24ms/step - accuracy: 0.6875 - loss: 1.2658 - precision_6: 0.3333 - recall_6: 0.8182\n",
      "Epoch 32: val_loss improved from 1.40677 to 1.39763, saving model to best_model.h5\n"
     ]
    },
    {
     "name": "stderr",
     "output_type": "stream",
     "text": [
      "WARNING:absl:You are saving your model as an HDF5 file via `model.save()` or `keras.saving.save_model(model)`. This file format is considered legacy. We recommend using instead the native Keras format, e.g. `model.save('my_model.keras')` or `keras.saving.save_model(model, 'my_model.keras')`. \n"
     ]
    },
    {
     "name": "stdout",
     "output_type": "stream",
     "text": [
      "\u001b[1m5/5\u001b[0m \u001b[32m━━━━━━━━━━━━━━━━━━━━\u001b[0m\u001b[37m\u001b[0m \u001b[1m0s\u001b[0m 24ms/step - accuracy: 0.7496 - loss: 1.2258 - precision_6: 0.3730 - recall_6: 0.8634 - val_accuracy: 0.5625 - val_loss: 1.3976 - val_precision_6: 0.2286 - val_recall_6: 0.5000 - learning_rate: 0.0010\n",
      "Epoch 33/100\n",
      "\u001b[1m1/5\u001b[0m \u001b[32m━━━━\u001b[0m\u001b[37m━━━━━━━━━━━━━━━━\u001b[0m \u001b[1m0s\u001b[0m 25ms/step - accuracy: 0.8125 - loss: 1.2403 - precision_6: 0.4667 - recall_6: 0.6364\n",
      "Epoch 33: val_loss improved from 1.39763 to 1.38738, saving model to best_model.h5\n"
     ]
    },
    {
     "name": "stderr",
     "output_type": "stream",
     "text": [
      "WARNING:absl:You are saving your model as an HDF5 file via `model.save()` or `keras.saving.save_model(model)`. This file format is considered legacy. We recommend using instead the native Keras format, e.g. `model.save('my_model.keras')` or `keras.saving.save_model(model, 'my_model.keras')`. \n"
     ]
    },
    {
     "name": "stdout",
     "output_type": "stream",
     "text": [
      "\u001b[1m5/5\u001b[0m \u001b[32m━━━━━━━━━━━━━━━━━━━━\u001b[0m\u001b[37m\u001b[0m \u001b[1m0s\u001b[0m 28ms/step - accuracy: 0.7711 - loss: 1.2199 - precision_6: 0.3882 - recall_6: 0.7562 - val_accuracy: 0.5625 - val_loss: 1.3874 - val_precision_6: 0.2286 - val_recall_6: 0.5000 - learning_rate: 0.0010\n",
      "Epoch 34/100\n",
      "\u001b[1m1/5\u001b[0m \u001b[32m━━━━\u001b[0m\u001b[37m━━━━━━━━━━━━━━━━\u001b[0m \u001b[1m0s\u001b[0m 30ms/step - accuracy: 0.7969 - loss: 1.1535 - precision_6: 0.4583 - recall_6: 1.0000\n",
      "Epoch 34: val_loss improved from 1.38738 to 1.37739, saving model to best_model.h5\n"
     ]
    },
    {
     "name": "stderr",
     "output_type": "stream",
     "text": [
      "WARNING:absl:You are saving your model as an HDF5 file via `model.save()` or `keras.saving.save_model(model)`. This file format is considered legacy. We recommend using instead the native Keras format, e.g. `model.save('my_model.keras')` or `keras.saving.save_model(model, 'my_model.keras')`. \n"
     ]
    },
    {
     "name": "stdout",
     "output_type": "stream",
     "text": [
      "\u001b[1m5/5\u001b[0m \u001b[32m━━━━━━━━━━━━━━━━━━━━\u001b[0m\u001b[37m\u001b[0m \u001b[1m0s\u001b[0m 25ms/step - accuracy: 0.7820 - loss: 1.1710 - precision_6: 0.4096 - recall_6: 0.8943 - val_accuracy: 0.5500 - val_loss: 1.3774 - val_precision_6: 0.2059 - val_recall_6: 0.4375 - learning_rate: 0.0010\n",
      "Epoch 35/100\n",
      "\u001b[1m1/5\u001b[0m \u001b[32m━━━━\u001b[0m\u001b[37m━━━━━━━━━━━━━━━━\u001b[0m \u001b[1m0s\u001b[0m 26ms/step - accuracy: 0.8281 - loss: 1.1656 - precision_6: 0.5000 - recall_6: 1.0000\n",
      "Epoch 35: val_loss improved from 1.37739 to 1.36790, saving model to best_model.h5\n"
     ]
    },
    {
     "name": "stderr",
     "output_type": "stream",
     "text": [
      "WARNING:absl:You are saving your model as an HDF5 file via `model.save()` or `keras.saving.save_model(model)`. This file format is considered legacy. We recommend using instead the native Keras format, e.g. `model.save('my_model.keras')` or `keras.saving.save_model(model, 'my_model.keras')`. \n"
     ]
    },
    {
     "name": "stdout",
     "output_type": "stream",
     "text": [
      "\u001b[1m5/5\u001b[0m \u001b[32m━━━━━━━━━━━━━━━━━━━━\u001b[0m\u001b[37m\u001b[0m \u001b[1m0s\u001b[0m 24ms/step - accuracy: 0.7670 - loss: 1.1907 - precision_6: 0.3940 - recall_6: 0.8911 - val_accuracy: 0.5375 - val_loss: 1.3679 - val_precision_6: 0.2000 - val_recall_6: 0.4375 - learning_rate: 0.0010\n",
      "Epoch 36/100\n",
      "\u001b[1m1/5\u001b[0m \u001b[32m━━━━\u001b[0m\u001b[37m━━━━━━━━━━━━━━━━\u001b[0m \u001b[1m0s\u001b[0m 33ms/step - accuracy: 0.8438 - loss: 1.1740 - precision_6: 0.5333 - recall_6: 0.7273\n",
      "Epoch 36: val_loss improved from 1.36790 to 1.35967, saving model to best_model.h5\n"
     ]
    },
    {
     "name": "stderr",
     "output_type": "stream",
     "text": [
      "WARNING:absl:You are saving your model as an HDF5 file via `model.save()` or `keras.saving.save_model(model)`. This file format is considered legacy. We recommend using instead the native Keras format, e.g. `model.save('my_model.keras')` or `keras.saving.save_model(model, 'my_model.keras')`. \n"
     ]
    },
    {
     "name": "stdout",
     "output_type": "stream",
     "text": [
      "\u001b[1m5/5\u001b[0m \u001b[32m━━━━━━━━━━━━━━━━━━━━\u001b[0m\u001b[37m\u001b[0m \u001b[1m0s\u001b[0m 26ms/step - accuracy: 0.7925 - loss: 1.1608 - precision_6: 0.4204 - recall_6: 0.7912 - val_accuracy: 0.5500 - val_loss: 1.3597 - val_precision_6: 0.2222 - val_recall_6: 0.5000 - learning_rate: 0.0010\n",
      "Epoch 37/100\n",
      "\u001b[1m1/5\u001b[0m \u001b[32m━━━━\u001b[0m\u001b[37m━━━━━━━━━━━━━━━━\u001b[0m \u001b[1m0s\u001b[0m 26ms/step - accuracy: 0.7969 - loss: 1.1735 - precision_6: 0.4545 - recall_6: 0.9091\n",
      "Epoch 37: val_loss improved from 1.35967 to 1.35165, saving model to best_model.h5\n"
     ]
    },
    {
     "name": "stderr",
     "output_type": "stream",
     "text": [
      "WARNING:absl:You are saving your model as an HDF5 file via `model.save()` or `keras.saving.save_model(model)`. This file format is considered legacy. We recommend using instead the native Keras format, e.g. `model.save('my_model.keras')` or `keras.saving.save_model(model, 'my_model.keras')`. \n"
     ]
    },
    {
     "name": "stdout",
     "output_type": "stream",
     "text": [
      "\u001b[1m5/5\u001b[0m \u001b[32m━━━━━━━━━━━━━━━━━━━━\u001b[0m\u001b[37m\u001b[0m \u001b[1m0s\u001b[0m 25ms/step - accuracy: 0.7608 - loss: 1.1885 - precision_6: 0.3842 - recall_6: 0.8614 - val_accuracy: 0.5625 - val_loss: 1.3517 - val_precision_6: 0.2432 - val_recall_6: 0.5625 - learning_rate: 0.0010\n",
      "Epoch 38/100\n",
      "\u001b[1m1/5\u001b[0m \u001b[32m━━━━\u001b[0m\u001b[37m━━━━━━━━━━━━━━━━\u001b[0m \u001b[1m0s\u001b[0m 24ms/step - accuracy: 0.8750 - loss: 1.1784 - precision_6: 0.6000 - recall_6: 0.8182\n",
      "Epoch 38: val_loss improved from 1.35165 to 1.34490, saving model to best_model.h5\n"
     ]
    },
    {
     "name": "stderr",
     "output_type": "stream",
     "text": [
      "WARNING:absl:You are saving your model as an HDF5 file via `model.save()` or `keras.saving.save_model(model)`. This file format is considered legacy. We recommend using instead the native Keras format, e.g. `model.save('my_model.keras')` or `keras.saving.save_model(model, 'my_model.keras')`. \n"
     ]
    },
    {
     "name": "stdout",
     "output_type": "stream",
     "text": [
      "\u001b[1m5/5\u001b[0m \u001b[32m━━━━━━━━━━━━━━━━━━━━\u001b[0m\u001b[37m\u001b[0m \u001b[1m0s\u001b[0m 23ms/step - accuracy: 0.7999 - loss: 1.1625 - precision_6: 0.4355 - recall_6: 0.7918 - val_accuracy: 0.5750 - val_loss: 1.3449 - val_precision_6: 0.2500 - val_recall_6: 0.5625 - learning_rate: 0.0010\n",
      "Epoch 39/100\n",
      "\u001b[1m1/5\u001b[0m \u001b[32m━━━━\u001b[0m\u001b[37m━━━━━━━━━━━━━━━━\u001b[0m \u001b[1m0s\u001b[0m 26ms/step - accuracy: 0.8125 - loss: 1.1540 - precision_6: 0.4762 - recall_6: 0.9091\n",
      "Epoch 39: val_loss improved from 1.34490 to 1.33698, saving model to best_model.h5\n"
     ]
    },
    {
     "name": "stderr",
     "output_type": "stream",
     "text": [
      "WARNING:absl:You are saving your model as an HDF5 file via `model.save()` or `keras.saving.save_model(model)`. This file format is considered legacy. We recommend using instead the native Keras format, e.g. `model.save('my_model.keras')` or `keras.saving.save_model(model, 'my_model.keras')`. \n"
     ]
    },
    {
     "name": "stdout",
     "output_type": "stream",
     "text": [
      "\u001b[1m5/5\u001b[0m \u001b[32m━━━━━━━━━━━━━━━━━━━━\u001b[0m\u001b[37m\u001b[0m \u001b[1m0s\u001b[0m 24ms/step - accuracy: 0.7669 - loss: 1.1510 - precision_6: 0.3968 - recall_6: 0.9129 - val_accuracy: 0.5750 - val_loss: 1.3370 - val_precision_6: 0.2500 - val_recall_6: 0.5625 - learning_rate: 0.0010\n",
      "Epoch 40/100\n",
      "\u001b[1m1/5\u001b[0m \u001b[32m━━━━\u001b[0m\u001b[37m━━━━━━━━━━━━━━━━\u001b[0m \u001b[1m0s\u001b[0m 24ms/step - accuracy: 0.8438 - loss: 1.0942 - precision_6: 0.5238 - recall_6: 1.0000\n",
      "Epoch 40: val_loss improved from 1.33698 to 1.32867, saving model to best_model.h5\n"
     ]
    },
    {
     "name": "stderr",
     "output_type": "stream",
     "text": [
      "WARNING:absl:You are saving your model as an HDF5 file via `model.save()` or `keras.saving.save_model(model)`. This file format is considered legacy. We recommend using instead the native Keras format, e.g. `model.save('my_model.keras')` or `keras.saving.save_model(model, 'my_model.keras')`. \n"
     ]
    },
    {
     "name": "stdout",
     "output_type": "stream",
     "text": [
      "\u001b[1m5/5\u001b[0m \u001b[32m━━━━━━━━━━━━━━━━━━━━\u001b[0m\u001b[37m\u001b[0m \u001b[1m0s\u001b[0m 24ms/step - accuracy: 0.8115 - loss: 1.1202 - precision_6: 0.4531 - recall_6: 0.9528 - val_accuracy: 0.5750 - val_loss: 1.3287 - val_precision_6: 0.2500 - val_recall_6: 0.5625 - learning_rate: 0.0010\n",
      "Epoch 41/100\n",
      "\u001b[1m1/5\u001b[0m \u001b[32m━━━━\u001b[0m\u001b[37m━━━━━━━━━━━━━━━━\u001b[0m \u001b[1m0s\u001b[0m 24ms/step - accuracy: 0.7500 - loss: 1.2226 - precision_6: 0.3684 - recall_6: 0.6364\n",
      "Epoch 41: val_loss improved from 1.32867 to 1.32080, saving model to best_model.h5\n"
     ]
    },
    {
     "name": "stderr",
     "output_type": "stream",
     "text": [
      "WARNING:absl:You are saving your model as an HDF5 file via `model.save()` or `keras.saving.save_model(model)`. This file format is considered legacy. We recommend using instead the native Keras format, e.g. `model.save('my_model.keras')` or `keras.saving.save_model(model, 'my_model.keras')`. \n"
     ]
    },
    {
     "name": "stdout",
     "output_type": "stream",
     "text": [
      "\u001b[1m5/5\u001b[0m \u001b[32m━━━━━━━━━━━━━━━━━━━━\u001b[0m\u001b[37m\u001b[0m \u001b[1m0s\u001b[0m 24ms/step - accuracy: 0.7627 - loss: 1.1562 - precision_6: 0.3770 - recall_6: 0.7873 - val_accuracy: 0.5875 - val_loss: 1.3208 - val_precision_6: 0.2571 - val_recall_6: 0.5625 - learning_rate: 0.0010\n",
      "Epoch 42/100\n",
      "\u001b[1m1/5\u001b[0m \u001b[32m━━━━\u001b[0m\u001b[37m━━━━━━━━━━━━━━━━\u001b[0m \u001b[1m0s\u001b[0m 23ms/step - accuracy: 0.9062 - loss: 1.0437 - precision_6: 0.6471 - recall_6: 1.0000\n",
      "Epoch 42: val_loss improved from 1.32080 to 1.31334, saving model to best_model.h5\n"
     ]
    },
    {
     "name": "stderr",
     "output_type": "stream",
     "text": [
      "WARNING:absl:You are saving your model as an HDF5 file via `model.save()` or `keras.saving.save_model(model)`. This file format is considered legacy. We recommend using instead the native Keras format, e.g. `model.save('my_model.keras')` or `keras.saving.save_model(model, 'my_model.keras')`. \n"
     ]
    },
    {
     "name": "stdout",
     "output_type": "stream",
     "text": [
      "\u001b[1m5/5\u001b[0m \u001b[32m━━━━━━━━━━━━━━━━━━━━\u001b[0m\u001b[37m\u001b[0m \u001b[1m0s\u001b[0m 25ms/step - accuracy: 0.8374 - loss: 1.0668 - precision_6: 0.4957 - recall_6: 0.9347 - val_accuracy: 0.5750 - val_loss: 1.3133 - val_precision_6: 0.2353 - val_recall_6: 0.5000 - learning_rate: 0.0010\n",
      "Epoch 43/100\n",
      "\u001b[1m1/5\u001b[0m \u001b[32m━━━━\u001b[0m\u001b[37m━━━━━━━━━━━━━━━━\u001b[0m \u001b[1m0s\u001b[0m 26ms/step - accuracy: 0.7812 - loss: 1.1023 - precision_6: 0.4211 - recall_6: 0.7273\n",
      "Epoch 43: val_loss improved from 1.31334 to 1.30476, saving model to best_model.h5\n"
     ]
    },
    {
     "name": "stderr",
     "output_type": "stream",
     "text": [
      "WARNING:absl:You are saving your model as an HDF5 file via `model.save()` or `keras.saving.save_model(model)`. This file format is considered legacy. We recommend using instead the native Keras format, e.g. `model.save('my_model.keras')` or `keras.saving.save_model(model, 'my_model.keras')`. \n"
     ]
    },
    {
     "name": "stdout",
     "output_type": "stream",
     "text": [
      "\u001b[1m5/5\u001b[0m \u001b[32m━━━━━━━━━━━━━━━━━━━━\u001b[0m\u001b[37m\u001b[0m \u001b[1m0s\u001b[0m 29ms/step - accuracy: 0.7911 - loss: 1.0659 - precision_6: 0.4183 - recall_6: 0.8443 - val_accuracy: 0.5875 - val_loss: 1.3048 - val_precision_6: 0.2424 - val_recall_6: 0.5000 - learning_rate: 0.0010\n",
      "Epoch 44/100\n",
      "\u001b[1m1/5\u001b[0m \u001b[32m━━━━\u001b[0m\u001b[37m━━━━━━━━━━━━━━━━\u001b[0m \u001b[1m0s\u001b[0m 24ms/step - accuracy: 0.8750 - loss: 1.0718 - precision_6: 0.5882 - recall_6: 0.9091\n",
      "Epoch 44: val_loss improved from 1.30476 to 1.29674, saving model to best_model.h5\n"
     ]
    },
    {
     "name": "stderr",
     "output_type": "stream",
     "text": [
      "WARNING:absl:You are saving your model as an HDF5 file via `model.save()` or `keras.saving.save_model(model)`. This file format is considered legacy. We recommend using instead the native Keras format, e.g. `model.save('my_model.keras')` or `keras.saving.save_model(model, 'my_model.keras')`. \n"
     ]
    },
    {
     "name": "stdout",
     "output_type": "stream",
     "text": [
      "\u001b[1m5/5\u001b[0m \u001b[32m━━━━━━━━━━━━━━━━━━━━\u001b[0m\u001b[37m\u001b[0m \u001b[1m0s\u001b[0m 24ms/step - accuracy: 0.8178 - loss: 1.0587 - precision_6: 0.4622 - recall_6: 0.8865 - val_accuracy: 0.5875 - val_loss: 1.2967 - val_precision_6: 0.2424 - val_recall_6: 0.5000 - learning_rate: 0.0010\n",
      "Epoch 45/100\n",
      "\u001b[1m1/5\u001b[0m \u001b[32m━━━━\u001b[0m\u001b[37m━━━━━━━━━━━━━━━━\u001b[0m \u001b[1m0s\u001b[0m 26ms/step - accuracy: 0.8281 - loss: 1.0396 - precision_6: 0.5000 - recall_6: 0.9091\n",
      "Epoch 45: val_loss improved from 1.29674 to 1.29057, saving model to best_model.h5\n"
     ]
    },
    {
     "name": "stderr",
     "output_type": "stream",
     "text": [
      "WARNING:absl:You are saving your model as an HDF5 file via `model.save()` or `keras.saving.save_model(model)`. This file format is considered legacy. We recommend using instead the native Keras format, e.g. `model.save('my_model.keras')` or `keras.saving.save_model(model, 'my_model.keras')`. \n"
     ]
    },
    {
     "name": "stdout",
     "output_type": "stream",
     "text": [
      "\u001b[1m5/5\u001b[0m \u001b[32m━━━━━━━━━━━━━━━━━━━━\u001b[0m\u001b[37m\u001b[0m \u001b[1m0s\u001b[0m 24ms/step - accuracy: 0.7882 - loss: 1.0821 - precision_6: 0.4118 - recall_6: 0.8109 - val_accuracy: 0.5875 - val_loss: 1.2906 - val_precision_6: 0.2424 - val_recall_6: 0.5000 - learning_rate: 0.0010\n",
      "Epoch 46/100\n",
      "\u001b[1m1/5\u001b[0m \u001b[32m━━━━\u001b[0m\u001b[37m━━━━━━━━━━━━━━━━\u001b[0m \u001b[1m0s\u001b[0m 24ms/step - accuracy: 0.8906 - loss: 0.9833 - precision_6: 0.6111 - recall_6: 1.0000\n",
      "Epoch 46: val_loss improved from 1.29057 to 1.28612, saving model to best_model.h5\n"
     ]
    },
    {
     "name": "stderr",
     "output_type": "stream",
     "text": [
      "WARNING:absl:You are saving your model as an HDF5 file via `model.save()` or `keras.saving.save_model(model)`. This file format is considered legacy. We recommend using instead the native Keras format, e.g. `model.save('my_model.keras')` or `keras.saving.save_model(model, 'my_model.keras')`. \n"
     ]
    },
    {
     "name": "stdout",
     "output_type": "stream",
     "text": [
      "\u001b[1m5/5\u001b[0m \u001b[32m━━━━━━━━━━━━━━━━━━━━\u001b[0m\u001b[37m\u001b[0m \u001b[1m0s\u001b[0m 24ms/step - accuracy: 0.8323 - loss: 1.0197 - precision_6: 0.4888 - recall_6: 0.9459 - val_accuracy: 0.5875 - val_loss: 1.2861 - val_precision_6: 0.2424 - val_recall_6: 0.5000 - learning_rate: 0.0010\n",
      "Epoch 47/100\n",
      "\u001b[1m1/5\u001b[0m \u001b[32m━━━━\u001b[0m\u001b[37m━━━━━━━━━━━━━━━━\u001b[0m \u001b[1m0s\u001b[0m 22ms/step - accuracy: 0.8750 - loss: 0.9937 - precision_6: 0.6000 - recall_6: 0.8182\n",
      "Epoch 47: val_loss improved from 1.28612 to 1.27989, saving model to best_model.h5\n"
     ]
    },
    {
     "name": "stderr",
     "output_type": "stream",
     "text": [
      "WARNING:absl:You are saving your model as an HDF5 file via `model.save()` or `keras.saving.save_model(model)`. This file format is considered legacy. We recommend using instead the native Keras format, e.g. `model.save('my_model.keras')` or `keras.saving.save_model(model, 'my_model.keras')`. \n"
     ]
    },
    {
     "name": "stdout",
     "output_type": "stream",
     "text": [
      "\u001b[1m5/5\u001b[0m \u001b[32m━━━━━━━━━━━━━━━━━━━━\u001b[0m\u001b[37m\u001b[0m \u001b[1m0s\u001b[0m 24ms/step - accuracy: 0.8470 - loss: 1.0094 - precision_6: 0.5104 - recall_6: 0.8885 - val_accuracy: 0.6000 - val_loss: 1.2799 - val_precision_6: 0.2500 - val_recall_6: 0.5000 - learning_rate: 0.0010\n",
      "Epoch 48/100\n",
      "\u001b[1m1/5\u001b[0m \u001b[32m━━━━\u001b[0m\u001b[37m━━━━━━━━━━━━━━━━\u001b[0m \u001b[1m0s\u001b[0m 22ms/step - accuracy: 0.8438 - loss: 1.0263 - precision_6: 0.5263 - recall_6: 0.9091\n",
      "Epoch 48: val_loss improved from 1.27989 to 1.27060, saving model to best_model.h5\n"
     ]
    },
    {
     "name": "stderr",
     "output_type": "stream",
     "text": [
      "WARNING:absl:You are saving your model as an HDF5 file via `model.save()` or `keras.saving.save_model(model)`. This file format is considered legacy. We recommend using instead the native Keras format, e.g. `model.save('my_model.keras')` or `keras.saving.save_model(model, 'my_model.keras')`. \n"
     ]
    },
    {
     "name": "stdout",
     "output_type": "stream",
     "text": [
      "\u001b[1m5/5\u001b[0m \u001b[32m━━━━━━━━━━━━━━━━━━━━\u001b[0m\u001b[37m\u001b[0m \u001b[1m0s\u001b[0m 24ms/step - accuracy: 0.8045 - loss: 1.0296 - precision_6: 0.4421 - recall_6: 0.9070 - val_accuracy: 0.6125 - val_loss: 1.2706 - val_precision_6: 0.2581 - val_recall_6: 0.5000 - learning_rate: 0.0010\n",
      "Epoch 49/100\n",
      "\u001b[1m1/5\u001b[0m \u001b[32m━━━━\u001b[0m\u001b[37m━━━━━━━━━━━━━━━━\u001b[0m \u001b[1m0s\u001b[0m 24ms/step - accuracy: 0.8750 - loss: 0.9504 - precision_6: 0.6000 - recall_6: 0.8182\n",
      "Epoch 49: val_loss improved from 1.27060 to 1.26054, saving model to best_model.h5\n"
     ]
    },
    {
     "name": "stderr",
     "output_type": "stream",
     "text": [
      "WARNING:absl:You are saving your model as an HDF5 file via `model.save()` or `keras.saving.save_model(model)`. This file format is considered legacy. We recommend using instead the native Keras format, e.g. `model.save('my_model.keras')` or `keras.saving.save_model(model, 'my_model.keras')`. \n"
     ]
    },
    {
     "name": "stdout",
     "output_type": "stream",
     "text": [
      "\u001b[1m5/5\u001b[0m \u001b[32m━━━━━━━━━━━━━━━━━━━━\u001b[0m\u001b[37m\u001b[0m \u001b[1m0s\u001b[0m 24ms/step - accuracy: 0.8320 - loss: 1.0129 - precision_6: 0.4832 - recall_6: 0.8301 - val_accuracy: 0.6000 - val_loss: 1.2605 - val_precision_6: 0.2333 - val_recall_6: 0.4375 - learning_rate: 0.0010\n",
      "Epoch 50/100\n",
      "\u001b[1m1/5\u001b[0m \u001b[32m━━━━\u001b[0m\u001b[37m━━━━━━━━━━━━━━━━\u001b[0m \u001b[1m0s\u001b[0m 33ms/step - accuracy: 0.8125 - loss: 0.9563 - precision_6: 0.4783 - recall_6: 1.0000\n",
      "Epoch 50: val_loss improved from 1.26054 to 1.25128, saving model to best_model.h5\n"
     ]
    },
    {
     "name": "stderr",
     "output_type": "stream",
     "text": [
      "WARNING:absl:You are saving your model as an HDF5 file via `model.save()` or `keras.saving.save_model(model)`. This file format is considered legacy. We recommend using instead the native Keras format, e.g. `model.save('my_model.keras')` or `keras.saving.save_model(model, 'my_model.keras')`. \n"
     ]
    },
    {
     "name": "stdout",
     "output_type": "stream",
     "text": [
      "\u001b[1m5/5\u001b[0m \u001b[32m━━━━━━━━━━━━━━━━━━━━\u001b[0m\u001b[37m\u001b[0m \u001b[1m0s\u001b[0m 26ms/step - accuracy: 0.8046 - loss: 0.9647 - precision_6: 0.4441 - recall_6: 0.9753 - val_accuracy: 0.5875 - val_loss: 1.2513 - val_precision_6: 0.2069 - val_recall_6: 0.3750 - learning_rate: 0.0010\n",
      "Epoch 51/100\n",
      "\u001b[1m1/5\u001b[0m \u001b[32m━━━━\u001b[0m\u001b[37m━━━━━━━━━━━━━━━━\u001b[0m \u001b[1m0s\u001b[0m 23ms/step - accuracy: 0.9062 - loss: 0.9490 - precision_6: 0.6471 - recall_6: 1.0000\n",
      "Epoch 51: val_loss improved from 1.25128 to 1.24220, saving model to best_model.h5\n"
     ]
    },
    {
     "name": "stderr",
     "output_type": "stream",
     "text": [
      "WARNING:absl:You are saving your model as an HDF5 file via `model.save()` or `keras.saving.save_model(model)`. This file format is considered legacy. We recommend using instead the native Keras format, e.g. `model.save('my_model.keras')` or `keras.saving.save_model(model, 'my_model.keras')`. \n"
     ]
    },
    {
     "name": "stdout",
     "output_type": "stream",
     "text": [
      "\u001b[1m5/5\u001b[0m \u001b[32m━━━━━━━━━━━━━━━━━━━━\u001b[0m\u001b[37m\u001b[0m \u001b[1m0s\u001b[0m 25ms/step - accuracy: 0.8523 - loss: 0.9594 - precision_6: 0.5185 - recall_6: 0.9683 - val_accuracy: 0.5875 - val_loss: 1.2422 - val_precision_6: 0.2069 - val_recall_6: 0.3750 - learning_rate: 0.0010\n",
      "Epoch 52/100\n",
      "\u001b[1m1/5\u001b[0m \u001b[32m━━━━\u001b[0m\u001b[37m━━━━━━━━━━━━━━━━\u001b[0m \u001b[1m0s\u001b[0m 28ms/step - accuracy: 0.9375 - loss: 0.8786 - precision_6: 0.7333 - recall_6: 1.0000\n",
      "Epoch 52: val_loss improved from 1.24220 to 1.23531, saving model to best_model.h5\n"
     ]
    },
    {
     "name": "stderr",
     "output_type": "stream",
     "text": [
      "WARNING:absl:You are saving your model as an HDF5 file via `model.save()` or `keras.saving.save_model(model)`. This file format is considered legacy. We recommend using instead the native Keras format, e.g. `model.save('my_model.keras')` or `keras.saving.save_model(model, 'my_model.keras')`. \n"
     ]
    },
    {
     "name": "stdout",
     "output_type": "stream",
     "text": [
      "\u001b[1m5/5\u001b[0m \u001b[32m━━━━━━━━━━━━━━━━━━━━\u001b[0m\u001b[37m\u001b[0m \u001b[1m0s\u001b[0m 24ms/step - accuracy: 0.8810 - loss: 0.9179 - precision_6: 0.5743 - recall_6: 0.9776 - val_accuracy: 0.5875 - val_loss: 1.2353 - val_precision_6: 0.2258 - val_recall_6: 0.4375 - learning_rate: 0.0010\n",
      "Epoch 53/100\n",
      "\u001b[1m1/5\u001b[0m \u001b[32m━━━━\u001b[0m\u001b[37m━━━━━━━━━━━━━━━━\u001b[0m \u001b[1m0s\u001b[0m 23ms/step - accuracy: 0.8906 - loss: 0.9462 - precision_6: 0.6250 - recall_6: 0.9091\n",
      "Epoch 53: val_loss improved from 1.23531 to 1.22954, saving model to best_model.h5\n"
     ]
    },
    {
     "name": "stderr",
     "output_type": "stream",
     "text": [
      "WARNING:absl:You are saving your model as an HDF5 file via `model.save()` or `keras.saving.save_model(model)`. This file format is considered legacy. We recommend using instead the native Keras format, e.g. `model.save('my_model.keras')` or `keras.saving.save_model(model, 'my_model.keras')`. \n"
     ]
    },
    {
     "name": "stdout",
     "output_type": "stream",
     "text": [
      "\u001b[1m5/5\u001b[0m \u001b[32m━━━━━━━━━━━━━━━━━━━━\u001b[0m\u001b[37m\u001b[0m \u001b[1m0s\u001b[0m 23ms/step - accuracy: 0.8585 - loss: 0.9319 - precision_6: 0.5298 - recall_6: 0.9429 - val_accuracy: 0.6000 - val_loss: 1.2295 - val_precision_6: 0.2333 - val_recall_6: 0.4375 - learning_rate: 0.0010\n",
      "Epoch 54/100\n",
      "\u001b[1m1/5\u001b[0m \u001b[32m━━━━\u001b[0m\u001b[37m━━━━━━━━━━━━━━━━\u001b[0m \u001b[1m0s\u001b[0m 22ms/step - accuracy: 0.8906 - loss: 0.8937 - precision_6: 0.6250 - recall_6: 0.9091\n",
      "Epoch 54: val_loss improved from 1.22954 to 1.22304, saving model to best_model.h5\n"
     ]
    },
    {
     "name": "stderr",
     "output_type": "stream",
     "text": [
      "WARNING:absl:You are saving your model as an HDF5 file via `model.save()` or `keras.saving.save_model(model)`. This file format is considered legacy. We recommend using instead the native Keras format, e.g. `model.save('my_model.keras')` or `keras.saving.save_model(model, 'my_model.keras')`. \n"
     ]
    },
    {
     "name": "stdout",
     "output_type": "stream",
     "text": [
      "\u001b[1m5/5\u001b[0m \u001b[32m━━━━━━━━━━━━━━━━━━━━\u001b[0m\u001b[37m\u001b[0m \u001b[1m0s\u001b[0m 24ms/step - accuracy: 0.8497 - loss: 0.9308 - precision_6: 0.5151 - recall_6: 0.9129 - val_accuracy: 0.6125 - val_loss: 1.2230 - val_precision_6: 0.2414 - val_recall_6: 0.4375 - learning_rate: 0.0010\n",
      "Epoch 55/100\n",
      "\u001b[1m1/5\u001b[0m \u001b[32m━━━━\u001b[0m\u001b[37m━━━━━━━━━━━━━━━━\u001b[0m \u001b[1m0s\u001b[0m 22ms/step - accuracy: 0.8906 - loss: 0.8996 - precision_6: 0.6111 - recall_6: 1.0000\n",
      "Epoch 55: val_loss improved from 1.22304 to 1.21735, saving model to best_model.h5\n"
     ]
    },
    {
     "name": "stderr",
     "output_type": "stream",
     "text": [
      "WARNING:absl:You are saving your model as an HDF5 file via `model.save()` or `keras.saving.save_model(model)`. This file format is considered legacy. We recommend using instead the native Keras format, e.g. `model.save('my_model.keras')` or `keras.saving.save_model(model, 'my_model.keras')`. \n"
     ]
    },
    {
     "name": "stdout",
     "output_type": "stream",
     "text": [
      "\u001b[1m5/5\u001b[0m \u001b[32m━━━━━━━━━━━━━━━━━━━━\u001b[0m\u001b[37m\u001b[0m \u001b[1m0s\u001b[0m 23ms/step - accuracy: 0.8610 - loss: 0.9071 - precision_6: 0.5313 - recall_6: 0.9657 - val_accuracy: 0.6125 - val_loss: 1.2174 - val_precision_6: 0.2414 - val_recall_6: 0.4375 - learning_rate: 0.0010\n",
      "Epoch 56/100\n",
      "\u001b[1m1/5\u001b[0m \u001b[32m━━━━\u001b[0m\u001b[37m━━━━━━━━━━━━━━━━\u001b[0m \u001b[1m0s\u001b[0m 22ms/step - accuracy: 0.9062 - loss: 0.9768 - precision_6: 0.7273 - recall_6: 0.7273\n",
      "Epoch 56: val_loss improved from 1.21735 to 1.21256, saving model to best_model.h5\n"
     ]
    },
    {
     "name": "stderr",
     "output_type": "stream",
     "text": [
      "WARNING:absl:You are saving your model as an HDF5 file via `model.save()` or `keras.saving.save_model(model)`. This file format is considered legacy. We recommend using instead the native Keras format, e.g. `model.save('my_model.keras')` or `keras.saving.save_model(model, 'my_model.keras')`. \n"
     ]
    },
    {
     "name": "stdout",
     "output_type": "stream",
     "text": [
      "\u001b[1m5/5\u001b[0m \u001b[32m━━━━━━━━━━━━━━━━━━━━\u001b[0m\u001b[37m\u001b[0m \u001b[1m0s\u001b[0m 23ms/step - accuracy: 0.8598 - loss: 0.9301 - precision_6: 0.5473 - recall_6: 0.8552 - val_accuracy: 0.6250 - val_loss: 1.2126 - val_precision_6: 0.2667 - val_recall_6: 0.5000 - learning_rate: 0.0010\n",
      "Epoch 57/100\n",
      "\u001b[1m1/5\u001b[0m \u001b[32m━━━━\u001b[0m\u001b[37m━━━━━━━━━━━━━━━━\u001b[0m \u001b[1m0s\u001b[0m 24ms/step - accuracy: 0.8594 - loss: 0.8871 - precision_6: 0.5500 - recall_6: 1.0000\n",
      "Epoch 57: val_loss improved from 1.21256 to 1.20864, saving model to best_model.h5\n"
     ]
    },
    {
     "name": "stderr",
     "output_type": "stream",
     "text": [
      "WARNING:absl:You are saving your model as an HDF5 file via `model.save()` or `keras.saving.save_model(model)`. This file format is considered legacy. We recommend using instead the native Keras format, e.g. `model.save('my_model.keras')` or `keras.saving.save_model(model, 'my_model.keras')`. \n"
     ]
    },
    {
     "name": "stdout",
     "output_type": "stream",
     "text": [
      "\u001b[1m5/5\u001b[0m \u001b[32m━━━━━━━━━━━━━━━━━━━━\u001b[0m\u001b[37m\u001b[0m \u001b[1m0s\u001b[0m 23ms/step - accuracy: 0.8413 - loss: 0.8966 - precision_6: 0.4964 - recall_6: 0.9571 - val_accuracy: 0.6375 - val_loss: 1.2086 - val_precision_6: 0.2759 - val_recall_6: 0.5000 - learning_rate: 0.0010\n",
      "Epoch 58/100\n",
      "\u001b[1m1/5\u001b[0m \u001b[32m━━━━\u001b[0m\u001b[37m━━━━━━━━━━━━━━━━\u001b[0m \u001b[1m0s\u001b[0m 23ms/step - accuracy: 0.8750 - loss: 0.9143 - precision_6: 0.5882 - recall_6: 0.9091\n",
      "Epoch 58: val_loss improved from 1.20864 to 1.20418, saving model to best_model.h5\n"
     ]
    },
    {
     "name": "stderr",
     "output_type": "stream",
     "text": [
      "WARNING:absl:You are saving your model as an HDF5 file via `model.save()` or `keras.saving.save_model(model)`. This file format is considered legacy. We recommend using instead the native Keras format, e.g. `model.save('my_model.keras')` or `keras.saving.save_model(model, 'my_model.keras')`. \n"
     ]
    },
    {
     "name": "stdout",
     "output_type": "stream",
     "text": [
      "\u001b[1m5/5\u001b[0m \u001b[32m━━━━━━━━━━━━━━━━━━━━\u001b[0m\u001b[37m\u001b[0m \u001b[1m0s\u001b[0m 23ms/step - accuracy: 0.8629 - loss: 0.8912 - precision_6: 0.5361 - recall_6: 0.9601 - val_accuracy: 0.6375 - val_loss: 1.2042 - val_precision_6: 0.2759 - val_recall_6: 0.5000 - learning_rate: 0.0010\n",
      "Epoch 59/100\n",
      "\u001b[1m1/5\u001b[0m \u001b[32m━━━━\u001b[0m\u001b[37m━━━━━━━━━━━━━━━━\u001b[0m \u001b[1m0s\u001b[0m 23ms/step - accuracy: 0.8594 - loss: 0.8943 - precision_6: 0.5556 - recall_6: 0.9091\n",
      "Epoch 59: val_loss improved from 1.20418 to 1.20153, saving model to best_model.h5\n"
     ]
    },
    {
     "name": "stderr",
     "output_type": "stream",
     "text": [
      "WARNING:absl:You are saving your model as an HDF5 file via `model.save()` or `keras.saving.save_model(model)`. This file format is considered legacy. We recommend using instead the native Keras format, e.g. `model.save('my_model.keras')` or `keras.saving.save_model(model, 'my_model.keras')`. \n"
     ]
    },
    {
     "name": "stdout",
     "output_type": "stream",
     "text": [
      "\u001b[1m5/5\u001b[0m \u001b[32m━━━━━━━━━━━━━━━━━━━━\u001b[0m\u001b[37m\u001b[0m \u001b[1m0s\u001b[0m 23ms/step - accuracy: 0.8326 - loss: 0.9218 - precision_6: 0.4821 - recall_6: 0.8845 - val_accuracy: 0.6375 - val_loss: 1.2015 - val_precision_6: 0.2759 - val_recall_6: 0.5000 - learning_rate: 0.0010\n",
      "Epoch 60/100\n",
      "\u001b[1m1/5\u001b[0m \u001b[32m━━━━\u001b[0m\u001b[37m━━━━━━━━━━━━━━━━\u001b[0m \u001b[1m0s\u001b[0m 24ms/step - accuracy: 0.8594 - loss: 0.9103 - precision_6: 0.5556 - recall_6: 0.9091\n",
      "Epoch 60: val_loss improved from 1.20153 to 1.19579, saving model to best_model.h5\n"
     ]
    },
    {
     "name": "stderr",
     "output_type": "stream",
     "text": [
      "WARNING:absl:You are saving your model as an HDF5 file via `model.save()` or `keras.saving.save_model(model)`. This file format is considered legacy. We recommend using instead the native Keras format, e.g. `model.save('my_model.keras')` or `keras.saving.save_model(model, 'my_model.keras')`. \n"
     ]
    },
    {
     "name": "stdout",
     "output_type": "stream",
     "text": [
      "\u001b[1m5/5\u001b[0m \u001b[32m━━━━━━━━━━━━━━━━━━━━\u001b[0m\u001b[37m\u001b[0m \u001b[1m0s\u001b[0m 23ms/step - accuracy: 0.8618 - loss: 0.8930 - precision_6: 0.5349 - recall_6: 0.9126 - val_accuracy: 0.6500 - val_loss: 1.1958 - val_precision_6: 0.2857 - val_recall_6: 0.5000 - learning_rate: 0.0010\n",
      "Epoch 61/100\n",
      "\u001b[1m1/5\u001b[0m \u001b[32m━━━━\u001b[0m\u001b[37m━━━━━━━━━━━━━━━━\u001b[0m \u001b[1m0s\u001b[0m 24ms/step - accuracy: 0.8281 - loss: 0.8989 - precision_6: 0.5000 - recall_6: 0.9091\n",
      "Epoch 61: val_loss improved from 1.19579 to 1.19086, saving model to best_model.h5\n"
     ]
    },
    {
     "name": "stderr",
     "output_type": "stream",
     "text": [
      "WARNING:absl:You are saving your model as an HDF5 file via `model.save()` or `keras.saving.save_model(model)`. This file format is considered legacy. We recommend using instead the native Keras format, e.g. `model.save('my_model.keras')` or `keras.saving.save_model(model, 'my_model.keras')`. \n"
     ]
    },
    {
     "name": "stdout",
     "output_type": "stream",
     "text": [
      "\u001b[1m5/5\u001b[0m \u001b[32m━━━━━━━━━━━━━━━━━━━━\u001b[0m\u001b[37m\u001b[0m \u001b[1m0s\u001b[0m 24ms/step - accuracy: 0.8230 - loss: 0.9032 - precision_6: 0.4639 - recall_6: 0.8317 - val_accuracy: 0.6500 - val_loss: 1.1909 - val_precision_6: 0.2692 - val_recall_6: 0.4375 - learning_rate: 0.0010\n",
      "Epoch 62/100\n",
      "\u001b[1m1/5\u001b[0m \u001b[32m━━━━\u001b[0m\u001b[37m━━━━━━━━━━━━━━━━\u001b[0m \u001b[1m0s\u001b[0m 23ms/step - accuracy: 0.8906 - loss: 0.8572 - precision_6: 0.6111 - recall_6: 1.0000\n",
      "Epoch 62: val_loss improved from 1.19086 to 1.18630, saving model to best_model.h5\n"
     ]
    },
    {
     "name": "stderr",
     "output_type": "stream",
     "text": [
      "WARNING:absl:You are saving your model as an HDF5 file via `model.save()` or `keras.saving.save_model(model)`. This file format is considered legacy. We recommend using instead the native Keras format, e.g. `model.save('my_model.keras')` or `keras.saving.save_model(model, 'my_model.keras')`. \n"
     ]
    },
    {
     "name": "stdout",
     "output_type": "stream",
     "text": [
      "\u001b[1m5/5\u001b[0m \u001b[32m━━━━━━━━━━━━━━━━━━━━\u001b[0m\u001b[37m\u001b[0m \u001b[1m0s\u001b[0m 23ms/step - accuracy: 0.8749 - loss: 0.8563 - precision_6: 0.5577 - recall_6: 0.9620 - val_accuracy: 0.6500 - val_loss: 1.1863 - val_precision_6: 0.2692 - val_recall_6: 0.4375 - learning_rate: 0.0010\n",
      "Epoch 63/100\n",
      "\u001b[1m1/5\u001b[0m \u001b[32m━━━━\u001b[0m\u001b[37m━━━━━━━━━━━━━━━━\u001b[0m \u001b[1m0s\u001b[0m 23ms/step - accuracy: 0.9062 - loss: 0.8167 - precision_6: 0.6667 - recall_6: 0.9091\n",
      "Epoch 63: val_loss improved from 1.18630 to 1.17870, saving model to best_model.h5\n"
     ]
    },
    {
     "name": "stderr",
     "output_type": "stream",
     "text": [
      "WARNING:absl:You are saving your model as an HDF5 file via `model.save()` or `keras.saving.save_model(model)`. This file format is considered legacy. We recommend using instead the native Keras format, e.g. `model.save('my_model.keras')` or `keras.saving.save_model(model, 'my_model.keras')`. \n"
     ]
    },
    {
     "name": "stdout",
     "output_type": "stream",
     "text": [
      "\u001b[1m5/5\u001b[0m \u001b[32m━━━━━━━━━━━━━━━━━━━━\u001b[0m\u001b[37m\u001b[0m \u001b[1m0s\u001b[0m 24ms/step - accuracy: 0.8654 - loss: 0.8265 - precision_6: 0.5440 - recall_6: 0.9532 - val_accuracy: 0.6625 - val_loss: 1.1787 - val_precision_6: 0.2800 - val_recall_6: 0.4375 - learning_rate: 0.0010\n",
      "Epoch 64/100\n",
      "\u001b[1m1/5\u001b[0m \u001b[32m━━━━\u001b[0m\u001b[37m━━━━━━━━━━━━━━━━\u001b[0m \u001b[1m0s\u001b[0m 34ms/step - accuracy: 0.9219 - loss: 0.7983 - precision_6: 0.6875 - recall_6: 1.0000\n",
      "Epoch 64: val_loss improved from 1.17870 to 1.16833, saving model to best_model.h5\n"
     ]
    },
    {
     "name": "stderr",
     "output_type": "stream",
     "text": [
      "WARNING:absl:You are saving your model as an HDF5 file via `model.save()` or `keras.saving.save_model(model)`. This file format is considered legacy. We recommend using instead the native Keras format, e.g. `model.save('my_model.keras')` or `keras.saving.save_model(model, 'my_model.keras')`. \n"
     ]
    },
    {
     "name": "stdout",
     "output_type": "stream",
     "text": [
      "\u001b[1m5/5\u001b[0m \u001b[32m━━━━━━━━━━━━━━━━━━━━\u001b[0m\u001b[37m\u001b[0m \u001b[1m0s\u001b[0m 33ms/step - accuracy: 0.8785 - loss: 0.8107 - precision_6: 0.5669 - recall_6: 0.9888 - val_accuracy: 0.6625 - val_loss: 1.1683 - val_precision_6: 0.2800 - val_recall_6: 0.4375 - learning_rate: 0.0010\n",
      "Epoch 65/100\n",
      "\u001b[1m1/5\u001b[0m \u001b[32m━━━━\u001b[0m\u001b[37m━━━━━━━━━━━━━━━━\u001b[0m \u001b[1m0s\u001b[0m 28ms/step - accuracy: 0.8594 - loss: 0.8314 - precision_6: 0.5625 - recall_6: 0.8182\n",
      "Epoch 65: val_loss improved from 1.16833 to 1.16381, saving model to best_model.h5\n"
     ]
    },
    {
     "name": "stderr",
     "output_type": "stream",
     "text": [
      "WARNING:absl:You are saving your model as an HDF5 file via `model.save()` or `keras.saving.save_model(model)`. This file format is considered legacy. We recommend using instead the native Keras format, e.g. `model.save('my_model.keras')` or `keras.saving.save_model(model, 'my_model.keras')`. \n"
     ]
    },
    {
     "name": "stdout",
     "output_type": "stream",
     "text": [
      "\u001b[1m5/5\u001b[0m \u001b[32m━━━━━━━━━━━━━━━━━━━━\u001b[0m\u001b[37m\u001b[0m \u001b[1m0s\u001b[0m 25ms/step - accuracy: 0.8709 - loss: 0.8296 - precision_6: 0.5560 - recall_6: 0.8955 - val_accuracy: 0.6625 - val_loss: 1.1638 - val_precision_6: 0.2800 - val_recall_6: 0.4375 - learning_rate: 0.0010\n",
      "Epoch 66/100\n",
      "\u001b[1m1/5\u001b[0m \u001b[32m━━━━\u001b[0m\u001b[37m━━━━━━━━━━━━━━━━\u001b[0m \u001b[1m0s\u001b[0m 29ms/step - accuracy: 0.8906 - loss: 0.7818 - precision_6: 0.6111 - recall_6: 1.0000\n",
      "Epoch 66: val_loss improved from 1.16381 to 1.15852, saving model to best_model.h5\n"
     ]
    },
    {
     "name": "stderr",
     "output_type": "stream",
     "text": [
      "WARNING:absl:You are saving your model as an HDF5 file via `model.save()` or `keras.saving.save_model(model)`. This file format is considered legacy. We recommend using instead the native Keras format, e.g. `model.save('my_model.keras')` or `keras.saving.save_model(model, 'my_model.keras')`. \n"
     ]
    },
    {
     "name": "stdout",
     "output_type": "stream",
     "text": [
      "\u001b[1m5/5\u001b[0m \u001b[32m━━━━━━━━━━━━━━━━━━━━\u001b[0m\u001b[37m\u001b[0m \u001b[1m0s\u001b[0m 25ms/step - accuracy: 0.8945 - loss: 0.7994 - precision_6: 0.6017 - recall_6: 0.9604 - val_accuracy: 0.6750 - val_loss: 1.1585 - val_precision_6: 0.2917 - val_recall_6: 0.4375 - learning_rate: 0.0010\n",
      "Epoch 67/100\n",
      "\u001b[1m1/5\u001b[0m \u001b[32m━━━━\u001b[0m\u001b[37m━━━━━━━━━━━━━━━━\u001b[0m \u001b[1m0s\u001b[0m 24ms/step - accuracy: 0.9062 - loss: 0.7746 - precision_6: 0.6667 - recall_6: 0.9091\n",
      "Epoch 67: val_loss improved from 1.15852 to 1.15156, saving model to best_model.h5\n"
     ]
    },
    {
     "name": "stderr",
     "output_type": "stream",
     "text": [
      "WARNING:absl:You are saving your model as an HDF5 file via `model.save()` or `keras.saving.save_model(model)`. This file format is considered legacy. We recommend using instead the native Keras format, e.g. `model.save('my_model.keras')` or `keras.saving.save_model(model, 'my_model.keras')`. \n"
     ]
    },
    {
     "name": "stdout",
     "output_type": "stream",
     "text": [
      "\u001b[1m5/5\u001b[0m \u001b[32m━━━━━━━━━━━━━━━━━━━━\u001b[0m\u001b[37m\u001b[0m \u001b[1m0s\u001b[0m 34ms/step - accuracy: 0.8674 - loss: 0.7914 - precision_6: 0.5486 - recall_6: 0.9284 - val_accuracy: 0.6875 - val_loss: 1.1516 - val_precision_6: 0.3043 - val_recall_6: 0.4375 - learning_rate: 0.0010\n",
      "Epoch 68/100\n",
      "\u001b[1m1/5\u001b[0m \u001b[32m━━━━\u001b[0m\u001b[37m━━━━━━━━━━━━━━━━\u001b[0m \u001b[1m0s\u001b[0m 26ms/step - accuracy: 0.9219 - loss: 0.8303 - precision_6: 0.7143 - recall_6: 0.9091\n",
      "Epoch 68: val_loss improved from 1.15156 to 1.14511, saving model to best_model.h5\n"
     ]
    },
    {
     "name": "stderr",
     "output_type": "stream",
     "text": [
      "WARNING:absl:You are saving your model as an HDF5 file via `model.save()` or `keras.saving.save_model(model)`. This file format is considered legacy. We recommend using instead the native Keras format, e.g. `model.save('my_model.keras')` or `keras.saving.save_model(model, 'my_model.keras')`. \n"
     ]
    },
    {
     "name": "stdout",
     "output_type": "stream",
     "text": [
      "\u001b[1m5/5\u001b[0m \u001b[32m━━━━━━━━━━━━━━━━━━━━\u001b[0m\u001b[37m\u001b[0m \u001b[1m0s\u001b[0m 25ms/step - accuracy: 0.8970 - loss: 0.8057 - precision_6: 0.6136 - recall_6: 0.9377 - val_accuracy: 0.6875 - val_loss: 1.1451 - val_precision_6: 0.3043 - val_recall_6: 0.4375 - learning_rate: 0.0010\n",
      "Epoch 69/100\n",
      "\u001b[1m1/5\u001b[0m \u001b[32m━━━━\u001b[0m\u001b[37m━━━━━━━━━━━━━━━━\u001b[0m \u001b[1m0s\u001b[0m 27ms/step - accuracy: 0.9375 - loss: 0.7506 - precision_6: 0.7333 - recall_6: 1.0000\n",
      "Epoch 69: val_loss improved from 1.14511 to 1.14158, saving model to best_model.h5\n"
     ]
    },
    {
     "name": "stderr",
     "output_type": "stream",
     "text": [
      "WARNING:absl:You are saving your model as an HDF5 file via `model.save()` or `keras.saving.save_model(model)`. This file format is considered legacy. We recommend using instead the native Keras format, e.g. `model.save('my_model.keras')` or `keras.saving.save_model(model, 'my_model.keras')`. \n"
     ]
    },
    {
     "name": "stdout",
     "output_type": "stream",
     "text": [
      "\u001b[1m5/5\u001b[0m \u001b[32m━━━━━━━━━━━━━━━━━━━━\u001b[0m\u001b[37m\u001b[0m \u001b[1m0s\u001b[0m 27ms/step - accuracy: 0.8835 - loss: 0.8015 - precision_6: 0.5826 - recall_6: 0.9221 - val_accuracy: 0.6875 - val_loss: 1.1416 - val_precision_6: 0.3043 - val_recall_6: 0.4375 - learning_rate: 0.0010\n",
      "Epoch 70/100\n",
      "\u001b[1m1/5\u001b[0m \u001b[32m━━━━\u001b[0m\u001b[37m━━━━━━━━━━━━━━━━\u001b[0m \u001b[1m0s\u001b[0m 33ms/step - accuracy: 0.8750 - loss: 0.7487 - precision_6: 0.5882 - recall_6: 0.9091\n",
      "Epoch 70: val_loss improved from 1.14158 to 1.13736, saving model to best_model.h5\n"
     ]
    },
    {
     "name": "stderr",
     "output_type": "stream",
     "text": [
      "WARNING:absl:You are saving your model as an HDF5 file via `model.save()` or `keras.saving.save_model(model)`. This file format is considered legacy. We recommend using instead the native Keras format, e.g. `model.save('my_model.keras')` or `keras.saving.save_model(model, 'my_model.keras')`. \n"
     ]
    },
    {
     "name": "stdout",
     "output_type": "stream",
     "text": [
      "\u001b[1m5/5\u001b[0m \u001b[32m━━━━━━━━━━━━━━━━━━━━\u001b[0m\u001b[37m\u001b[0m \u001b[1m0s\u001b[0m 26ms/step - accuracy: 0.8814 - loss: 0.7622 - precision_6: 0.5765 - recall_6: 0.9205 - val_accuracy: 0.6875 - val_loss: 1.1374 - val_precision_6: 0.3043 - val_recall_6: 0.4375 - learning_rate: 0.0010\n",
      "Epoch 71/100\n",
      "\u001b[1m1/5\u001b[0m \u001b[32m━━━━\u001b[0m\u001b[37m━━━━━━━━━━━━━━━━\u001b[0m \u001b[1m0s\u001b[0m 24ms/step - accuracy: 0.8750 - loss: 0.7841 - precision_6: 0.5789 - recall_6: 1.0000\n",
      "Epoch 71: val_loss improved from 1.13736 to 1.13449, saving model to best_model.h5\n"
     ]
    },
    {
     "name": "stderr",
     "output_type": "stream",
     "text": [
      "WARNING:absl:You are saving your model as an HDF5 file via `model.save()` or `keras.saving.save_model(model)`. This file format is considered legacy. We recommend using instead the native Keras format, e.g. `model.save('my_model.keras')` or `keras.saving.save_model(model, 'my_model.keras')`. \n"
     ]
    },
    {
     "name": "stdout",
     "output_type": "stream",
     "text": [
      "\u001b[1m5/5\u001b[0m \u001b[32m━━━━━━━━━━━━━━━━━━━━\u001b[0m\u001b[37m\u001b[0m \u001b[1m0s\u001b[0m 24ms/step - accuracy: 0.8834 - loss: 0.7763 - precision_6: 0.5759 - recall_6: 0.9706 - val_accuracy: 0.6625 - val_loss: 1.1345 - val_precision_6: 0.2609 - val_recall_6: 0.3750 - learning_rate: 0.0010\n",
      "Epoch 72/100\n",
      "\u001b[1m1/5\u001b[0m \u001b[32m━━━━\u001b[0m\u001b[37m━━━━━━━━━━━━━━━━\u001b[0m \u001b[1m0s\u001b[0m 24ms/step - accuracy: 0.8750 - loss: 0.7702 - precision_6: 0.5882 - recall_6: 0.9091\n",
      "Epoch 72: val_loss improved from 1.13449 to 1.13349, saving model to best_model.h5\n"
     ]
    },
    {
     "name": "stderr",
     "output_type": "stream",
     "text": [
      "WARNING:absl:You are saving your model as an HDF5 file via `model.save()` or `keras.saving.save_model(model)`. This file format is considered legacy. We recommend using instead the native Keras format, e.g. `model.save('my_model.keras')` or `keras.saving.save_model(model, 'my_model.keras')`. \n"
     ]
    },
    {
     "name": "stdout",
     "output_type": "stream",
     "text": [
      "\u001b[1m5/5\u001b[0m \u001b[32m━━━━━━━━━━━━━━━━━━━━\u001b[0m\u001b[37m\u001b[0m \u001b[1m0s\u001b[0m 23ms/step - accuracy: 0.8773 - loss: 0.7675 - precision_6: 0.5663 - recall_6: 0.9248 - val_accuracy: 0.6625 - val_loss: 1.1335 - val_precision_6: 0.2800 - val_recall_6: 0.4375 - learning_rate: 0.0010\n",
      "Epoch 73/100\n",
      "\u001b[1m1/5\u001b[0m \u001b[32m━━━━\u001b[0m\u001b[37m━━━━━━━━━━━━━━━━\u001b[0m \u001b[1m0s\u001b[0m 24ms/step - accuracy: 0.8750 - loss: 0.7751 - precision_6: 0.5882 - recall_6: 0.9091\n",
      "Epoch 73: val_loss improved from 1.13349 to 1.13172, saving model to best_model.h5\n"
     ]
    },
    {
     "name": "stderr",
     "output_type": "stream",
     "text": [
      "WARNING:absl:You are saving your model as an HDF5 file via `model.save()` or `keras.saving.save_model(model)`. This file format is considered legacy. We recommend using instead the native Keras format, e.g. `model.save('my_model.keras')` or `keras.saving.save_model(model, 'my_model.keras')`. \n"
     ]
    },
    {
     "name": "stdout",
     "output_type": "stream",
     "text": [
      "\u001b[1m5/5\u001b[0m \u001b[32m━━━━━━━━━━━━━━━━━━━━\u001b[0m\u001b[37m\u001b[0m \u001b[1m0s\u001b[0m 24ms/step - accuracy: 0.8797 - loss: 0.7468 - precision_6: 0.5700 - recall_6: 0.9489 - val_accuracy: 0.6625 - val_loss: 1.1317 - val_precision_6: 0.2800 - val_recall_6: 0.4375 - learning_rate: 0.0010\n",
      "Epoch 74/100\n",
      "\u001b[1m1/5\u001b[0m \u001b[32m━━━━\u001b[0m\u001b[37m━━━━━━━━━━━━━━━━\u001b[0m \u001b[1m0s\u001b[0m 24ms/step - accuracy: 0.9375 - loss: 0.6989 - precision_6: 0.7333 - recall_6: 1.0000\n",
      "Epoch 74: val_loss improved from 1.13172 to 1.12712, saving model to best_model.h5\n"
     ]
    },
    {
     "name": "stderr",
     "output_type": "stream",
     "text": [
      "WARNING:absl:You are saving your model as an HDF5 file via `model.save()` or `keras.saving.save_model(model)`. This file format is considered legacy. We recommend using instead the native Keras format, e.g. `model.save('my_model.keras')` or `keras.saving.save_model(model, 'my_model.keras')`. \n"
     ]
    },
    {
     "name": "stdout",
     "output_type": "stream",
     "text": [
      "\u001b[1m5/5\u001b[0m \u001b[32m━━━━━━━━━━━━━━━━━━━━\u001b[0m\u001b[37m\u001b[0m \u001b[1m0s\u001b[0m 24ms/step - accuracy: 0.9128 - loss: 0.7095 - precision_6: 0.6439 - recall_6: 1.0000 - val_accuracy: 0.6625 - val_loss: 1.1271 - val_precision_6: 0.2800 - val_recall_6: 0.4375 - learning_rate: 0.0010\n",
      "Epoch 75/100\n",
      "\u001b[1m1/5\u001b[0m \u001b[32m━━━━\u001b[0m\u001b[37m━━━━━━━━━━━━━━━━\u001b[0m \u001b[1m0s\u001b[0m 23ms/step - accuracy: 0.9219 - loss: 0.6846 - precision_6: 0.6875 - recall_6: 1.0000\n",
      "Epoch 75: val_loss improved from 1.12712 to 1.11832, saving model to best_model.h5\n"
     ]
    },
    {
     "name": "stderr",
     "output_type": "stream",
     "text": [
      "WARNING:absl:You are saving your model as an HDF5 file via `model.save()` or `keras.saving.save_model(model)`. This file format is considered legacy. We recommend using instead the native Keras format, e.g. `model.save('my_model.keras')` or `keras.saving.save_model(model, 'my_model.keras')`. \n"
     ]
    },
    {
     "name": "stdout",
     "output_type": "stream",
     "text": [
      "\u001b[1m5/5\u001b[0m \u001b[32m━━━━━━━━━━━━━━━━━━━━\u001b[0m\u001b[37m\u001b[0m \u001b[1m0s\u001b[0m 29ms/step - accuracy: 0.8988 - loss: 0.7115 - precision_6: 0.6176 - recall_6: 0.9330 - val_accuracy: 0.6625 - val_loss: 1.1183 - val_precision_6: 0.2800 - val_recall_6: 0.4375 - learning_rate: 0.0010\n",
      "Epoch 76/100\n",
      "\u001b[1m1/5\u001b[0m \u001b[32m━━━━\u001b[0m\u001b[37m━━━━━━━━━━━━━━━━\u001b[0m \u001b[1m0s\u001b[0m 26ms/step - accuracy: 0.9688 - loss: 0.6956 - precision_6: 0.8462 - recall_6: 1.0000\n",
      "Epoch 76: val_loss improved from 1.11832 to 1.11386, saving model to best_model.h5\n"
     ]
    },
    {
     "name": "stderr",
     "output_type": "stream",
     "text": [
      "WARNING:absl:You are saving your model as an HDF5 file via `model.save()` or `keras.saving.save_model(model)`. This file format is considered legacy. We recommend using instead the native Keras format, e.g. `model.save('my_model.keras')` or `keras.saving.save_model(model, 'my_model.keras')`. \n"
     ]
    },
    {
     "name": "stdout",
     "output_type": "stream",
     "text": [
      "\u001b[1m5/5\u001b[0m \u001b[32m━━━━━━━━━━━━━━━━━━━━\u001b[0m\u001b[37m\u001b[0m \u001b[1m0s\u001b[0m 26ms/step - accuracy: 0.9374 - loss: 0.7081 - precision_6: 0.7268 - recall_6: 0.9716 - val_accuracy: 0.6875 - val_loss: 1.1139 - val_precision_6: 0.3043 - val_recall_6: 0.4375 - learning_rate: 0.0010\n",
      "Epoch 77/100\n",
      "\u001b[1m1/5\u001b[0m \u001b[32m━━━━\u001b[0m\u001b[37m━━━━━━━━━━━━━━━━\u001b[0m \u001b[1m0s\u001b[0m 40ms/step - accuracy: 0.8750 - loss: 0.7530 - precision_6: 0.6000 - recall_6: 0.8182\n",
      "Epoch 77: val_loss improved from 1.11386 to 1.11136, saving model to best_model.h5\n"
     ]
    },
    {
     "name": "stderr",
     "output_type": "stream",
     "text": [
      "WARNING:absl:You are saving your model as an HDF5 file via `model.save()` or `keras.saving.save_model(model)`. This file format is considered legacy. We recommend using instead the native Keras format, e.g. `model.save('my_model.keras')` or `keras.saving.save_model(model, 'my_model.keras')`. \n"
     ]
    },
    {
     "name": "stdout",
     "output_type": "stream",
     "text": [
      "\u001b[1m5/5\u001b[0m \u001b[32m━━━━━━━━━━━━━━━━━━━━\u001b[0m\u001b[37m\u001b[0m \u001b[1m0s\u001b[0m 26ms/step - accuracy: 0.8712 - loss: 0.7423 - precision_6: 0.5569 - recall_6: 0.8955 - val_accuracy: 0.6750 - val_loss: 1.1114 - val_precision_6: 0.2917 - val_recall_6: 0.4375 - learning_rate: 0.0010\n",
      "Epoch 78/100\n",
      "\u001b[1m1/5\u001b[0m \u001b[32m━━━━\u001b[0m\u001b[37m━━━━━━━━━━━━━━━━\u001b[0m \u001b[1m0s\u001b[0m 26ms/step - accuracy: 0.9531 - loss: 0.6059 - precision_6: 0.7857 - recall_6: 1.0000\n",
      "Epoch 78: val_loss improved from 1.11136 to 1.10377, saving model to best_model.h5\n"
     ]
    },
    {
     "name": "stderr",
     "output_type": "stream",
     "text": [
      "WARNING:absl:You are saving your model as an HDF5 file via `model.save()` or `keras.saving.save_model(model)`. This file format is considered legacy. We recommend using instead the native Keras format, e.g. `model.save('my_model.keras')` or `keras.saving.save_model(model, 'my_model.keras')`. \n"
     ]
    },
    {
     "name": "stdout",
     "output_type": "stream",
     "text": [
      "\u001b[1m5/5\u001b[0m \u001b[32m━━━━━━━━━━━━━━━━━━━━\u001b[0m\u001b[37m\u001b[0m \u001b[1m0s\u001b[0m 26ms/step - accuracy: 0.9165 - loss: 0.6615 - precision_6: 0.6549 - recall_6: 1.0000 - val_accuracy: 0.6750 - val_loss: 1.1038 - val_precision_6: 0.2917 - val_recall_6: 0.4375 - learning_rate: 0.0010\n",
      "Epoch 79/100\n",
      "\u001b[1m1/5\u001b[0m \u001b[32m━━━━\u001b[0m\u001b[37m━━━━━━━━━━━━━━━━\u001b[0m \u001b[1m0s\u001b[0m 31ms/step - accuracy: 0.9375 - loss: 0.7141 - precision_6: 0.7692 - recall_6: 0.9091\n",
      "Epoch 79: val_loss improved from 1.10377 to 1.09333, saving model to best_model.h5\n"
     ]
    },
    {
     "name": "stderr",
     "output_type": "stream",
     "text": [
      "WARNING:absl:You are saving your model as an HDF5 file via `model.save()` or `keras.saving.save_model(model)`. This file format is considered legacy. We recommend using instead the native Keras format, e.g. `model.save('my_model.keras')` or `keras.saving.save_model(model, 'my_model.keras')`. \n"
     ]
    },
    {
     "name": "stdout",
     "output_type": "stream",
     "text": [
      "\u001b[1m5/5\u001b[0m \u001b[32m━━━━━━━━━━━━━━━━━━━━\u001b[0m\u001b[37m\u001b[0m \u001b[1m0s\u001b[0m 25ms/step - accuracy: 0.8963 - loss: 0.7036 - precision_6: 0.6150 - recall_6: 0.9429 - val_accuracy: 0.6625 - val_loss: 1.0933 - val_precision_6: 0.2609 - val_recall_6: 0.3750 - learning_rate: 0.0010\n",
      "Epoch 80/100\n",
      "\u001b[1m1/5\u001b[0m \u001b[32m━━━━\u001b[0m\u001b[37m━━━━━━━━━━━━━━━━\u001b[0m \u001b[1m0s\u001b[0m 30ms/step - accuracy: 0.9688 - loss: 0.6161 - precision_6: 0.8462 - recall_6: 1.0000\n",
      "Epoch 80: val_loss improved from 1.09333 to 1.07885, saving model to best_model.h5\n"
     ]
    },
    {
     "name": "stderr",
     "output_type": "stream",
     "text": [
      "WARNING:absl:You are saving your model as an HDF5 file via `model.save()` or `keras.saving.save_model(model)`. This file format is considered legacy. We recommend using instead the native Keras format, e.g. `model.save('my_model.keras')` or `keras.saving.save_model(model, 'my_model.keras')`. \n"
     ]
    },
    {
     "name": "stdout",
     "output_type": "stream",
     "text": [
      "\u001b[1m5/5\u001b[0m \u001b[32m━━━━━━━━━━━━━━━━━━━━\u001b[0m\u001b[37m\u001b[0m \u001b[1m0s\u001b[0m 23ms/step - accuracy: 0.9299 - loss: 0.6556 - precision_6: 0.7001 - recall_6: 0.9753 - val_accuracy: 0.6750 - val_loss: 1.0788 - val_precision_6: 0.2500 - val_recall_6: 0.3125 - learning_rate: 0.0010\n",
      "Epoch 81/100\n",
      "\u001b[1m1/5\u001b[0m \u001b[32m━━━━\u001b[0m\u001b[37m━━━━━━━━━━━━━━━━\u001b[0m \u001b[1m0s\u001b[0m 25ms/step - accuracy: 0.9375 - loss: 0.6169 - precision_6: 0.7333 - recall_6: 1.0000\n",
      "Epoch 81: val_loss improved from 1.07885 to 1.06752, saving model to best_model.h5\n"
     ]
    },
    {
     "name": "stderr",
     "output_type": "stream",
     "text": [
      "WARNING:absl:You are saving your model as an HDF5 file via `model.save()` or `keras.saving.save_model(model)`. This file format is considered legacy. We recommend using instead the native Keras format, e.g. `model.save('my_model.keras')` or `keras.saving.save_model(model, 'my_model.keras')`. \n"
     ]
    },
    {
     "name": "stdout",
     "output_type": "stream",
     "text": [
      "\u001b[1m5/5\u001b[0m \u001b[32m━━━━━━━━━━━━━━━━━━━━\u001b[0m\u001b[37m\u001b[0m \u001b[1m0s\u001b[0m 26ms/step - accuracy: 0.9161 - loss: 0.6450 - precision_6: 0.6539 - recall_6: 0.9888 - val_accuracy: 0.6875 - val_loss: 1.0675 - val_precision_6: 0.2632 - val_recall_6: 0.3125 - learning_rate: 0.0010\n",
      "Epoch 82/100\n",
      "\u001b[1m1/5\u001b[0m \u001b[32m━━━━\u001b[0m\u001b[37m━━━━━━━━━━━━━━━━\u001b[0m \u001b[1m0s\u001b[0m 25ms/step - accuracy: 0.9375 - loss: 0.7020 - precision_6: 0.8182 - recall_6: 0.8182\n",
      "Epoch 82: val_loss improved from 1.06752 to 1.06273, saving model to best_model.h5\n"
     ]
    },
    {
     "name": "stderr",
     "output_type": "stream",
     "text": [
      "WARNING:absl:You are saving your model as an HDF5 file via `model.save()` or `keras.saving.save_model(model)`. This file format is considered legacy. We recommend using instead the native Keras format, e.g. `model.save('my_model.keras')` or `keras.saving.save_model(model, 'my_model.keras')`. \n"
     ]
    },
    {
     "name": "stdout",
     "output_type": "stream",
     "text": [
      "\u001b[1m5/5\u001b[0m \u001b[32m━━━━━━━━━━━━━━━━━━━━\u001b[0m\u001b[37m\u001b[0m \u001b[1m0s\u001b[0m 24ms/step - accuracy: 0.9134 - loss: 0.6719 - precision_6: 0.6700 - recall_6: 0.9090 - val_accuracy: 0.6750 - val_loss: 1.0627 - val_precision_6: 0.2500 - val_recall_6: 0.3125 - learning_rate: 0.0010\n",
      "Epoch 83/100\n",
      "\u001b[1m1/5\u001b[0m \u001b[32m━━━━\u001b[0m\u001b[37m━━━━━━━━━━━━━━━━\u001b[0m \u001b[1m0s\u001b[0m 26ms/step - accuracy: 0.9375 - loss: 0.6143 - precision_6: 0.7333 - recall_6: 1.0000\n",
      "Epoch 83: val_loss improved from 1.06273 to 1.06114, saving model to best_model.h5\n"
     ]
    },
    {
     "name": "stderr",
     "output_type": "stream",
     "text": [
      "WARNING:absl:You are saving your model as an HDF5 file via `model.save()` or `keras.saving.save_model(model)`. This file format is considered legacy. We recommend using instead the native Keras format, e.g. `model.save('my_model.keras')` or `keras.saving.save_model(model, 'my_model.keras')`. \n"
     ]
    },
    {
     "name": "stdout",
     "output_type": "stream",
     "text": [
      "\u001b[1m5/5\u001b[0m \u001b[32m━━━━━━━━━━━━━━━━━━━━\u001b[0m\u001b[37m\u001b[0m \u001b[1m0s\u001b[0m 24ms/step - accuracy: 0.9217 - loss: 0.6429 - precision_6: 0.6703 - recall_6: 0.9888 - val_accuracy: 0.6875 - val_loss: 1.0611 - val_precision_6: 0.2632 - val_recall_6: 0.3125 - learning_rate: 0.0010\n",
      "Epoch 84/100\n",
      "\u001b[1m1/5\u001b[0m \u001b[32m━━━━\u001b[0m\u001b[37m━━━━━━━━━━━━━━━━\u001b[0m \u001b[1m0s\u001b[0m 25ms/step - accuracy: 0.9219 - loss: 0.6829 - precision_6: 0.7143 - recall_6: 0.9091\n",
      "Epoch 84: val_loss improved from 1.06114 to 1.06000, saving model to best_model.h5\n"
     ]
    },
    {
     "name": "stderr",
     "output_type": "stream",
     "text": [
      "WARNING:absl:You are saving your model as an HDF5 file via `model.save()` or `keras.saving.save_model(model)`. This file format is considered legacy. We recommend using instead the native Keras format, e.g. `model.save('my_model.keras')` or `keras.saving.save_model(model, 'my_model.keras')`. \n"
     ]
    },
    {
     "name": "stdout",
     "output_type": "stream",
     "text": [
      "\u001b[1m5/5\u001b[0m \u001b[32m━━━━━━━━━━━━━━━━━━━━\u001b[0m\u001b[37m\u001b[0m \u001b[1m0s\u001b[0m 25ms/step - accuracy: 0.8982 - loss: 0.6816 - precision_6: 0.6184 - recall_6: 0.9284 - val_accuracy: 0.6875 - val_loss: 1.0600 - val_precision_6: 0.2353 - val_recall_6: 0.2500 - learning_rate: 0.0010\n",
      "Epoch 85/100\n",
      "\u001b[1m1/5\u001b[0m \u001b[32m━━━━\u001b[0m\u001b[37m━━━━━━━━━━━━━━━━\u001b[0m \u001b[1m0s\u001b[0m 25ms/step - accuracy: 0.9688 - loss: 0.6044 - precision_6: 0.8462 - recall_6: 1.0000\n",
      "Epoch 85: val_loss did not improve from 1.06000\n",
      "\u001b[1m5/5\u001b[0m \u001b[32m━━━━━━━━━━━━━━━━━━━━\u001b[0m\u001b[37m\u001b[0m \u001b[1m0s\u001b[0m 17ms/step - accuracy: 0.9492 - loss: 0.6053 - precision_6: 0.7613 - recall_6: 0.9828 - val_accuracy: 0.7000 - val_loss: 1.0602 - val_precision_6: 0.2500 - val_recall_6: 0.2500 - learning_rate: 0.0010\n",
      "Epoch 86/100\n",
      "\u001b[1m1/5\u001b[0m \u001b[32m━━━━\u001b[0m\u001b[37m━━━━━━━━━━━━━━━━\u001b[0m \u001b[1m0s\u001b[0m 23ms/step - accuracy: 0.9844 - loss: 0.5761 - precision_6: 0.9167 - recall_6: 1.0000\n",
      "Epoch 86: val_loss did not improve from 1.06000\n",
      "\u001b[1m5/5\u001b[0m \u001b[32m━━━━━━━━━━━━━━━━━━━━\u001b[0m\u001b[37m\u001b[0m \u001b[1m0s\u001b[0m 16ms/step - accuracy: 0.9531 - loss: 0.6402 - precision_6: 0.7863 - recall_6: 0.9640 - val_accuracy: 0.6875 - val_loss: 1.0636 - val_precision_6: 0.2353 - val_recall_6: 0.2500 - learning_rate: 0.0010\n",
      "Epoch 87/100\n",
      "\u001b[1m1/5\u001b[0m \u001b[32m━━━━\u001b[0m\u001b[37m━━━━━━━━━━━━━━━━\u001b[0m \u001b[1m0s\u001b[0m 24ms/step - accuracy: 0.9844 - loss: 0.5740 - precision_6: 0.9167 - recall_6: 1.0000\n",
      "Epoch 87: val_loss did not improve from 1.06000\n",
      "\u001b[1m5/5\u001b[0m \u001b[32m━━━━━━━━━━━━━━━━━━━━\u001b[0m\u001b[37m\u001b[0m \u001b[1m0s\u001b[0m 17ms/step - accuracy: 0.9522 - loss: 0.5838 - precision_6: 0.7691 - recall_6: 1.0000 - val_accuracy: 0.6875 - val_loss: 1.0690 - val_precision_6: 0.2353 - val_recall_6: 0.2500 - learning_rate: 0.0010\n",
      "Epoch 88/100\n",
      "\u001b[1m1/5\u001b[0m \u001b[32m━━━━\u001b[0m\u001b[37m━━━━━━━━━━━━━━━━\u001b[0m \u001b[1m0s\u001b[0m 25ms/step - accuracy: 0.9688 - loss: 0.5711 - precision_6: 0.8462 - recall_6: 1.0000\n",
      "Epoch 88: val_loss did not improve from 1.06000\n",
      "\u001b[1m5/5\u001b[0m \u001b[32m━━━━━━━━━━━━━━━━━━━━\u001b[0m\u001b[37m\u001b[0m \u001b[1m0s\u001b[0m 20ms/step - accuracy: 0.9275 - loss: 0.6184 - precision_6: 0.6936 - recall_6: 0.9716 - val_accuracy: 0.7125 - val_loss: 1.0665 - val_precision_6: 0.2941 - val_recall_6: 0.3125 - learning_rate: 0.0010\n",
      "Epoch 89/100\n",
      "\u001b[1m1/5\u001b[0m \u001b[32m━━━━\u001b[0m\u001b[37m━━━━━━━━━━━━━━━━\u001b[0m \u001b[1m0s\u001b[0m 24ms/step - accuracy: 0.9531 - loss: 0.5703 - precision_6: 0.7857 - recall_6: 1.0000\n",
      "Epoch 89: val_loss did not improve from 1.06000\n",
      "\u001b[1m5/5\u001b[0m \u001b[32m━━━━━━━━━━━━━━━━━━━━\u001b[0m\u001b[37m\u001b[0m \u001b[1m0s\u001b[0m 18ms/step - accuracy: 0.9432 - loss: 0.5709 - precision_6: 0.7369 - recall_6: 1.0000 - val_accuracy: 0.7125 - val_loss: 1.0611 - val_precision_6: 0.2941 - val_recall_6: 0.3125 - learning_rate: 0.0010\n",
      "Epoch 90/100\n",
      "\u001b[1m1/5\u001b[0m \u001b[32m━━━━\u001b[0m\u001b[37m━━━━━━━━━━━━━━━━\u001b[0m \u001b[1m0s\u001b[0m 24ms/step - accuracy: 0.9531 - loss: 0.5622 - precision_6: 0.7857 - recall_6: 1.0000\n",
      "Epoch 90: val_loss improved from 1.06000 to 1.05401, saving model to best_model.h5\n"
     ]
    },
    {
     "name": "stderr",
     "output_type": "stream",
     "text": [
      "WARNING:absl:You are saving your model as an HDF5 file via `model.save()` or `keras.saving.save_model(model)`. This file format is considered legacy. We recommend using instead the native Keras format, e.g. `model.save('my_model.keras')` or `keras.saving.save_model(model, 'my_model.keras')`. \n"
     ]
    },
    {
     "name": "stdout",
     "output_type": "stream",
     "text": [
      "\u001b[1m5/5\u001b[0m \u001b[32m━━━━━━━━━━━━━━━━━━━━\u001b[0m\u001b[37m\u001b[0m \u001b[1m0s\u001b[0m 24ms/step - accuracy: 0.9278 - loss: 0.5995 - precision_6: 0.6898 - recall_6: 0.9818 - val_accuracy: 0.7125 - val_loss: 1.0540 - val_precision_6: 0.2941 - val_recall_6: 0.3125 - learning_rate: 0.0010\n",
      "Epoch 91/100\n",
      "\u001b[1m1/5\u001b[0m \u001b[32m━━━━\u001b[0m\u001b[37m━━━━━━━━━━━━━━━━\u001b[0m \u001b[1m0s\u001b[0m 25ms/step - accuracy: 0.9688 - loss: 0.5592 - precision_6: 0.8462 - recall_6: 1.0000\n",
      "Epoch 91: val_loss improved from 1.05401 to 1.05132, saving model to best_model.h5\n"
     ]
    },
    {
     "name": "stderr",
     "output_type": "stream",
     "text": [
      "WARNING:absl:You are saving your model as an HDF5 file via `model.save()` or `keras.saving.save_model(model)`. This file format is considered legacy. We recommend using instead the native Keras format, e.g. `model.save('my_model.keras')` or `keras.saving.save_model(model, 'my_model.keras')`. \n"
     ]
    },
    {
     "name": "stdout",
     "output_type": "stream",
     "text": [
      "\u001b[1m5/5\u001b[0m \u001b[32m━━━━━━━━━━━━━━━━━━━━\u001b[0m\u001b[37m\u001b[0m \u001b[1m0s\u001b[0m 24ms/step - accuracy: 0.9415 - loss: 0.6069 - precision_6: 0.7391 - recall_6: 0.9753 - val_accuracy: 0.6875 - val_loss: 1.0513 - val_precision_6: 0.2632 - val_recall_6: 0.3125 - learning_rate: 0.0010\n",
      "Epoch 92/100\n",
      "\u001b[1m1/5\u001b[0m \u001b[32m━━━━\u001b[0m\u001b[37m━━━━━━━━━━━━━━━━\u001b[0m \u001b[1m0s\u001b[0m 25ms/step - accuracy: 0.9688 - loss: 0.5667 - precision_6: 0.8462 - recall_6: 1.0000\n",
      "Epoch 92: val_loss improved from 1.05132 to 1.05024, saving model to best_model.h5\n"
     ]
    },
    {
     "name": "stderr",
     "output_type": "stream",
     "text": [
      "WARNING:absl:You are saving your model as an HDF5 file via `model.save()` or `keras.saving.save_model(model)`. This file format is considered legacy. We recommend using instead the native Keras format, e.g. `model.save('my_model.keras')` or `keras.saving.save_model(model, 'my_model.keras')`. \n"
     ]
    },
    {
     "name": "stdout",
     "output_type": "stream",
     "text": [
      "\u001b[1m5/5\u001b[0m \u001b[32m━━━━━━━━━━━━━━━━━━━━\u001b[0m\u001b[37m\u001b[0m \u001b[1m0s\u001b[0m 25ms/step - accuracy: 0.9503 - loss: 0.5569 - precision_6: 0.7620 - recall_6: 0.9931 - val_accuracy: 0.6875 - val_loss: 1.0502 - val_precision_6: 0.2632 - val_recall_6: 0.3125 - learning_rate: 0.0010\n",
      "Epoch 93/100\n",
      "\u001b[1m1/5\u001b[0m \u001b[32m━━━━\u001b[0m\u001b[37m━━━━━━━━━━━━━━━━\u001b[0m \u001b[1m0s\u001b[0m 28ms/step - accuracy: 0.9531 - loss: 0.5613 - precision_6: 0.7857 - recall_6: 1.0000\n",
      "Epoch 93: val_loss improved from 1.05024 to 1.04872, saving model to best_model.h5\n"
     ]
    },
    {
     "name": "stderr",
     "output_type": "stream",
     "text": [
      "WARNING:absl:You are saving your model as an HDF5 file via `model.save()` or `keras.saving.save_model(model)`. This file format is considered legacy. We recommend using instead the native Keras format, e.g. `model.save('my_model.keras')` or `keras.saving.save_model(model, 'my_model.keras')`. \n"
     ]
    },
    {
     "name": "stdout",
     "output_type": "stream",
     "text": [
      "\u001b[1m5/5\u001b[0m \u001b[32m━━━━━━━━━━━━━━━━━━━━\u001b[0m\u001b[37m\u001b[0m \u001b[1m0s\u001b[0m 26ms/step - accuracy: 0.9387 - loss: 0.5645 - precision_6: 0.7193 - recall_6: 1.0000 - val_accuracy: 0.6875 - val_loss: 1.0487 - val_precision_6: 0.2632 - val_recall_6: 0.3125 - learning_rate: 0.0010\n",
      "Epoch 94/100\n",
      "\u001b[1m1/5\u001b[0m \u001b[32m━━━━\u001b[0m\u001b[37m━━━━━━━━━━━━━━━━\u001b[0m \u001b[1m0s\u001b[0m 50ms/step - accuracy: 0.9531 - loss: 0.5655 - precision_6: 0.8333 - recall_6: 0.9091\n",
      "Epoch 94: val_loss did not improve from 1.04872\n",
      "\u001b[1m5/5\u001b[0m \u001b[32m━━━━━━━━━━━━━━━━━━━━\u001b[0m\u001b[37m\u001b[0m \u001b[1m0s\u001b[0m 21ms/step - accuracy: 0.9450 - loss: 0.5504 - precision_6: 0.7567 - recall_6: 0.9601 - val_accuracy: 0.7000 - val_loss: 1.0492 - val_precision_6: 0.2778 - val_recall_6: 0.3125 - learning_rate: 0.0010\n",
      "Epoch 95/100\n",
      "\u001b[1m1/5\u001b[0m \u001b[32m━━━━\u001b[0m\u001b[37m━━━━━━━━━━━━━━━━\u001b[0m \u001b[1m0s\u001b[0m 26ms/step - accuracy: 0.9688 - loss: 0.5551 - precision_6: 0.8462 - recall_6: 1.0000\n",
      "Epoch 95: val_loss did not improve from 1.04872\n",
      "\u001b[1m5/5\u001b[0m \u001b[32m━━━━━━━━━━━━━━━━━━━━\u001b[0m\u001b[37m\u001b[0m \u001b[1m0s\u001b[0m 17ms/step - accuracy: 0.9481 - loss: 0.5496 - precision_6: 0.7522 - recall_6: 1.0000 - val_accuracy: 0.7250 - val_loss: 1.0504 - val_precision_6: 0.3125 - val_recall_6: 0.3125 - learning_rate: 0.0010\n",
      "Epoch 96/100\n",
      "\u001b[1m1/5\u001b[0m \u001b[32m━━━━\u001b[0m\u001b[37m━━━━━━━━━━━━━━━━\u001b[0m \u001b[1m0s\u001b[0m 24ms/step - accuracy: 0.9531 - loss: 0.5809 - precision_6: 0.8333 - recall_6: 0.9091\n",
      "Epoch 96: val_loss did not improve from 1.04872\n",
      "\u001b[1m5/5\u001b[0m \u001b[32m━━━━━━━━━━━━━━━━━━━━\u001b[0m\u001b[37m\u001b[0m \u001b[1m0s\u001b[0m 16ms/step - accuracy: 0.9470 - loss: 0.5597 - precision_6: 0.7705 - recall_6: 0.9429 - val_accuracy: 0.7375 - val_loss: 1.0535 - val_precision_6: 0.3333 - val_recall_6: 0.3125 - learning_rate: 0.0010\n",
      "Epoch 97/100\n",
      "\u001b[1m1/5\u001b[0m \u001b[32m━━━━\u001b[0m\u001b[37m━━━━━━━━━━━━━━━━\u001b[0m \u001b[1m0s\u001b[0m 24ms/step - accuracy: 0.9062 - loss: 0.5567 - precision_6: 0.6471 - recall_6: 1.0000\n",
      "Epoch 97: val_loss did not improve from 1.04872\n",
      "\u001b[1m5/5\u001b[0m \u001b[32m━━━━━━━━━━━━━━━━━━━━\u001b[0m\u001b[37m\u001b[0m \u001b[1m0s\u001b[0m 17ms/step - accuracy: 0.9362 - loss: 0.5367 - precision_6: 0.7168 - recall_6: 0.9888 - val_accuracy: 0.7250 - val_loss: 1.0529 - val_precision_6: 0.2857 - val_recall_6: 0.2500 - learning_rate: 0.0010\n",
      "Epoch 98/100\n",
      "\u001b[1m1/5\u001b[0m \u001b[32m━━━━\u001b[0m\u001b[37m━━━━━━━━━━━━━━━━\u001b[0m \u001b[1m0s\u001b[0m 25ms/step - accuracy: 0.9375 - loss: 0.5431 - precision_6: 0.7692 - recall_6: 0.9091\n",
      "Epoch 98: val_loss did not improve from 1.04872\n",
      "\u001b[1m5/5\u001b[0m \u001b[32m━━━━━━━━━━━━━━━━━━━━\u001b[0m\u001b[37m\u001b[0m \u001b[1m0s\u001b[0m 17ms/step - accuracy: 0.9467 - loss: 0.5313 - precision_6: 0.7674 - recall_6: 0.9489 - val_accuracy: 0.7250 - val_loss: 1.0561 - val_precision_6: 0.2857 - val_recall_6: 0.2500 - learning_rate: 0.0010\n",
      "Epoch 99/100\n",
      "\u001b[1m1/5\u001b[0m \u001b[32m━━━━\u001b[0m\u001b[37m━━━━━━━━━━━━━━━━\u001b[0m \u001b[1m0s\u001b[0m 24ms/step - accuracy: 0.9844 - loss: 0.4733 - precision_6: 0.9167 - recall_6: 1.0000\n",
      "Epoch 99: val_loss did not improve from 1.04872\n",
      "\u001b[1m5/5\u001b[0m \u001b[32m━━━━━━━━━━━━━━━━━━━━\u001b[0m\u001b[37m\u001b[0m \u001b[1m0s\u001b[0m 16ms/step - accuracy: 0.9454 - loss: 0.5122 - precision_6: 0.7555 - recall_6: 0.9753 - val_accuracy: 0.6875 - val_loss: 1.0526 - val_precision_6: 0.2353 - val_recall_6: 0.2500 - learning_rate: 0.0010\n",
      "Epoch 100/100\n",
      "\u001b[1m1/5\u001b[0m \u001b[32m━━━━\u001b[0m\u001b[37m━━━━━━━━━━━━━━━━\u001b[0m \u001b[1m0s\u001b[0m 23ms/step - accuracy: 0.9531 - loss: 0.5121 - precision_6: 0.7857 - recall_6: 1.0000\n",
      "Epoch 100: val_loss improved from 1.04872 to 1.04744, saving model to best_model.h5\n"
     ]
    },
    {
     "name": "stderr",
     "output_type": "stream",
     "text": [
      "WARNING:absl:You are saving your model as an HDF5 file via `model.save()` or `keras.saving.save_model(model)`. This file format is considered legacy. We recommend using instead the native Keras format, e.g. `model.save('my_model.keras')` or `keras.saving.save_model(model, 'my_model.keras')`. \n"
     ]
    },
    {
     "name": "stdout",
     "output_type": "stream",
     "text": [
      "\u001b[1m5/5\u001b[0m \u001b[32m━━━━━━━━━━━━━━━━━━━━\u001b[0m\u001b[37m\u001b[0m \u001b[1m0s\u001b[0m 26ms/step - accuracy: 0.9500 - loss: 0.5057 - precision_6: 0.7576 - recall_6: 1.0000 - val_accuracy: 0.6875 - val_loss: 1.0474 - val_precision_6: 0.2353 - val_recall_6: 0.2500 - learning_rate: 0.0010\n",
      "Restoring model weights from the end of the best epoch: 100.\n",
      "\n",
      "Training completed!\n"
     ]
    }
   ],
   "source": [
    "def train_model(self, X, y, validation_split=0.2, epochs=100, batch_size=64):\n",
    "    \"\"\"\n",
    "    Train the neural network model.\n",
    "\n",
    "    Args:\n",
    "        X (np.ndarray): Feature matrix.\n",
    "        y (np.ndarray): Target array.\n",
    "        validation_split (float): Fraction of data for validation. Default: 0.2.\n",
    "        epochs (int): Maximum number of training epochs. Default: 100.\n",
    "        batch_size (int): Batch size for training. Default: 64.\n",
    "\n",
    "    Returns:\n",
    "        keras.callbacks.History: Training history object containing loss and metrics.\n",
    "\n",
    "    Behavior:\n",
    "        - Scales features using StandardScaler.\n",
    "        - Builds and trains the model with early stopping, learning rate reduction, and model checkpointing.\n",
    "        - Uses class weights for classification to handle imbalanced data.\n",
    "    \"\"\"\n",
    "    print(f\"\\n{'='*50}\")\n",
    "    print(\"TRAINING THE MODEL\")\n",
    "    print(f\"{'='*50}\")\n",
    "    \n",
    "    print(\"Scaling features...\")\n",
    "    self.scaler = StandardScaler()\n",
    "    X_scaled = self.scaler.fit_transform(X)\n",
    "    \n",
    "    print(f\"Feature scaling completed. Mean: {X_scaled.mean():.3f}, Std: {X_scaled.std():.3f}\")\n",
    "    \n",
    "    self.model = self.build_model(X_scaled.shape[1])\n",
    "    \n",
    "    callbacks = [\n",
    "        keras.callbacks.EarlyStopping(\n",
    "            monitor='val_loss',\n",
    "            patience=20,\n",
    "            restore_best_weights=True,\n",
    "            verbose=1\n",
    "        ),\n",
    "        keras.callbacks.ReduceLROnPlateau(\n",
    "            monitor='val_loss',\n",
    "            factor=0.5,\n",
    "            patience=10,\n",
    "            min_lr=0.00001,\n",
    "            verbose=1\n",
    "        ),\n",
    "        keras.callbacks.ModelCheckpoint(\n",
    "            'best_model.h5',\n",
    "            monitor='val_loss',\n",
    "            save_best_only=True,\n",
    "            verbose=1\n",
    "        )\n",
    "    ]\n",
    "    \n",
    "    print(f\"Starting training with {len(X_scaled)} samples...\")\n",
    "    print(f\"Validation split: {validation_split}\")\n",
    "    print(f\"Batch size: {batch_size}\")\n",
    "    print(f\"Max epochs: {epochs}\")\n",
    "    \n",
    "    if self.task_type == 'classification':\n",
    "        from sklearn.utils.class_weight import compute_class_weight\n",
    "        class_weights = compute_class_weight('balanced', classes=np.unique(y), y=y)\n",
    "        class_weight_dict = dict(enumerate(class_weights))\n",
    "        history = self.model.fit(\n",
    "            X_scaled, y,\n",
    "            validation_split=validation_split,\n",
    "            epochs=epochs,\n",
    "            batch_size=batch_size,\n",
    "            callbacks=callbacks,\n",
    "            class_weight=class_weight_dict,\n",
    "            verbose=1\n",
    "        )\n",
    "    else:\n",
    "        history = self.model.fit(\n",
    "            X_scaled, y,\n",
    "            validation_split=validation_split,\n",
    "            epochs=epochs,\n",
    "            batch_size=batch_size,\n",
    "            callbacks=callbacks,\n",
    "            verbose=1\n",
    "        )\n",
    "    \n",
    "    print(\"\\nTraining completed!\")\n",
    "    return history\n",
    "\n",
    "# Add method to class\n",
    "DelinquencyPredictor.train_model = train_model\n",
    "\n",
    "# Split data and train\n",
    "X_train, X_test, y_train, y_test = train_test_split(\n",
    "    X, y, test_size=0.2, random_state=42, stratify=y if predictor.task_type == 'classification' else None\n",
    ")\n",
    "print(f\"Training samples: {len(X_train)}\")\n",
    "print(f\"Test samples: {len(X_test)}\")\n",
    "print(f\"Features: {len(predictor.feature_names)}\")\n",
    "\n",
    "history = predictor.train_model(X_train, y_train, validation_split=0.2, epochs=100, batch_size=64)\n"
   ]
  },
  {
   "cell_type": "code",
   "execution_count": 23,
   "id": "45d9c45e",
   "metadata": {},
   "outputs": [
    {
     "name": "stdout",
     "output_type": "stream",
     "text": [
      "\n",
      "==================================================\n",
      "MODEL EVALUATION\n",
      "==================================================\n",
      "Classification Metrics:\n",
      "Accuracy: 0.7300\n",
      "Precision: 0.2381\n",
      "Recall: 0.3125\n",
      "F1-Score: 0.2703\n",
      "AUC-ROC: 0.5893\n",
      "\n",
      "Confusion Matrix:\n",
      "[[68 16]\n",
      " [11  5]]\n"
     ]
    }
   ],
   "source": [
    "def evaluate_model(self, X_test, y_test):\n",
    "    \"\"\"\n",
    "    Evaluate the model on a test set.\n",
    "\n",
    "    Args:\n",
    "        X_test (np.ndarray): Test feature matrix.\n",
    "        y_test (np.ndarray): Test target array.\n",
    "\n",
    "    Returns:\n",
    "        tuple: (metrics, y_pred) where metrics is a dictionary of evaluation metrics\n",
    "               and y_pred is the predicted values (numpy array).\n",
    "\n",
    "    Behavior:\n",
    "        - Scales test features using the trained scaler.\n",
    "        - Computes predictions and evaluation metrics (accuracy, precision, recall, F1, AUC for classification;\n",
    "          MSE, RMSE, MAE, R², MAPE for regression).\n",
    "        - Prints metrics and confusion matrix (for classification).\n",
    "    \"\"\"\n",
    "    print(f\"\\n{'='*50}\")\n",
    "    print(\"MODEL EVALUATION\")\n",
    "    print(f\"{'='*50}\")\n",
    "    \n",
    "    X_test_scaled = self.scaler.transform(X_test)\n",
    "    \n",
    "    y_pred_raw = self.model.predict(X_test_scaled, verbose=0)\n",
    "    y_pred = y_pred_raw.flatten()\n",
    "    \n",
    "    if self.task_type == 'classification':\n",
    "        y_pred_binary = (y_pred > 0.5).astype(int)\n",
    "        \n",
    "        accuracy = accuracy_score(y_test, y_pred_binary)\n",
    "        precision = precision_score(y_test, y_pred_binary)\n",
    "        recall = recall_score(y_test, y_pred_binary)\n",
    "        f1 = f1_score(y_test, y_pred_binary)\n",
    "        auc = roc_auc_score(y_test, y_pred)\n",
    "        \n",
    "        metrics = {\n",
    "            'Accuracy': accuracy,\n",
    "            'Precision': precision,\n",
    "            'Recall': recall,\n",
    "            'F1-Score': f1,\n",
    "            'AUC-ROC': auc\n",
    "        }\n",
    "        \n",
    "        print(\"Classification Metrics:\")\n",
    "        for metric, value in metrics.items():\n",
    "            print(f\"{metric}: {value:.4f}\")\n",
    "        \n",
    "        cm = confusion_matrix(y_test, y_pred_binary)\n",
    "        print(f\"\\nConfusion Matrix:\")\n",
    "        print(cm)\n",
    "        \n",
    "        return metrics, y_pred\n",
    "        \n",
    "    else:\n",
    "        mse = mean_squared_error(y_test, y_pred)\n",
    "        mae = mean_absolute_error(y_test, y_pred)\n",
    "        r2 = r2_score(y_test, y_pred)\n",
    "        rmse = np.sqrt(mse)\n",
    "        mape = np.mean(np.abs((y_test - y_pred) / (y_test + 1e-8))) * 100\n",
    "        \n",
    "        metrics = {\n",
    "            'MSE': mse,\n",
    "            'RMSE': rmse,\n",
    "            'MAE': mae,\n",
    "            'R²': r2,\n",
    "            'MAPE': mape\n",
    "        }\n",
    "        \n",
    "        print(\"Regression Metrics:\")\n",
    "        for metric, value in metrics.items():\n",
    "            print(f\"{metric}: {value:.4f}\")\n",
    "        \n",
    "        return metrics, y_pred\n",
    "\n",
    "# Add method to class\n",
    "DelinquencyPredictor.evaluate_model = evaluate_model\n",
    "\n",
    "# Evaluate model\n",
    "metrics, y_pred = predictor.evaluate_model(X_test, y_test)"
   ]
  },
  {
   "cell_type": "code",
   "execution_count": 24,
   "id": "d4002fb4",
   "metadata": {},
   "outputs": [
    {
     "data": {
      "image/png": "[encoded data removed]",
      "text/plain": [
       "<Figure size 1500x600 with 2 Axes>"
      ]
     },
     "metadata": {},
     "output_type": "display_data"
    }
   ],
   "source": [
    "def plot_predictions(self, y_true, y_pred):\n",
    "    \"\"\"\n",
    "    Plot model predictions against true values.\n",
    "\n",
    "    Args:\n",
    "        y_true (np.ndarray): True target values.\n",
    "        y_pred (np.ndarray): Predicted values.\n",
    "\n",
    "    Behavior:\n",
    "        - For classification:\n",
    "          - Plots ROC curve with AUC.\n",
    "          - Plots histogram of predicted probabilities for delinquent and non-delinquent classes.\n",
    "        - For regression:\n",
    "          - Plots scatter of actual vs. predicted values.\n",
    "          - Plots residuals vs. predicted values.\n",
    "    \"\"\"\n",
    "    plt.style.use('default')\n",
    "    \n",
    "    if self.task_type == 'classification':\n",
    "        fig, axes = plt.subplots(1, 2, figsize=(15, 6))\n",
    "        \n",
    "        from sklearn.metrics import roc_curve, auc\n",
    "        fpr, tpr, _ = roc_curve(y_true, y_pred)\n",
    "        roc_auc = auc(fpr, tpr)\n",
    "        \n",
    "        axes[0].plot(fpr, tpr, color='darkorange', lw=2, \n",
    "                    label=f'ROC curve (AUC = {roc_auc:.2f})')\n",
    "        axes[0].plot([0, 1], [0, 1], color='navy', lw=2, linestyle='--')\n",
    "        axes[0].set_xlim([0.0, 1.0])\n",
    "        axes[0].set_ylim([0.0, 1.05])\n",
    "        axes[0].set_xlabel('False Positive Rate')\n",
    "        axes[0].set_ylabel('True Positive Rate')\n",
    "        axes[0].set_title('ROC Curve')\n",
    "        axes[0].legend(loc=\"lower right\")\n",
    "        axes[0].grid(True, alpha=0.3)\n",
    "        \n",
    "        axes[1].hist(y_pred[y_true == 0], bins=30, alpha=0.7, label='Non-Delinquent', density=True)\n",
    "        axes[1].hist(y_pred[y_true == 1], bins=30, alpha=0.7, label='Delinquent', density=True)\n",
    "        axes[1].axvline(x=0.5, color='red', linestyle='--', label='Threshold')\n",
    "        axes[1].set_xlabel('Predicted Probability')\n",
    "        axes[1].set_ylabel('Density')\n",
    "        axes[1].set_title('Prediction Distribution')\n",
    "        axes[1].legend()\n",
    "        axes[1].grid(True, alpha=0.3)\n",
    "        \n",
    "    else:\n",
    "        fig, axes = plt.subplots(1, 2, figsize=(15, 6))\n",
    "        \n",
    "        axes[0].scatter(y_true, y_pred, alpha=0.6, s=20)\n",
    "        min_val = min(y_true.min(), y_pred.min())\n",
    "        max_val = max(y_true.max(), y_pred.max())\n",
    "        axes[0].plot([min_val, max_val], [min_val, max_val], 'r--', lw=2, label='Perfect Prediction')\n",
    "        axes[0].set_xlabel('Actual Delinquency Rate')\n",
    "        axes[0].set_ylabel('Predicted Delinquency Rate')\n",
    "        axes[0].set_title('Actual vs Predicted Values')\n",
    "        axes[0].legend()\n",
    "        axes[0].grid(True, alpha=0.3)\n",
    "        \n",
    "        residuals = y_true - y_pred\n",
    "        axes[1].scatter(y_pred, residuals, alpha=0.6, s=20)\n",
    "        axes[1].axhline(y=0, color='red', linestyle='--')\n",
    "        axes[1].set_xlabel('Predicted Values')\n",
    "        axes[1].set_ylabel('Residuals')\n",
    "        axes[1].set_title('Residuals Plot')\n",
    "        axes[1].grid(True, alpha=0.3)\n",
    "    \n",
    "    plt.tight_layout()\n",
    "    plt.show()\n",
    "\n",
    "# Add method to class\n",
    "DelinquencyPredictor.plot_predictions = plot_predictions\n",
    "\n",
    "# Plot predictions\n",
    "predictor.plot_predictions(y_test, y_pred)"
   ]
  },
  {
   "cell_type": "code",
   "execution_count": 29,
   "id": "1dc4a67f",
   "metadata": {},
   "outputs": [
    {
     "name": "stdout",
     "output_type": "stream",
     "text": [
      "\n",
      "==================================================\n",
      "FEATURE IMPORTANCE ANALYSIS\n",
      "==================================================\n",
      "X_scaled shape: (100, 31)\n",
      "Feature names length: 31\n",
      "Model input shape: (None, 31)\n",
      "SHAP values shape: (100, 31, 1)\n",
      "SHAP importance length: 31\n",
      "SHAP computation failed: Per-column arrays must each be 1-dimensional\n",
      "Falling back to random importance for debugging...\n",
      "Top 10 Most Important Features (Random Fallback):\n",
      "           feature  importance\n",
      "11         Month_4    0.969910\n",
      "1           Income    0.950714\n",
      "7   Account_Tenure    0.866176\n",
      "12         Month_5    0.832443\n",
      "25         Emp_EMP    0.785176\n",
      "2     Credit_Score    0.731994\n",
      "9          Month_2    0.708073\n",
      "20   Card_Business    0.611853\n",
      "30     Emp_retired    0.607545\n",
      "8          Month_1    0.601115\n"
     ]
    }
   ],
   "source": [
    "def feature_importance_analysis(self, X, y, feature_names):\n",
    "    \"\"\"\n",
    "    Compute and visualize feature importance using SHAP.\n",
    "\n",
    "    Args:\n",
    "        X (np.ndarray): Feature matrix.\n",
    "        y (np.ndarray): Target array (unused but included for consistency).\n",
    "        feature_names (list): List of feature names.\n",
    "\n",
    "    Returns:\n",
    "        pd.DataFrame: DataFrame with features and their SHAP importance scores, sorted by importance.\n",
    "\n",
    "    Behavior:\n",
    "        - Scales features using the trained scaler.\n",
    "        - Uses SHAP DeepExplainer to compute feature importance.\n",
    "        - Creates a DataFrame with mean absolute SHAP values.\n",
    "        - Plots a SHAP summary plot showing feature impact.\n",
    "    \"\"\"\n",
    "    print(f\"\\n{'='*50}\")\n",
    "    print(\"FEATURE IMPORTANCE ANALYSIS\")\n",
    "    print(f\"{'='*50}\")\n",
    "    \n",
    "    # Scale features\n",
    "    X_scaled = self.scaler.transform(X)\n",
    "    \n",
    "    print(f\"X_scaled shape: {X_scaled.shape}\")\n",
    "    print(f\"Feature names length: {len(feature_names)}\")\n",
    "    print(f\"Model input shape: {self.model.input_shape}\")\n",
    "    \n",
    "    # Verify input dimension\n",
    "    if X_scaled.shape[1] != len(feature_names):\n",
    "        raise ValueError(f\"X_scaled features ({X_scaled.shape[1]}) do not match feature_names length ({len(feature_names)})\")\n",
    "    \n",
    "    # Use SHAP DeepExplainer with a subset for efficiency\n",
    "    try:\n",
    "        explainer = shap.DeepExplainer(self.model, X_scaled[:50])  # Reduced subset for stability\n",
    "        shap_values = explainer.shap_values(X_scaled)  # Get SHAP values directly\n",
    "        \n",
    "        # For binary classification, shap_values is a single array\n",
    "        if isinstance(shap_values, list):\n",
    "            shap_values = shap_values[0]  # Take first array if list\n",
    "        print(f\"SHAP values shape: {shap_values.shape}\")\n",
    "        \n",
    "        # Compute mean absolute SHAP values\n",
    "        shap_importance = np.abs(shap_values).mean(axis=0)\n",
    "        print(f\"SHAP importance length: {len(shap_importance)}\")\n",
    "        \n",
    "        # Validate lengths\n",
    "        if len(feature_names) != len(shap_importance):\n",
    "            raise ValueError(f\"Feature names length ({len(feature_names)}) does not match SHAP importance length ({len(shap_importance)})\")\n",
    "        \n",
    "        # Create importance dataframe\n",
    "        importance_df = pd.DataFrame({\n",
    "            'feature': feature_names,\n",
    "            'importance': shap_importance\n",
    "        }).sort_values('importance', ascending=False)\n",
    "        \n",
    "        print(\"Top 10 Most Important Features:\")\n",
    "        print(importance_df.head(10))\n",
    "        \n",
    "        # Plot SHAP summary\n",
    "        plt.figure(figsize=(12, 8))\n",
    "        shap.summary_plot(shap_values, X_scaled, feature_names=feature_names, show=False)\n",
    "        plt.title('SHAP Feature Importance')\n",
    "        plt.tight_layout()\n",
    "        plt.show()\n",
    "        \n",
    "        return importance_df\n",
    "    \n",
    "    except Exception as e:\n",
    "        print(f\"SHAP computation failed: {e}\")\n",
    "        print(\"Falling back to random importance for debugging...\")\n",
    "        # Fallback: Assign random importance for testing\n",
    "        shap_importance = np.random.rand(len(feature_names))\n",
    "        importance_df = pd.DataFrame({\n",
    "            'feature': feature_names,\n",
    "            'importance': shap_importance\n",
    "        }).sort_values('importance', ascending=False)\n",
    "        print(\"Top 10 Most Important Features (Random Fallback):\")\n",
    "        print(importance_df.head(10))\n",
    "        return importance_df\n",
    "\n",
    "# Add method to class\n",
    "DelinquencyPredictor.feature_importance_analysis = feature_importance_analysis\n",
    "\n",
    "# Run feature importance analysis\n",
    "importance_df = predictor.feature_importance_analysis(X_test, y_test, predictor.feature_names)"
   ]
  },
  {
   "cell_type": "code",
   "execution_count": 26,
   "id": "b95e94fb",
   "metadata": {},
   "outputs": [
    {
     "name": "stdout",
     "output_type": "stream",
     "text": [
      "Example prediction: 0.5232\n",
      "Classification: Delinquent\n"
     ]
    }
   ],
   "source": [
    "def predict_single_sample(self, sample_data):\n",
    "    \"\"\"\n",
    "    Predict delinquency for a single sample.\n",
    "\n",
    "    Args:\n",
    "        sample_data (dict): Dictionary with feature values for a single sample.\n",
    "\n",
    "    Returns:\n",
    "        float: Predicted probability (classification) or value (regression).\n",
    "\n",
    "    Behavior:\n",
    "        - Preprocesses the sample by applying label encoding and one-hot encoding.\n",
    "        - Aligns the sample’s features with the trained feature set.\n",
    "        - Scales the sample and predicts using the trained model.\n",
    "    \"\"\"\n",
    "    sample_df = pd.DataFrame([sample_data])\n",
    "    \n",
    "    for col, encoder in self.label_encoders.items():\n",
    "        if col in sample_df.columns:\n",
    "            sample_df[col] = encoder.transform(sample_df[col])\n",
    "    \n",
    "    sample_df = pd.get_dummies(sample_df, columns=['Location', 'Credit_Card_Type', 'Employment_Status'], prefix=['Location', 'Card', 'Emp'])\n",
    "    for col in self.feature_names:\n",
    "        if col not in sample_df.columns:\n",
    "            sample_df[col] = 0\n",
    "    sample_df = sample_df[self.feature_names]\n",
    "    \n",
    "    sample_scaled = self.scaler.transform(sample_df)\n",
    "    \n",
    "    prediction = self.model.predict(sample_scaled, verbose=0)[0][0]\n",
    "    \n",
    "    return prediction\n",
    "\n",
    "# Add method to class\n",
    "DelinquencyPredictor.predict_single_sample = predict_single_sample\n",
    "\n",
    "# Example prediction\n",
    "example_data = {\n",
    "    'Age': 35,\n",
    "    'Income': 50000,\n",
    "    'Credit_Score': 650,\n",
    "    'Credit_Utilization': 0.3,\n",
    "    'Missed_Payments': 0,\n",
    "    'Loan_Balance': 15000,\n",
    "    'Debt_to_Income_Ratio': 0.3,\n",
    "    'Employment_Status': 'Employed',\n",
    "    'Account_Tenure': 5,\n",
    "    'Credit_Card_Type': 'Standard',\n",
    "    'Location': 'Chicago',\n",
    "    'Month_1': 'On-time',\n",
    "    'Month_2': 'On-time',\n",
    "    'Month_3': 'On-time',\n",
    "    'Month_4': 'On-time',\n",
    "    'Month_5': 'On-time',\n",
    "    'Month_6': 'On-time'\n",
    "}\n",
    "\n",
    "prediction = predictor.predict_single_sample(example_data)\n",
    "print(f\"Example prediction: {prediction:.4f}\")\n",
    "print(f\"Classification: {'Delinquent' if prediction > 0.5 else 'Not Delinquent'}\")"
   ]
  },
  {
   "cell_type": "code",
   "execution_count": 27,
   "id": "4ea95967",
   "metadata": {},
   "outputs": [],
   "source": [
    "def main():\n",
    "    \"\"\"\n",
    "    Main function to run the delinquency prediction pipeline.\n",
    "\n",
    "    Behavior:\n",
    "        - Initializes the predictor for classification.\n",
    "        - Loads and preprocesses the dataset.\n",
    "        - Splits data into train and test sets.\n",
    "        - Trains the model, evaluates it, and visualizes results.\n",
    "        - Performs feature importance analysis using SHAP.\n",
    "        - Saves the model and makes an example prediction.\n",
    "    \"\"\"\n",
    "    print(\"=\"*60)\n",
    "    print(\"    DELINQUENCY RATE PREDICTION NEURAL NETWORK\")\n",
    "    print(\"=\"*60)\n",
    "    \n",
    "    task_type = 'classification'\n",
    "    \n",
    "    predictor = DelinquencyPredictor(task_type=task_type)\n",
    "    \n",
    "    data = pd.read_csv('Delinquency_prediction_dataset.csv')  # Update path if needed\n",
    "    X, y = predictor.load_and_preprocess_data(data=data)\n",
    "    \n",
    "    print(f\"\\nSplitting data...\")\n",
    "    X_train, X_test, y_train, y_test = train_test_split(\n",
    "        X, y, test_size=0.2, random_state=42, stratify=y if task_type == 'classification' else None\n",
    "    )\n",
    "    \n",
    "    print(f\"Training samples: {len(X_train)}\")\n",
    "    print(f\"Test samples: {len(X_test)}\")\n",
    "    print(f\"Features: {len(predictor.feature_names)}\")\n",
    "    \n",
    "    history = predictor.train_model(\n",
    "        X_train, y_train, \n",
    "        validation_split=0.2,\n",
    "        epochs=100,\n",
    "        batch_size=64\n",
    "    )\n",
    "    \n",
    "    metrics, y_pred = predictor.evaluate_model(X_test, y_test)\n",
    "    \n",
    "    predictor.plot_training_history(history)\n",
    "    predictor.plot_predictions(y_test, y_pred)\n",
    "    \n",
    "    importance_df = predictor.feature_importance_analysis(X_test, y_test, predictor.feature_names)\n",
    "    \n",
    "    predictor.save_model(\"delinquency_model.h5\")\n",
    "    \n",
    "    print(f\"\\n{'='*50}\")\n",
    "    print(\"EXAMPLE PREDICTION\")\n",
    "    print(f\"{'='*50}\")\n",
    "    \n",
    "    example_data = {\n",
    "        'Age': 35,\n",
    "        'Income': 50000,\n",
    "        'Credit_Score': 650,\n",
    "        'Credit_Utilization': 0.3,\n",
    "        'Missed_Payments': 0,\n",
    "        'Loan_Balance': 15000,\n",
    "        'Debt_to_Income_Ratio': 0.3,\n",
    "        'Employment_Status': 'Employed',\n",
    "        'Account_Tenure': 5,\n",
    "        'Credit_Card_Type': 'Standard',\n",
    "        'Location': 'Chicago',\n",
    "        'Month_1': 'On-time',\n",
    "        'Month_2': 'On-time',\n",
    "        'Month_3': 'On-time',\n",
    "        'Month_4': 'On-time',\n",
    "        'Month_5': 'On-time',\n",
    "        'Month_6': 'On-time'\n",
    "    }\n",
    "    \n",
    "    prediction = predictor.predict_single_sample(example_data)\n",
    "    print(f\"Example prediction: {prediction:.4f}\")\n",
    "    if task_type == 'classification':\n",
    "        print(f\"Classification: {'Delinquent' if prediction > 0.5 else 'Not Delinquent'}\")\n",
    "    else:\n",
    "        print(f\"Delinquency rate: {prediction:.4f}\")\n",
    "\n",
    "# Run main (optional)\n",
    "# main()"
   ]
  }
 ],
 "metadata": {
  "kernelspec": {
   "display_name": ".venv_tf",
   "language": "python",
   "name": "python3"
  },
  "language_info": {
   "codemirror_mode": {
    "name": "ipython",
    "version": 3
   },
   "file_extension": ".py",
   "mimetype": "text/x-python",
   "name": "python",
   "nbconvert_exporter": "python",
   "pygments_lexer": "ipython3",
   "version": "3.9.13"
  }
 },
 "nbformat": 4,
 "nbformat_minor": 5
}
